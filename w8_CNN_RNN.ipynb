{
  "cells": [
    {
      "cell_type": "markdown",
      "id": "36b2d462",
      "metadata": {
        "id": "36b2d462"
      },
      "source": [
        "# COMP4318/5318 Week 8:\n",
        "# Convolutional Neural Networks and Recurrent Neural Networks"
      ]
    },
    {
      "cell_type": "markdown",
      "id": "41731741",
      "metadata": {
        "id": "41731741"
      },
      "source": [
        "While the multilayer perceptron networks from the previous lab can be very powerful, they have limitations on particular tasks.\n",
        "\n",
        "In an MLP trained on an image task, we learn weights between every input neuron (eg. every pixel position) and the neurons in the next layer. However, if we wish to detect features of different sizes, angles and positions in the image, it can be difficult to learn weights for each input pixel position. Moreover, using fully connected layers quickly leads to an explosion in the number of parameters in the network as the input image size grows.\n",
        "\n",
        "Today, we will introduce the implementation of basic convolutional neural networks (CNNs), which are deep neural networks specifically designed to better **capture spatial relationships between regions of neigbouring pixels** and extract features from images in a manner loosely inspired by the visual cortex."
      ]
    },
    {
      "cell_type": "markdown",
      "source": [
        "<img src=\"https://miro.medium.com/v2/resize:fit:1400/1*pglEhPlTN9yjBM2BGxHJ-A.jpeg\" width=500>"
      ],
      "metadata": {
        "id": "zHPP8yHqmt4c"
      },
      "id": "zHPP8yHqmt4c"
    },
    {
      "cell_type": "markdown",
      "source": [
        "MLPs are also not optimised to handle sequence data, since they process all inputs in the same manner **without any distinction of order**. In the second part of today's lab, we will introduce the implementation of recurrent neural networks (RNNs) which are specifically designed to process temporal data."
      ],
      "metadata": {
        "id": "EkugKylM9YN3"
      },
      "id": "EkugKylM9YN3"
    },
    {
      "cell_type": "markdown",
      "id": "0c86feea",
      "metadata": {
        "id": "0c86feea"
      },
      "source": [
        "## 1. Setup\n",
        "We begin by importing some packages used throughout the notebook and setting up our plotting environment."
      ]
    },
    {
      "cell_type": "code",
      "execution_count": null,
      "id": "77cb645c",
      "metadata": {
        "id": "77cb645c"
      },
      "outputs": [],
      "source": [
        "import sys\n",
        "import numpy as np\n",
        "import pandas as pd\n",
        "import matplotlib.pyplot as plt\n",
        "import sklearn\n",
        "import time\n",
        "\n",
        "# Import our deep learning libraries which were installed last week\n",
        "import tensorflow as tf\n",
        "from tensorflow import keras\n",
        "\n",
        "from sklearn.model_selection import train_test_split\n",
        "\n",
        "# Make the notebook's output stable across runs\n",
        "np.random.seed(42)\n",
        "tf.random.set_seed(42)\n",
        "keras.backend.clear_session()\n",
        "\n",
        "# Set up inline plotting and figure/axis labels\n",
        "%matplotlib inline\n",
        "import matplotlib as mpl\n",
        "import matplotlib.pyplot as plt\n",
        "mpl.rc('axes', labelsize=14)\n",
        "mpl.rc('xtick', labelsize=12)\n",
        "mpl.rc('ytick', labelsize=12)\n",
        "\n",
        "def plot_image(image):\n",
        "    plt.imshow(image, cmap=\"gray\", interpolation=\"nearest\")\n",
        "    plt.axis(\"off\")\n",
        "\n",
        "def plot_color_image(image):\n",
        "    plt.imshow(image, interpolation=\"nearest\")\n",
        "    plt.axis(\"off\")\n",
        "\n",
        "def plot_examples(data, n_rows=4, n_cols=10):\n",
        "    \"\"\"Plot a grid of images which are encoded as numpy arrays.\"\"\"\n",
        "\n",
        "    # Size figure depending on the size of the grid\n",
        "    plt.figure(figsize=(n_cols * 1.2, n_rows * 1.2))\n",
        "\n",
        "    for row in range(n_rows):\n",
        "        for col in range(n_cols):\n",
        "\n",
        "            # Get next index of image\n",
        "            index = n_cols * row + col\n",
        "\n",
        "            # Plot the image at appropriate place in grid\n",
        "            plt.subplot(n_rows, n_cols, index + 1)\n",
        "            plt.imshow(data[index], cmap=\"binary\")\n",
        "            plt.axis('off')\n",
        "\n",
        "    plt.show()"
      ]
    },
    {
      "cell_type": "markdown",
      "id": "f47714a5",
      "metadata": {
        "id": "f47714a5"
      },
      "source": [
        "## 2. Convolutional Neural Network using Keras"
      ]
    },
    {
      "cell_type": "markdown",
      "source": [
        "To introduce you to the implementation of convolutional neural networks using Keras, we will begin by solving the now familiar [MNIST](http://yann.lecun.com/exdb/mnist/) problem. This will give us a useful point of comparison to the MLP we used on this task last week. Also, a small network will suffice for this task, which is important when we wish to run the lab on our local hardware where GPUs may not be available.\n",
        "\n",
        "### Data loading and preprocessing\n",
        "Let's begin with the same data preparation steps as last week, condensed into the following cell:"
      ],
      "metadata": {
        "id": "yOzNFIbqmE2m"
      },
      "id": "yOzNFIbqmE2m"
    },
    {
      "cell_type": "code",
      "execution_count": null,
      "id": "762ce2a2",
      "metadata": {
        "id": "762ce2a2",
        "outputId": "7a1f603f-8838-4446-e9de-633c0ba72087"
      },
      "outputs": [
        {
          "name": "stdout",
          "output_type": "stream",
          "text": [
            "Shape of X_train: (54000, 28, 28)\n"
          ]
        }
      ],
      "source": [
        "# Load the MNIST data\n",
        "(X_train_full, y_train_full), (X_test, y_test) = keras.datasets.mnist.load_data()\n",
        "\n",
        "# Scale the data to the range 0-1\n",
        "X_train_full = X_train_full / 255.\n",
        "X_test = X_test / 255.\n",
        "\n",
        "# Create validation set from the training set\n",
        "X_train, X_valid, y_train, y_valid = train_test_split(X_train_full, y_train_full, train_size=0.9)\n",
        "\n",
        "print(f\"Shape of X_train: {X_train.shape}\")"
      ]
    },
    {
      "cell_type": "markdown",
      "id": "5adeca6e",
      "metadata": {
        "id": "5adeca6e"
      },
      "source": [
        "Last week, we flattened each image into a vector before feeding it to the MLP. However, for input to CNNs we usually keep the original image dimensions intact since they will extract features from neighbouring pixel regions.\n",
        "\n",
        "In fact, most standard CNNs expect a 4 dimensional array as input:\n",
        "```(batch_size, width, height, n_channels)```\n",
        "\n",
        "The final dimension, ```n_channels```, corresponds to the number of values per image pixel. RGB colour images typically have three channels, with a value for the intensity of red, green, and blue primary colours. Combining these values can produce a broad array of colours.\n",
        "\n",
        "Recall that MNIST images are greyscale, so we only have one value per image pixel. While this makes the extra dimension somewhat redundant, our model will still expect it in the input. Let's add it using ```np.expand_dims```."
      ]
    },
    {
      "cell_type": "code",
      "execution_count": null,
      "id": "3ece1d42",
      "metadata": {
        "id": "3ece1d42",
        "outputId": "72ea48cc-90b4-411f-fda3-72a9ab707f66"
      },
      "outputs": [
        {
          "name": "stdout",
          "output_type": "stream",
          "text": [
            "New shape of X_train: (54000, 28, 28, 1)\n"
          ]
        }
      ],
      "source": [
        "# Add an extra dimension to our data\n",
        "X_train = np.expand_dims(X_train, -1)\n",
        "X_valid = np.expand_dims(X_valid, -1)\n",
        "X_test = np.expand_dims(X_test, -1)\n",
        "\n",
        "print(f\"New shape of X_train: {X_train.shape}\")"
      ]
    },
    {
      "cell_type": "markdown",
      "source": [
        "### A note on CNN architecture design"
      ],
      "metadata": {
        "id": "fo1YDQk190bn"
      },
      "id": "fo1YDQk190bn"
    },
    {
      "cell_type": "markdown",
      "source": [
        "<img src=\"https://miro.medium.com/v2/resize:fit:1400/1*7_BCJFzekmPXmJQVRdDgwg.png\" width=800>"
      ],
      "metadata": {
        "id": "P1hQFbntmFS-"
      },
      "id": "P1hQFbntmFS-"
    },
    {
      "cell_type": "markdown",
      "source": [
        "<img src=\"https://cdn-5f733ed3c1ac190fbc56ef88.closte.com/wp-content/uploads/2017/04/cnn1.png\" width=600>"
      ],
      "metadata": {
        "id": "UFCIDE9FxH2m"
      },
      "id": "UFCIDE9FxH2m"
    },
    {
      "cell_type": "markdown",
      "id": "64922290",
      "metadata": {
        "id": "64922290"
      },
      "source": [
        "Now that our data is prepared appropriately for input to a CNN, it is time to design our model.\n",
        "\n",
        "The problem of model design is no less difficult for CNNs than for MLPs. In fact, we introduce more possible decisions, as each convolutional layer has different possible number of filters, kernel sizes, strides, and padding. Additionally, modern CNNs are often very deep networks with more layers than are practically possible for MLPs.\n",
        "\n",
        "For problems where deep CNNs are required, it is common to use existing architectures as a starting point rather than design your own. These architectures have often been developed from extensive experimentation, and relieve a lot of the design burden, often requiring just some slight changes to the input or output layers to be fully functional on your dataset. You can find a variety of different architectures which differ in complexity, runtime, and performance. Several now classic architectures for image classification include:\n",
        "- [AlexNet](https://papers.nips.cc/paper/4824-imagenet-classification-with-deep-convolutional-neural-networks.pdf)\n",
        "- [VGG](https://arxiv.org/pdf/1409.1556.pdf)\n",
        "- [ResNet](https://arxiv.org/abs/1512.03385)\n",
        "\n",
        "Keras implementations for each are available from various sources, or you could try define your own from the papers!"
      ]
    },
    {
      "cell_type": "markdown",
      "source": [
        "<img src=\"https://www.researchgate.net/publication/345313795/figure/fig2/AS:954260854431745@1604524925679/CNN-architectures-of-a-AlexNet-b-VGG-16-c-VGG-19-d-ResNet-50-e-ResNet-101.png\" width=\"700\">"
      ],
      "metadata": {
        "id": "k1ATNoPhxsNe"
      },
      "id": "k1ATNoPhxsNe"
    },
    {
      "cell_type": "markdown",
      "source": [
        "#### Popular CNN Architectures"
      ],
      "metadata": {
        "id": "MDjjuxwS2LN-"
      },
      "id": "MDjjuxwS2LN-"
    },
    {
      "cell_type": "markdown",
      "source": [
        "(a) AlexNet\n",
        "\n",
        "(b) VGG-16\n",
        "\n",
        "(c) VGG-19\n",
        "\n",
        "(d) ResNet-50\n",
        "\n",
        "(e) ResNet-101\n",
        "\n",
        "(f) ResNet-152"
      ],
      "metadata": {
        "id": "7SebdANt2V0q"
      },
      "id": "7SebdANt2V0q"
    },
    {
      "cell_type": "markdown",
      "source": [
        "### Defining our CNN model\n",
        "These existing models have many layers and require a GPU to run efficiently. Instead, we will define a small, simple CNN which can run on our local hardware more efficiently, and still perform excellently at the MNIST problem.\n",
        "\n",
        "Let's define the model now using ```keras.Sequential``` and then we will unpack each component."
      ],
      "metadata": {
        "id": "gBEAlvrPAHUm"
      },
      "id": "gBEAlvrPAHUm"
    },
    {
      "cell_type": "code",
      "execution_count": null,
      "id": "f48a918d",
      "metadata": {
        "id": "f48a918d",
        "outputId": "89767ca6-7eb7-43bc-9b5b-fa3144ac69e8"
      },
      "outputs": [
        {
          "name": "stderr",
          "output_type": "stream",
          "text": [
            "2021-12-21 18:43:41.153154: I tensorflow/core/platform/cpu_feature_guard.cc:151] This TensorFlow binary is optimized with oneAPI Deep Neural Network Library (oneDNN) to use the following CPU instructions in performance-critical operations:  AVX2 FMA\n",
            "To enable them in other operations, rebuild TensorFlow with the appropriate compiler flags.\n"
          ]
        }
      ],
      "source": [
        "model = keras.Sequential([\n",
        "\n",
        "    # Specify the input shape\n",
        "    keras.Input(shape=(28, 28, 1)),\n",
        "\n",
        "    # Conv and pool block 1\n",
        "    keras.layers.Conv2D(32, kernel_size=(3, 3), activation=\"relu\"),\n",
        "    keras.layers.MaxPooling2D(pool_size=(2, 2)),\n",
        "\n",
        "    # Conv and pool block 2\n",
        "    keras.layers.Conv2D(64, kernel_size=(3, 3), activation=\"relu\"),\n",
        "    keras.layers.MaxPooling2D(pool_size=(2, 2)),\n",
        "\n",
        "    # Flatten and classify using dense output layer\n",
        "    keras.layers.Flatten(),\n",
        "    keras.layers.Dropout(0.5),\n",
        "    keras.layers.Dense(10, activation=\"softmax\"),\n",
        "])"
      ]
    },
    {
      "cell_type": "code",
      "execution_count": null,
      "id": "0c0eef1f",
      "metadata": {
        "scrolled": true,
        "id": "0c0eef1f",
        "outputId": "db8d7333-9bb6-4d7e-bc50-5de544a9cc00"
      },
      "outputs": [
        {
          "name": "stdout",
          "output_type": "stream",
          "text": [
            "Model: \"sequential\"\n",
            "_________________________________________________________________\n",
            " Layer (type)                Output Shape              Param #   \n",
            "=================================================================\n",
            " conv2d (Conv2D)             (None, 26, 26, 32)        320       \n",
            "                                                                 \n",
            " max_pooling2d (MaxPooling2D  (None, 13, 13, 32)       0         \n",
            " )                                                               \n",
            "                                                                 \n",
            " conv2d_1 (Conv2D)           (None, 11, 11, 64)        18496     \n",
            "                                                                 \n",
            " max_pooling2d_1 (MaxPooling  (None, 5, 5, 64)         0         \n",
            " 2D)                                                             \n",
            "                                                                 \n",
            " flatten (Flatten)           (None, 1600)              0         \n",
            "                                                                 \n",
            " dropout (Dropout)           (None, 1600)              0         \n",
            "                                                                 \n",
            " dense (Dense)               (None, 10)                16010     \n",
            "                                                                 \n",
            "=================================================================\n",
            "Total params: 34,826\n",
            "Trainable params: 34,826\n",
            "Non-trainable params: 0\n",
            "_________________________________________________________________\n"
          ]
        }
      ],
      "source": [
        "model.summary()"
      ]
    },
    {
      "cell_type": "markdown",
      "source": [
        "#### CNN Layers"
      ],
      "metadata": {
        "id": "NQ99DUYsFo3V"
      },
      "id": "NQ99DUYsFo3V"
    },
    {
      "cell_type": "markdown",
      "source": [
        "- __*Input layer*__\n",
        "\n",
        "For this model, we don't need to flatten the data at the beginning of the network. However, we use this layer to specify the expected input size, so that Keras can deduce the parameters in the rest of the model."
      ],
      "metadata": {
        "id": "_rL0iMLFCW9F"
      },
      "id": "_rL0iMLFCW9F"
    },
    {
      "cell_type": "markdown",
      "id": "27d4dfd8",
      "metadata": {
        "id": "27d4dfd8"
      },
      "source": [
        "- __*Convolutional layers*__: *Apply a filter kernel to an input to create a feature map that summarizes the presence of detected features in the input*\n",
        "\n",
        "These are the most important components of the CNN, and account for its name.\n",
        "\n",
        "As a brief recap, rather than being connected to every pixel in the input image, neurons in the first convolutional layer are connected to a small region of neighbouring pixels (their receptive field). Thus the output of these neurons is determined by low-level features picked up by the weights connected to its receptive field.\n",
        "\n",
        "In fact, we typically reuse multiple sets of weights for every neighbourhood of pixels to detect different features across the image. These sets of weights are called kernels or filters, and after training they will learn to pick up different features, such as lines and curves in the first conv layer.\n",
        "\n",
        "The next convolutional layer performs the same process, but will assemble the information about these low-level features to detect higher level features such as shapes. This hierarchical structure is loosely inspired by research into the visual cortex ([for the interested reader](https://www.nobelprize.org/prizes/medicine/1981/summary/)).\n",
        "\n",
        "Since each filter is applied to various regions in the image, we typically think about it striding across the input. The regions covered and number of neurons in the next layer are determined by the size of the kernel, the size of the strides we take, and the padding used around the borders of the input.\n",
        "\n",
        "The following gifs may help understand the concept:\n",
        "\n",
        "\n",
        "![Convolution_arithmetic_-_Padding_strides_odd.gif](https://upload.wikimedia.org/wikipedia/commons/2/2d/Convolution_arithmetic_-_Padding_strides_odd.gif)\n",
        "\n",
        "(Vincent Dumoulin, Francesco Visin, [MIT Licence <http://opensource.org/licenses/mit-license.php>], via Wikimedia Commons)"
      ]
    },
    {
      "cell_type": "markdown",
      "id": "2f2ed2d2",
      "metadata": {
        "id": "2f2ed2d2"
      },
      "source": [
        "![2D_Convolution_Animation.gif](https://upload.wikimedia.org/wikipedia/commons/1/19/2D_Convolution_Animation.gif)\n",
        "\n",
        "(Michael Plotke, [CC BY-SA 3.0](https://creativecommons.org/licenses/by-sa/3.0), via Wikimedia Commons)\n",
        "\n",
        "The Keras documentation for the ```Conv2D``` layer is located [here](https://keras.io/api/layers/convolution_layers/convolution2d/). We must specify the number of filters and the kernel size, as we have done above. Changing the stride and padding is also possible, however these are set to reasonable default values.\n",
        "\n",
        "Understanding the convolution operation can be difficult. For those interested in a more thorough explanation, there exist countless excellent tutorials online, and you may consult one of the course textbooks such as *Aurelien Geron (2019). Hands-on Machine Learning with Scikit-Learn, Keras and TensorFlow, O'Reilly.* Chapter 14, which is available online from the University library."
      ]
    },
    {
      "cell_type": "markdown",
      "source": [
        "Type of Kernels:\n",
        "\n",
        "  - *Blurring*: Produces a kernel in which the centered pixels contribute more information than those near the edges.\n",
        "  - *Sharpening*: Produces a kernel that sharpens the image and enhances its acutance.\n",
        "  - *Embossing*: Produces a kernel in which every pixel is replaced either by a highlight or a shadow.\n",
        "  - *Edge Detection*: Produces a kernel that identifies the edges within an image to detect the boundaries of objects in it.\n"
      ],
      "metadata": {
        "id": "8TmNZcN_QAeM"
      },
      "id": "8TmNZcN_QAeM"
    },
    {
      "cell_type": "markdown",
      "source": [
        "- __*Pooling layers*__: *down sampling feature maps by summarizing the presence of features in patches of the feature map*\n",
        "\n",
        "To reduce the number of parameters in the network, these layers downsample dimensions by taking the max value over input windows defined by ```pool_size```.\n",
        "\n",
        "- __*Fully connected classifier*__: *connects the information extracted from the previous steps (i.e Convolution layer and Pooling layers) to the output layer and eventually classifies the input into the desired label*\n",
        "\n",
        "After the features of the image have been appropriately extracted by the convolutional blocks of the network, we flatten everything and use a fully connected classifier to produce probabilities over the classes.\n",
        "\n",
        "Note that with only one fully connected layer, our overall number of parameters is much lower than for the MLP we used last week!"
      ],
      "metadata": {
        "id": "xy-JHkXdPOAp"
      },
      "id": "xy-JHkXdPOAp"
    },
    {
      "cell_type": "markdown",
      "source": [
        "https://adamharley.com/nn_vis/cnn/2d.html\n"
      ],
      "metadata": {
        "id": "XzpVAzVNAKzQ"
      },
      "id": "XzpVAzVNAKzQ"
    },
    {
      "cell_type": "markdown",
      "source": [
        "#### **Question**: How to compute the size and number of parameters for each conv layer?"
      ],
      "metadata": {
        "id": "4G1ZeMM9-93t"
      },
      "id": "4G1ZeMM9-93t"
    },
    {
      "cell_type": "markdown",
      "source": [
        "<img src=\"https://miro.medium.com/v2/resize:fit:960/1*P1p6ubyxUATVoI_fceandQ.png\" width=700>"
      ],
      "metadata": {
        "id": "4aA_izy1_EBz"
      },
      "id": "4aA_izy1_EBz"
    },
    {
      "cell_type": "markdown",
      "source": [
        "The number of parameters in a convolutional layer is calculated by:\n",
        "\n",
        "(Kernel Height × Kernel Width × Number of Input Channels + 1) × Number of Output Channels\n",
        "\n",
        "Example: (3 x 3 x 32 + 1) x 64 = 18496"
      ],
      "metadata": {
        "id": "3g8WzVdPBpOU"
      },
      "id": "3g8WzVdPBpOU"
    },
    {
      "cell_type": "markdown",
      "source": [
        "#### **Question**:  Why using ReLU activation functions?"
      ],
      "metadata": {
        "id": "tSH6MwRYDTYB"
      },
      "id": "tSH6MwRYDTYB"
    },
    {
      "cell_type": "markdown",
      "source": [
        "<img src=\"https://miro.medium.com/v2/resize:fit:977/1*xDzygf8IYn6OyRRN9qf0xQ.png\" width=600>"
      ],
      "metadata": {
        "id": "fqtGY4PQEtVS"
      },
      "id": "fqtGY4PQEtVS"
    },
    {
      "cell_type": "markdown",
      "source": [
        "#### **Question**: What is Dropout Layer?"
      ],
      "metadata": {
        "id": "QoiQuhfiFKpy"
      },
      "id": "QoiQuhfiFKpy"
    },
    {
      "cell_type": "markdown",
      "source": [
        "A regularization technique used in CNN (and other deep learning models) to help prevent overfitting.\n",
        "\n",
        "<img src=\"https://media.licdn.com/dms/image/D4D12AQF-TizWMkNOjw/article-cover_image-shrink_600_2000/0/1680169820167?e=2147483647&v=beta&t=4hNlPaPVSJYML7QJ1CHOrWZoBW_c5fdL7DVmY3PF3Mw\" width=600>"
      ],
      "metadata": {
        "id": "uuyRXq6cFmaS"
      },
      "id": "uuyRXq6cFmaS"
    },
    {
      "cell_type": "markdown",
      "id": "0df7336d",
      "metadata": {
        "id": "0df7336d"
      },
      "source": [
        "### Specifying the optimiser and loss function\n",
        "While a thorough treatment of different deep learning optimisers is beyond the scope of this course, today we will utilise the Adam optimiser ([paper](https://arxiv.org/abs/1412.6980)) ([Keras docs](https://keras.io/api/optimizers/adam/)), which extends on regular SGD by adapting the learning rates for individual parameters throughout training. Having these adaptive learning rates can greatly speed up our training process, and removes some of the importance of tuning the initial learning rate.\n",
        "\n",
        "\n",
        "As per last week, our labels are in index form rather than encoded as one-hot vectors. Hence, we utilse Keras' ```sparse_categorical_crossentropy``` loss."
      ]
    },
    {
      "cell_type": "code",
      "execution_count": null,
      "id": "02b7a67b",
      "metadata": {
        "id": "02b7a67b"
      },
      "outputs": [],
      "source": [
        "# Compile model with loss, optimiser, and metrics\n",
        "model.compile(loss='sparse_categorical_crossentropy',\n",
        "              optimizer=\"adam\",\n",
        "              metrics=['accuracy'])"
      ]
    },
    {
      "cell_type": "markdown",
      "id": "f8ce576e",
      "metadata": {
        "id": "f8ce576e"
      },
      "source": [
        "### Training and evaluating the model\n"
      ]
    },
    {
      "cell_type": "markdown",
      "id": "82bf670c",
      "metadata": {
        "id": "82bf670c"
      },
      "source": [
        "The following training cell may take several minutes to run depending on your hardware. Even though there are less parameters than last week, these convolutional layers take a lot of computation! If you're pressed for time, you can just examine the outputs."
      ]
    },
    {
      "cell_type": "code",
      "execution_count": null,
      "id": "e8bb6f9f",
      "metadata": {
        "id": "e8bb6f9f",
        "outputId": "123352fb-406d-4f72-9b39-795e843e494b"
      },
      "outputs": [
        {
          "name": "stdout",
          "output_type": "stream",
          "text": [
            "Epoch 1/10\n",
            "422/422 [==============================] - 31s 72ms/step - loss: 0.3636 - accuracy: 0.8896 - val_loss: 0.0990 - val_accuracy: 0.9733\n",
            "Epoch 2/10\n",
            "422/422 [==============================] - 32s 75ms/step - loss: 0.1124 - accuracy: 0.9659 - val_loss: 0.0672 - val_accuracy: 0.9825\n",
            "Epoch 3/10\n",
            "422/422 [==============================] - 32s 75ms/step - loss: 0.0843 - accuracy: 0.9736 - val_loss: 0.0522 - val_accuracy: 0.9860\n",
            "Epoch 4/10\n",
            "422/422 [==============================] - 25s 59ms/step - loss: 0.0688 - accuracy: 0.9790 - val_loss: 0.0470 - val_accuracy: 0.9867\n",
            "Epoch 5/10\n",
            "422/422 [==============================] - 32s 75ms/step - loss: 0.0617 - accuracy: 0.9815 - val_loss: 0.0423 - val_accuracy: 0.9878\n",
            "Epoch 6/10\n",
            "422/422 [==============================] - 26s 61ms/step - loss: 0.0545 - accuracy: 0.9830 - val_loss: 0.0409 - val_accuracy: 0.9883\n",
            "Epoch 7/10\n",
            "422/422 [==============================] - 23s 54ms/step - loss: 0.0499 - accuracy: 0.9847 - val_loss: 0.0404 - val_accuracy: 0.9887\n",
            "Epoch 8/10\n",
            "422/422 [==============================] - 34s 82ms/step - loss: 0.0482 - accuracy: 0.9850 - val_loss: 0.0385 - val_accuracy: 0.9892\n",
            "Epoch 9/10\n",
            "422/422 [==============================] - 35s 82ms/step - loss: 0.0431 - accuracy: 0.9869 - val_loss: 0.0352 - val_accuracy: 0.9902\n",
            "Epoch 10/10\n",
            "422/422 [==============================] - 34s 82ms/step - loss: 0.0411 - accuracy: 0.9874 - val_loss: 0.0333 - val_accuracy: 0.9903\n"
          ]
        }
      ],
      "source": [
        "\"\"\"Running this cell could take several minutes\"\"\"\n",
        "\n",
        "# Train the model for 10 epochs with batch size 128\n",
        "batch_size = 128\n",
        "epochs = 10\n",
        "history = model.fit(X_train, y_train, batch_size=batch_size,\n",
        "                    epochs=epochs, validation_data=(X_valid, y_valid))"
      ]
    },
    {
      "cell_type": "code",
      "execution_count": null,
      "id": "217a1a32",
      "metadata": {
        "id": "217a1a32",
        "outputId": "ac9a2d5a-71e3-4b55-87ac-20cce30b11e0"
      },
      "outputs": [
        {
          "name": "stdout",
          "output_type": "stream",
          "text": [
            "313/313 [==============================] - 3s 9ms/step - loss: 0.0280 - accuracy: 0.9906\n",
            "Accuracy on test data: 0.9906\n"
          ]
        }
      ],
      "source": [
        "# Evaluate the classifier on the test data.\n",
        "loss, accuracy = model.evaluate(X_test, y_test)\n",
        "print(f\"Accuracy on test data: {accuracy:.4f}\")"
      ]
    },
    {
      "cell_type": "code",
      "execution_count": null,
      "id": "3ae8a0ae",
      "metadata": {
        "id": "3ae8a0ae",
        "outputId": "d62c635b-a677-420c-c013-21c2da24489f"
      },
      "outputs": [
        {
          "name": "stdout",
          "output_type": "stream",
          "text": [
            "[0 4 1]\n"
          ]
        },
        {
          "data": {
            "image/png": "[encoded data removed]",
            "text/plain": [
              "<Figure size 259.2x86.4 with 3 Axes>"
            ]
          },
          "metadata": {
            "needs_background": "light"
          },
          "output_type": "display_data"
        }
      ],
      "source": [
        "# Sample several test examples\n",
        "X_test_sample = X_test[3:6]\n",
        "\n",
        "# Get probability of each class from model\n",
        "y_proba = model.predict(X_test_sample)\n",
        "y_pred = np.argmax(y_proba, axis=-1)\n",
        "print(y_pred)\n",
        "\n",
        "plot_examples(X_test[3:], n_rows=1, n_cols=3)"
      ]
    },
    {
      "cell_type": "markdown",
      "id": "a8eb4dcb",
      "metadata": {
        "id": "a8eb4dcb"
      },
      "source": [
        "Using an MLP on this task, we hit a barrier around 98% accuracy. With the improvements in image feature extraction from CNNs, we have slightly improved our performance, even while using fewer parameters. On more difficult tasks where the images are not centred and size-normalised, the improvement is usually more pronounced.\n",
        "\n",
        "Towards the end of the notebook is a task where you will have a chance to apply a CNN to a more difficult classification problem with colour images."
      ]
    },
    {
      "cell_type": "markdown",
      "id": "d130f456",
      "metadata": {
        "id": "d130f456"
      },
      "source": [
        "## 3. LSTM using Keras"
      ]
    },
    {
      "cell_type": "markdown",
      "source": [
        "Now let's look at a task which requires sequence processing, and solve it by implementing a type of recurrent neural network using Keras.\n",
        "\n",
        "The [Large Movie Review Dataset](https://ai.stanford.edu/~amaas/data/sentiment/) contains movie reviews written by users of the IMDB website, labelled by positive or negative sentiment. While not as simple as the MNIST image task, it has become somewhat of a benchmark dataset for recurrent networks.\n",
        "\n",
        "While we could try and solve this task without considering the order of the words and how close they are to each other, using RNNs allows us to capture the subtlety of phrases such as 'not good'."
      ],
      "metadata": {
        "id": "5s3aEppdF4JZ"
      },
      "id": "5s3aEppdF4JZ"
    },
    {
      "cell_type": "markdown",
      "source": [
        "<img src=\"https://drek4537l1klr.cloudfront.net/brink/Figures/08fig01_alt.jpg\" width=600>"
      ],
      "metadata": {
        "id": "xzL1vU1mF-Tw"
      },
      "id": "xzL1vU1mF-Tw"
    },
    {
      "cell_type": "markdown",
      "source": [
        "**Tokenization** — Splitting text into smaller units such as words or phrases.\n",
        "\n",
        "**Vectorization** — Converting text into numerical representations for ML models."
      ],
      "metadata": {
        "id": "UgqthTWz9SoD"
      },
      "id": "UgqthTWz9SoD"
    },
    {
      "cell_type": "markdown",
      "source": [
        "<img src=\"https://miro.medium.com/v2/resize:fit:720/format:webp/1*3CNBx4iZ1vmJCZgGUIC83A.png\" width=500>"
      ],
      "metadata": {
        "id": "9pA5_ZWJ9JjQ"
      },
      "id": "9pA5_ZWJ9JjQ"
    },
    {
      "cell_type": "markdown",
      "id": "1930bb05",
      "metadata": {
        "id": "1930bb05"
      },
      "source": [
        "\n",
        "### Data loading, exploration and preprocessing\n",
        "\n",
        "Let's load the dataset from Keras ([documentation](https://keras.io/api/datasets/imdb/)). The purpose of the arguments we passed to ```load_data``` will be described below."
      ]
    },
    {
      "cell_type": "code",
      "execution_count": null,
      "id": "863e65c0",
      "metadata": {
        "id": "863e65c0"
      },
      "outputs": [],
      "source": [
        "# Specify first index for words\n",
        "INDEX_FROM = 3 # Keras IMDB have <START> and <UNKNOWN> as indexes 1 and 2\n",
        "\n",
        "# Include this number of the most common words in our vocabulary\n",
        "NUM_WORDS = 10000\n",
        "\n",
        "(X_train_full, y_train_full), (X_test, y_test) = tf.keras.datasets.imdb.load_data(\n",
        "    num_words=NUM_WORDS,\n",
        "    start_char=1, #the start of a sequence will be marked with this character\n",
        "    oov_char=2, #the out-of-vocabulary character. Words that were cut out because of the num_words or skip_top limits will be replaced with this character.\n",
        "    index_from=INDEX_FROM,\n",
        ")"
      ]
    },
    {
      "cell_type": "markdown",
      "id": "4f7084d7",
      "metadata": {
        "id": "4f7084d7"
      },
      "source": [
        "Let's first check out the shape of the data we have loaded."
      ]
    },
    {
      "cell_type": "code",
      "execution_count": null,
      "id": "35689a4c",
      "metadata": {
        "id": "35689a4c",
        "outputId": "b4386c87-bd1f-441d-9eb7-32d6e7ce6aeb"
      },
      "outputs": [
        {
          "name": "stdout",
          "output_type": "stream",
          "text": [
            "Shape of X_train_full: (25000,)\n",
            "Shape of y_train_full: (25000,)\n",
            "Shape of X_test: (25000,)\n",
            "Shape of y_test: (25000,)\n"
          ]
        }
      ],
      "source": [
        "print(f\"Shape of X_train_full: {X_train_full.shape}\")\n",
        "print(f\"Shape of y_train_full: {y_train_full.shape}\")\n",
        "print(f\"Shape of X_test: {X_test.shape}\")\n",
        "print(f\"Shape of y_test: {y_test.shape}\")"
      ]
    },
    {
      "cell_type": "markdown",
      "id": "6a6383de",
      "metadata": {
        "id": "6a6383de"
      },
      "source": [
        "We have 25000 training and testing examples. However, it seems a bit strange that our data is one dimensional. Let's investigate this by looking at the first training example."
      ]
    },
    {
      "cell_type": "code",
      "execution_count": null,
      "id": "826bb962",
      "metadata": {
        "scrolled": true,
        "id": "826bb962",
        "outputId": "a37965f5-ce5f-4baf-eb7d-23f5aa3d8919"
      },
      "outputs": [
        {
          "name": "stdout",
          "output_type": "stream",
          "text": [
            "[1, 14, 22, 16, 43, 530, 973, 1622, 1385, 65, 458, 4468, 66, 3941, 4, 173, 36, 256, 5, 25, 100, 43, 838, 112, 50, 670, 2, 9, 35, 480, 284, 5, 150, 4, 172, 112, 167, 2, 336, 385, 39, 4, 172, 4536, 1111, 17, 546, 38, 13, 447, 4, 192, 50, 16, 6, 147, 2025, 19, 14, 22, 4, 1920, 4613, 469, 4, 22, 71, 87, 12, 16, 43, 530, 38, 76, 15, 13, 1247, 4, 22, 17, 515, 17, 12, 16, 626, 18, 2, 5, 62, 386, 12, 8, 316, 8, 106, 5, 4, 2223, 5244, 16, 480, 66, 3785, 33, 4, 130, 12, 16, 38, 619, 5, 25, 124, 51, 36, 135, 48, 25, 1415, 33, 6, 22, 12, 215, 28, 77, 52, 5, 14, 407, 16, 82, 2, 8, 4, 107, 117, 5952, 15, 256, 4, 2, 7, 3766, 5, 723, 36, 71, 43, 530, 476, 26, 400, 317, 46, 7, 4, 2, 1029, 13, 104, 88, 4, 381, 15, 297, 98, 32, 2071, 56, 26, 141, 6, 194, 7486, 18, 4, 226, 22, 21, 134, 476, 26, 480, 5, 144, 30, 5535, 18, 51, 36, 28, 224, 92, 25, 104, 4, 226, 65, 16, 38, 1334, 88, 12, 16, 283, 5, 16, 4472, 113, 103, 32, 15, 16, 5345, 19, 178, 32]\n"
          ]
        }
      ],
      "source": [
        "print(X_train_full[0])"
      ]
    },
    {
      "cell_type": "markdown",
      "id": "aa2fd587",
      "metadata": {
        "id": "aa2fd587"
      },
      "source": [
        "Our numpy arrays only have one dimension because each example is encoded as a list! The reason is that the reviews may have different lengths, and numpy arrays have a fixed shape in each dimension. Let's look at the length of another review."
      ]
    },
    {
      "cell_type": "code",
      "execution_count": null,
      "id": "1ecdd3bd",
      "metadata": {
        "id": "1ecdd3bd",
        "outputId": "0d76be12-ffe9-421f-b3eb-597a7546b0c9"
      },
      "outputs": [
        {
          "name": "stdout",
          "output_type": "stream",
          "text": [
            "[1, 778, 128, 74, 12, 630, 163, 15, 4, 1766, 7982, 1051, 2, 32, 85, 156, 45, 40, 148, 139, 121, 664, 665, 10, 10, 1361, 173, 4, 749, 2, 16, 3804, 8, 4, 226, 65, 12, 43, 127, 24, 2, 10, 10]\n"
          ]
        }
      ],
      "source": [
        "print(X_train_full[5])"
      ]
    },
    {
      "cell_type": "markdown",
      "id": "84f8a542",
      "metadata": {
        "id": "84f8a542"
      },
      "source": [
        "- ***Data encoding***\n",
        "\n",
        "Another thing that may be foreign is the data encoding. Wasn't this meant to be a text dataset?\n",
        "\n",
        "In fact, the dataset comes preprocessed for use. It has been split into words with punctuation removed, and each unique word has been assigned an integer. The integers are assigned to the words in order of frequency, so the most common words are represented by the smallest numbers.\n",
        "\n",
        "When we loaded the data, we also specified that each example will begin with the 'start character' 1, and any words which don't belong to our chosen vocabulary of the 10000 most common words will be represented by an 'out of vocab character' 2.\n",
        "\n",
        "Not to fear: to better understand the dataset and recover the text, Keras includes a function to load a mapping from words to their indices, with just some minor processing requried to account for our special characters."
      ]
    },
    {
      "cell_type": "code",
      "execution_count": null,
      "id": "14dfe597",
      "metadata": {
        "scrolled": false,
        "id": "14dfe597"
      },
      "outputs": [],
      "source": [
        "# Load dictionary mapping words to indices\n",
        "word_to_index = tf.keras.datasets.imdb.get_word_index()\n",
        "\n",
        "# Account for the start and out of vocab characters\n",
        "word_to_index = {k : (v+3) for (k, v) in word_to_index.items()}\n",
        "word_to_index[\"<PAD>\"] = 0\n",
        "word_to_index[\"<START>\"] = 1\n",
        "word_to_index[\"<UNK>\"] = 2\n",
        "word_to_index[\"<UNUSED>\"] = 3"
      ]
    },
    {
      "cell_type": "code",
      "execution_count": null,
      "id": "c09b7498",
      "metadata": {
        "id": "c09b7498",
        "outputId": "1f176764-322b-4c5c-a456-7625db5fcec5"
      },
      "outputs": [
        {
          "data": {
            "text/plain": [
              "{'fawn': 34704,\n",
              " 'tsukino': 52009,\n",
              " 'nunnery': 52010,\n",
              " 'sonja': 16819,\n",
              " 'vani': 63954,\n",
              " 'woods': 1411,\n",
              " 'spiders': 16118,\n",
              " 'hanging': 2348,\n",
              " 'woody': 2292,\n",
              " 'trawling': 52011,\n",
              " \"hold's\": 52012,\n",
              " 'comically': 11310,\n",
              " 'localized': 40833,\n",
              " 'disobeying': 30571,\n",
              " \"'royale\": 52013,\n",
              " \"harpo's\": 40834,\n",
              " 'canet': 52014,\n",
              " 'aileen': 19316,\n",
              " 'acurately': 52015,\n",
              " \"diplomat's\": 52016,\n",
              " 'rickman': 25245,\n",
              " 'arranged': 6749,\n",
              " 'rumbustious': 52017,\n",
              " 'familiarness': 52018,\n",
              " \"spider'\": 52019,\n",
              " 'hahahah': 68807,\n",
              " \"wood'\": 52020,\n",
              " 'transvestism': 40836,\n",
              " \"hangin'\": 34705,\n",
              " 'bringing': 2341,\n",
              " 'seamier': 40837,\n",
              " 'wooded': 34706,\n",
              " 'bravora': 52021,\n",
              " 'grueling': 16820,\n",
              " 'wooden': 1639,\n",
              " 'wednesday': 16821,\n",
              " \"'prix\": 52022,\n",
              " 'altagracia': 34707,\n",
              " 'circuitry': 52023,\n",
              " 'crotch': 11588,\n",
              " 'busybody': 57769,\n",
              " \"tart'n'tangy\": 52024,\n",
              " 'burgade': 14132,\n",
              " 'thrace': 52026,\n",
              " \"tom's\": 11041,\n",
              " 'snuggles': 52028,\n",
              " 'francesco': 29117,\n",
              " 'complainers': 52030,\n",
              " 'templarios': 52128,\n",
              " '272': 40838,\n",
              " '273': 52031,\n",
              " 'zaniacs': 52133,\n",
              " '275': 34709,\n",
              " 'consenting': 27634,\n",
              " 'snuggled': 40839,\n",
              " 'inanimate': 15495,\n",
              " 'uality': 52033,\n",
              " 'bronte': 11929,\n",
              " 'errors': 4013,\n",
              " 'dialogs': 3233,\n",
              " \"yomada's\": 52034,\n",
              " \"madman's\": 34710,\n",
              " 'dialoge': 30588,\n",
              " 'usenet': 52036,\n",
              " 'videodrome': 40840,\n",
              " \"kid'\": 26341,\n",
              " 'pawed': 52037,\n",
              " \"'girlfriend'\": 30572,\n",
              " \"'pleasure\": 52038,\n",
              " \"'reloaded'\": 52039,\n",
              " \"kazakos'\": 40842,\n",
              " 'rocque': 52040,\n",
              " 'mailings': 52041,\n",
              " 'brainwashed': 11930,\n",
              " 'mcanally': 16822,\n",
              " \"tom''\": 52042,\n",
              " 'kurupt': 25246,\n",
              " 'affiliated': 21908,\n",
              " 'babaganoosh': 52043,\n",
              " \"noe's\": 40843,\n",
              " 'quart': 40844,\n",
              " 'kids': 362,\n",
              " 'uplifting': 5037,\n",
              " 'controversy': 7096,\n",
              " 'kida': 21909,\n",
              " 'kidd': 23382,\n",
              " \"error'\": 52044,\n",
              " 'neurologist': 52045,\n",
              " 'spotty': 18513,\n",
              " 'cobblers': 30573,\n",
              " 'projection': 9881,\n",
              " 'fastforwarding': 40845,\n",
              " 'sters': 52046,\n",
              " \"eggar's\": 52047,\n",
              " 'etherything': 52048,\n",
              " 'gateshead': 40846,\n",
              " 'airball': 34711,\n",
              " 'unsinkable': 25247,\n",
              " 'stern': 7183,\n",
              " \"cervi's\": 52049,\n",
              " 'dnd': 40847,\n",
              " 'dna': 11589,\n",
              " 'insecurity': 20601,\n",
              " \"'reboot'\": 52050,\n",
              " 'trelkovsky': 11040,\n",
              " 'jaekel': 52051,\n",
              " 'sidebars': 52052,\n",
              " \"sforza's\": 52053,\n",
              " 'distortions': 17636,\n",
              " 'mutinies': 52054,\n",
              " 'sermons': 30605,\n",
              " '7ft': 40849,\n",
              " 'boobage': 52055,\n",
              " \"o'bannon's\": 52056,\n",
              " 'populations': 23383,\n",
              " 'chulak': 52057,\n",
              " 'mesmerize': 27636,\n",
              " 'quinnell': 52058,\n",
              " 'yahoo': 10310,\n",
              " 'meteorologist': 52060,\n",
              " 'beswick': 42580,\n",
              " 'boorman': 15496,\n",
              " 'voicework': 40850,\n",
              " \"ster'\": 52061,\n",
              " 'blustering': 22925,\n",
              " 'hj': 52062,\n",
              " 'intake': 27637,\n",
              " 'morally': 5624,\n",
              " 'jumbling': 40852,\n",
              " 'bowersock': 52063,\n",
              " \"'porky's'\": 52064,\n",
              " 'gershon': 16824,\n",
              " 'ludicrosity': 40853,\n",
              " 'coprophilia': 52065,\n",
              " 'expressively': 40854,\n",
              " \"india's\": 19503,\n",
              " \"post's\": 34713,\n",
              " 'wana': 52066,\n",
              " 'wang': 5286,\n",
              " 'wand': 30574,\n",
              " 'wane': 25248,\n",
              " 'edgeways': 52324,\n",
              " 'titanium': 34714,\n",
              " 'pinta': 40855,\n",
              " 'want': 181,\n",
              " 'pinto': 30575,\n",
              " 'whoopdedoodles': 52068,\n",
              " 'tchaikovsky': 21911,\n",
              " 'travel': 2106,\n",
              " \"'victory'\": 52069,\n",
              " 'copious': 11931,\n",
              " 'gouge': 22436,\n",
              " \"chapters'\": 52070,\n",
              " 'barbra': 6705,\n",
              " 'uselessness': 30576,\n",
              " \"wan'\": 52071,\n",
              " 'assimilated': 27638,\n",
              " 'petiot': 16119,\n",
              " 'most\\x85and': 52072,\n",
              " 'dinosaurs': 3933,\n",
              " 'wrong': 355,\n",
              " 'seda': 52073,\n",
              " 'stollen': 52074,\n",
              " 'sentencing': 34715,\n",
              " 'ouroboros': 40856,\n",
              " 'assimilates': 40857,\n",
              " 'colorfully': 40858,\n",
              " 'glenne': 27639,\n",
              " 'dongen': 52075,\n",
              " 'subplots': 4763,\n",
              " 'kiloton': 52076,\n",
              " 'chandon': 23384,\n",
              " \"effect'\": 34716,\n",
              " 'snugly': 27640,\n",
              " 'kuei': 40859,\n",
              " 'welcomed': 9095,\n",
              " 'dishonor': 30074,\n",
              " 'concurrence': 52078,\n",
              " 'stoicism': 23385,\n",
              " \"guys'\": 14899,\n",
              " \"beroemd'\": 52080,\n",
              " 'butcher': 6706,\n",
              " \"melfi's\": 40860,\n",
              " 'aargh': 30626,\n",
              " 'playhouse': 20602,\n",
              " 'wickedly': 11311,\n",
              " 'fit': 1183,\n",
              " 'labratory': 52081,\n",
              " 'lifeline': 40862,\n",
              " 'screaming': 1930,\n",
              " 'fix': 4290,\n",
              " 'cineliterate': 52082,\n",
              " 'fic': 52083,\n",
              " 'fia': 52084,\n",
              " 'fig': 34717,\n",
              " 'fmvs': 52085,\n",
              " 'fie': 52086,\n",
              " 'reentered': 52087,\n",
              " 'fin': 30577,\n",
              " 'doctresses': 52088,\n",
              " 'fil': 52089,\n",
              " 'zucker': 12609,\n",
              " 'ached': 31934,\n",
              " 'counsil': 52091,\n",
              " 'paterfamilias': 52092,\n",
              " 'songwriter': 13888,\n",
              " 'shivam': 34718,\n",
              " 'hurting': 9657,\n",
              " 'effects': 302,\n",
              " 'slauther': 52093,\n",
              " \"'flame'\": 52094,\n",
              " 'sommerset': 52095,\n",
              " 'interwhined': 52096,\n",
              " 'whacking': 27641,\n",
              " 'bartok': 52097,\n",
              " 'barton': 8778,\n",
              " 'frewer': 21912,\n",
              " \"fi'\": 52098,\n",
              " 'ingrid': 6195,\n",
              " 'stribor': 30578,\n",
              " 'approporiately': 52099,\n",
              " 'wobblyhand': 52100,\n",
              " 'tantalisingly': 52101,\n",
              " 'ankylosaurus': 52102,\n",
              " 'parasites': 17637,\n",
              " 'childen': 52103,\n",
              " \"jenkins'\": 52104,\n",
              " 'metafiction': 52105,\n",
              " 'golem': 17638,\n",
              " 'indiscretion': 40863,\n",
              " \"reeves'\": 23386,\n",
              " \"inamorata's\": 57784,\n",
              " 'brittannica': 52107,\n",
              " 'adapt': 7919,\n",
              " \"russo's\": 30579,\n",
              " 'guitarists': 48249,\n",
              " 'abbott': 10556,\n",
              " 'abbots': 40864,\n",
              " 'lanisha': 17652,\n",
              " 'magickal': 40866,\n",
              " 'mattter': 52108,\n",
              " \"'willy\": 52109,\n",
              " 'pumpkins': 34719,\n",
              " 'stuntpeople': 52110,\n",
              " 'estimate': 30580,\n",
              " 'ugghhh': 40867,\n",
              " 'gameplay': 11312,\n",
              " \"wern't\": 52111,\n",
              " \"n'sync\": 40868,\n",
              " 'sickeningly': 16120,\n",
              " 'chiara': 40869,\n",
              " 'disturbed': 4014,\n",
              " 'portmanteau': 40870,\n",
              " 'ineffectively': 52112,\n",
              " \"duchonvey's\": 82146,\n",
              " \"nasty'\": 37522,\n",
              " 'purpose': 1288,\n",
              " 'lazers': 52115,\n",
              " 'lightened': 28108,\n",
              " 'kaliganj': 52116,\n",
              " 'popularism': 52117,\n",
              " \"damme's\": 18514,\n",
              " 'stylistics': 30581,\n",
              " 'mindgaming': 52118,\n",
              " 'spoilerish': 46452,\n",
              " \"'corny'\": 52120,\n",
              " 'boerner': 34721,\n",
              " 'olds': 6795,\n",
              " 'bakelite': 52121,\n",
              " 'renovated': 27642,\n",
              " 'forrester': 27643,\n",
              " \"lumiere's\": 52122,\n",
              " 'gaskets': 52027,\n",
              " 'needed': 887,\n",
              " 'smight': 34722,\n",
              " 'master': 1300,\n",
              " \"edie's\": 25908,\n",
              " 'seeber': 40871,\n",
              " 'hiya': 52123,\n",
              " 'fuzziness': 52124,\n",
              " 'genesis': 14900,\n",
              " 'rewards': 12610,\n",
              " 'enthrall': 30582,\n",
              " \"'about\": 40872,\n",
              " \"recollection's\": 52125,\n",
              " 'mutilated': 11042,\n",
              " 'fatherlands': 52126,\n",
              " \"fischer's\": 52127,\n",
              " 'positively': 5402,\n",
              " '270': 34708,\n",
              " 'ahmed': 34723,\n",
              " 'zatoichi': 9839,\n",
              " 'bannister': 13889,\n",
              " 'anniversaries': 52130,\n",
              " \"helm's\": 30583,\n",
              " \"'work'\": 52131,\n",
              " 'exclaimed': 34724,\n",
              " \"'unfunny'\": 52132,\n",
              " '274': 52032,\n",
              " 'feeling': 547,\n",
              " \"wanda's\": 52134,\n",
              " 'dolan': 33269,\n",
              " '278': 52136,\n",
              " 'peacoat': 52137,\n",
              " 'brawny': 40873,\n",
              " 'mishra': 40874,\n",
              " 'worlders': 40875,\n",
              " 'protags': 52138,\n",
              " 'skullcap': 52139,\n",
              " 'dastagir': 57599,\n",
              " 'affairs': 5625,\n",
              " 'wholesome': 7802,\n",
              " 'hymen': 52140,\n",
              " 'paramedics': 25249,\n",
              " 'unpersons': 52141,\n",
              " 'heavyarms': 52142,\n",
              " 'affaire': 52143,\n",
              " 'coulisses': 52144,\n",
              " 'hymer': 40876,\n",
              " 'kremlin': 52145,\n",
              " 'shipments': 30584,\n",
              " 'pixilated': 52146,\n",
              " \"'00s\": 30585,\n",
              " 'diminishing': 18515,\n",
              " 'cinematic': 1360,\n",
              " 'resonates': 14901,\n",
              " 'simplify': 40877,\n",
              " \"nature'\": 40878,\n",
              " 'temptresses': 40879,\n",
              " 'reverence': 16825,\n",
              " 'resonated': 19505,\n",
              " 'dailey': 34725,\n",
              " '2\\x85': 52147,\n",
              " 'treize': 27644,\n",
              " 'majo': 52148,\n",
              " 'kiya': 21913,\n",
              " 'woolnough': 52149,\n",
              " 'thanatos': 39800,\n",
              " 'sandoval': 35734,\n",
              " 'dorama': 40882,\n",
              " \"o'shaughnessy\": 52150,\n",
              " 'tech': 4991,\n",
              " 'fugitives': 32021,\n",
              " 'teck': 30586,\n",
              " \"'e'\": 76128,\n",
              " 'doesn’t': 40884,\n",
              " 'purged': 52152,\n",
              " 'saying': 660,\n",
              " \"martians'\": 41098,\n",
              " 'norliss': 23421,\n",
              " 'dickey': 27645,\n",
              " 'dicker': 52155,\n",
              " \"'sependipity\": 52156,\n",
              " 'padded': 8425,\n",
              " 'ordell': 57795,\n",
              " \"sturges'\": 40885,\n",
              " 'independentcritics': 52157,\n",
              " 'tempted': 5748,\n",
              " \"atkinson's\": 34727,\n",
              " 'hounded': 25250,\n",
              " 'apace': 52158,\n",
              " 'clicked': 15497,\n",
              " \"'humor'\": 30587,\n",
              " \"martino's\": 17180,\n",
              " \"'supporting\": 52159,\n",
              " 'warmongering': 52035,\n",
              " \"zemeckis's\": 34728,\n",
              " 'lube': 21914,\n",
              " 'shocky': 52160,\n",
              " 'plate': 7479,\n",
              " 'plata': 40886,\n",
              " 'sturgess': 40887,\n",
              " \"nerds'\": 40888,\n",
              " 'plato': 20603,\n",
              " 'plath': 34729,\n",
              " 'platt': 40889,\n",
              " 'mcnab': 52162,\n",
              " 'clumsiness': 27646,\n",
              " 'altogether': 3902,\n",
              " 'massacring': 42587,\n",
              " 'bicenntinial': 52163,\n",
              " 'skaal': 40890,\n",
              " 'droning': 14363,\n",
              " 'lds': 8779,\n",
              " 'jaguar': 21915,\n",
              " \"cale's\": 34730,\n",
              " 'nicely': 1780,\n",
              " 'mummy': 4591,\n",
              " \"lot's\": 18516,\n",
              " 'patch': 10089,\n",
              " 'kerkhof': 50205,\n",
              " \"leader's\": 52164,\n",
              " \"'movie\": 27647,\n",
              " 'uncomfirmed': 52165,\n",
              " 'heirloom': 40891,\n",
              " 'wrangle': 47363,\n",
              " 'emotion\\x85': 52166,\n",
              " \"'stargate'\": 52167,\n",
              " 'pinoy': 40892,\n",
              " 'conchatta': 40893,\n",
              " 'broeke': 41131,\n",
              " 'advisedly': 40894,\n",
              " \"barker's\": 17639,\n",
              " 'descours': 52169,\n",
              " 'lots': 775,\n",
              " 'lotr': 9262,\n",
              " 'irs': 9882,\n",
              " 'lott': 52170,\n",
              " 'xvi': 40895,\n",
              " 'irk': 34731,\n",
              " 'irl': 52171,\n",
              " 'ira': 6890,\n",
              " 'belzer': 21916,\n",
              " 'irc': 52172,\n",
              " 'ire': 27648,\n",
              " 'requisites': 40896,\n",
              " 'discipline': 7696,\n",
              " 'lyoko': 52964,\n",
              " 'extend': 11313,\n",
              " 'nature': 876,\n",
              " \"'dickie'\": 52173,\n",
              " 'optimist': 40897,\n",
              " 'lapping': 30589,\n",
              " 'superficial': 3903,\n",
              " 'vestment': 52174,\n",
              " 'extent': 2826,\n",
              " 'tendons': 52175,\n",
              " \"heller's\": 52176,\n",
              " 'quagmires': 52177,\n",
              " 'miyako': 52178,\n",
              " 'moocow': 20604,\n",
              " \"coles'\": 52179,\n",
              " 'lookit': 40898,\n",
              " 'ravenously': 52180,\n",
              " 'levitating': 40899,\n",
              " 'perfunctorily': 52181,\n",
              " 'lookin': 30590,\n",
              " \"lot'\": 40901,\n",
              " 'lookie': 52182,\n",
              " 'fearlessly': 34873,\n",
              " 'libyan': 52184,\n",
              " 'fondles': 40902,\n",
              " 'gopher': 35717,\n",
              " 'wearying': 40904,\n",
              " \"nz's\": 52185,\n",
              " 'minuses': 27649,\n",
              " 'puposelessly': 52186,\n",
              " 'shandling': 52187,\n",
              " 'decapitates': 31271,\n",
              " 'humming': 11932,\n",
              " \"'nother\": 40905,\n",
              " 'smackdown': 21917,\n",
              " 'underdone': 30591,\n",
              " 'frf': 40906,\n",
              " 'triviality': 52188,\n",
              " 'fro': 25251,\n",
              " 'bothers': 8780,\n",
              " \"'kensington\": 52189,\n",
              " 'much': 76,\n",
              " 'muco': 34733,\n",
              " 'wiseguy': 22618,\n",
              " \"richie's\": 27651,\n",
              " 'tonino': 40907,\n",
              " 'unleavened': 52190,\n",
              " 'fry': 11590,\n",
              " \"'tv'\": 40908,\n",
              " 'toning': 40909,\n",
              " 'obese': 14364,\n",
              " 'sensationalized': 30592,\n",
              " 'spiv': 40910,\n",
              " 'spit': 6262,\n",
              " 'arkin': 7367,\n",
              " 'charleton': 21918,\n",
              " 'jeon': 16826,\n",
              " 'boardroom': 21919,\n",
              " 'doubts': 4992,\n",
              " 'spin': 3087,\n",
              " 'hepo': 53086,\n",
              " 'wildcat': 27652,\n",
              " 'venoms': 10587,\n",
              " 'misconstrues': 52194,\n",
              " 'mesmerising': 18517,\n",
              " 'misconstrued': 40911,\n",
              " 'rescinds': 52195,\n",
              " 'prostrate': 52196,\n",
              " 'majid': 40912,\n",
              " 'climbed': 16482,\n",
              " 'canoeing': 34734,\n",
              " 'majin': 52198,\n",
              " 'animie': 57807,\n",
              " 'sylke': 40913,\n",
              " 'conditioned': 14902,\n",
              " 'waddell': 40914,\n",
              " '3\\x85': 52199,\n",
              " 'hyperdrive': 41191,\n",
              " 'conditioner': 34735,\n",
              " 'bricklayer': 53156,\n",
              " 'hong': 2579,\n",
              " 'memoriam': 52201,\n",
              " 'inventively': 30595,\n",
              " \"levant's\": 25252,\n",
              " 'portobello': 20641,\n",
              " 'remand': 52203,\n",
              " 'mummified': 19507,\n",
              " 'honk': 27653,\n",
              " 'spews': 19508,\n",
              " 'visitations': 40915,\n",
              " 'mummifies': 52204,\n",
              " 'cavanaugh': 25253,\n",
              " 'zeon': 23388,\n",
              " \"jungle's\": 40916,\n",
              " 'viertel': 34736,\n",
              " 'frenchmen': 27654,\n",
              " 'torpedoes': 52205,\n",
              " 'schlessinger': 52206,\n",
              " 'torpedoed': 34737,\n",
              " 'blister': 69879,\n",
              " 'cinefest': 52207,\n",
              " 'furlough': 34738,\n",
              " 'mainsequence': 52208,\n",
              " 'mentors': 40917,\n",
              " 'academic': 9097,\n",
              " 'stillness': 20605,\n",
              " 'academia': 40918,\n",
              " 'lonelier': 52209,\n",
              " 'nibby': 52210,\n",
              " \"losers'\": 52211,\n",
              " 'cineastes': 40919,\n",
              " 'corporate': 4452,\n",
              " 'massaging': 40920,\n",
              " 'bellow': 30596,\n",
              " 'absurdities': 19509,\n",
              " 'expetations': 53244,\n",
              " 'nyfiken': 40921,\n",
              " 'mehras': 75641,\n",
              " 'lasse': 52212,\n",
              " 'visability': 52213,\n",
              " 'militarily': 33949,\n",
              " \"elder'\": 52214,\n",
              " 'gainsbourg': 19026,\n",
              " 'hah': 20606,\n",
              " 'hai': 13423,\n",
              " 'haj': 34739,\n",
              " 'hak': 25254,\n",
              " 'hal': 4314,\n",
              " 'ham': 4895,\n",
              " 'duffer': 53262,\n",
              " 'haa': 52216,\n",
              " 'had': 69,\n",
              " 'advancement': 11933,\n",
              " 'hag': 16828,\n",
              " \"hand'\": 25255,\n",
              " 'hay': 13424,\n",
              " 'mcnamara': 20607,\n",
              " \"mozart's\": 52217,\n",
              " 'duffel': 30734,\n",
              " 'haq': 30597,\n",
              " 'har': 13890,\n",
              " 'has': 47,\n",
              " 'hat': 2404,\n",
              " 'hav': 40922,\n",
              " 'haw': 30598,\n",
              " 'figtings': 52218,\n",
              " 'elders': 15498,\n",
              " 'underpanted': 52219,\n",
              " 'pninson': 52220,\n",
              " 'unequivocally': 27655,\n",
              " \"barbara's\": 23676,\n",
              " \"bello'\": 52222,\n",
              " 'indicative': 13000,\n",
              " 'yawnfest': 40923,\n",
              " 'hexploitation': 52223,\n",
              " \"loder's\": 52224,\n",
              " 'sleuthing': 27656,\n",
              " \"justin's\": 32625,\n",
              " \"'ball\": 52225,\n",
              " \"'summer\": 52226,\n",
              " \"'demons'\": 34938,\n",
              " \"mormon's\": 52228,\n",
              " \"laughton's\": 34740,\n",
              " 'debell': 52229,\n",
              " 'shipyard': 39727,\n",
              " 'unabashedly': 30600,\n",
              " 'disks': 40404,\n",
              " 'crowd': 2293,\n",
              " 'crowe': 10090,\n",
              " \"vancouver's\": 56437,\n",
              " 'mosques': 34741,\n",
              " 'crown': 6630,\n",
              " 'culpas': 52230,\n",
              " 'crows': 27657,\n",
              " 'surrell': 53347,\n",
              " 'flowless': 52232,\n",
              " 'sheirk': 52233,\n",
              " \"'three\": 40926,\n",
              " \"peterson'\": 52234,\n",
              " 'ooverall': 52235,\n",
              " 'perchance': 40927,\n",
              " 'bottom': 1324,\n",
              " 'chabert': 53366,\n",
              " 'sneha': 52236,\n",
              " 'inhuman': 13891,\n",
              " 'ichii': 52237,\n",
              " 'ursla': 52238,\n",
              " 'completly': 30601,\n",
              " 'moviedom': 40928,\n",
              " 'raddick': 52239,\n",
              " 'brundage': 51998,\n",
              " 'brigades': 40929,\n",
              " 'starring': 1184,\n",
              " \"'goal'\": 52240,\n",
              " 'caskets': 52241,\n",
              " 'willcock': 52242,\n",
              " \"threesome's\": 52243,\n",
              " \"mosque'\": 52244,\n",
              " \"cover's\": 52245,\n",
              " 'spaceships': 17640,\n",
              " 'anomalous': 40930,\n",
              " 'ptsd': 27658,\n",
              " 'shirdan': 52246,\n",
              " 'obscenity': 21965,\n",
              " 'lemmings': 30602,\n",
              " 'duccio': 30603,\n",
              " \"levene's\": 52247,\n",
              " \"'gorby'\": 52248,\n",
              " \"teenager's\": 25258,\n",
              " 'marshall': 5343,\n",
              " 'honeymoon': 9098,\n",
              " 'shoots': 3234,\n",
              " 'despised': 12261,\n",
              " 'okabasho': 52249,\n",
              " 'fabric': 8292,\n",
              " 'cannavale': 18518,\n",
              " 'raped': 3540,\n",
              " \"tutt's\": 52250,\n",
              " 'grasping': 17641,\n",
              " 'despises': 18519,\n",
              " \"thief's\": 40931,\n",
              " 'rapes': 8929,\n",
              " 'raper': 52251,\n",
              " \"eyre'\": 27659,\n",
              " 'walchek': 52252,\n",
              " \"elmo's\": 23389,\n",
              " 'perfumes': 40932,\n",
              " 'spurting': 21921,\n",
              " \"exposition'\\x85\": 52253,\n",
              " 'denoting': 52254,\n",
              " 'thesaurus': 34743,\n",
              " \"shoot'\": 40933,\n",
              " 'bonejack': 49762,\n",
              " 'simpsonian': 52256,\n",
              " 'hebetude': 30604,\n",
              " \"hallow's\": 34744,\n",
              " 'desperation\\x85': 52257,\n",
              " 'incinerator': 34745,\n",
              " 'congratulations': 10311,\n",
              " 'humbled': 52258,\n",
              " \"else's\": 5927,\n",
              " 'trelkovski': 40848,\n",
              " \"rape'\": 52259,\n",
              " \"'chapters'\": 59389,\n",
              " '1600s': 52260,\n",
              " 'martian': 7256,\n",
              " 'nicest': 25259,\n",
              " 'eyred': 52262,\n",
              " 'passenger': 9460,\n",
              " 'disgrace': 6044,\n",
              " 'moderne': 52263,\n",
              " 'barrymore': 5123,\n",
              " 'yankovich': 52264,\n",
              " 'moderns': 40934,\n",
              " 'studliest': 52265,\n",
              " 'bedsheet': 52266,\n",
              " 'decapitation': 14903,\n",
              " 'slurring': 52267,\n",
              " \"'nunsploitation'\": 52268,\n",
              " \"'character'\": 34746,\n",
              " 'cambodia': 9883,\n",
              " 'rebelious': 52269,\n",
              " 'pasadena': 27660,\n",
              " 'crowne': 40935,\n",
              " \"'bedchamber\": 52270,\n",
              " 'conjectural': 52271,\n",
              " 'appologize': 52272,\n",
              " 'halfassing': 52273,\n",
              " 'paycheque': 57819,\n",
              " 'palms': 20609,\n",
              " \"'islands\": 52274,\n",
              " 'hawked': 40936,\n",
              " 'palme': 21922,\n",
              " 'conservatively': 40937,\n",
              " 'larp': 64010,\n",
              " 'palma': 5561,\n",
              " 'smelling': 21923,\n",
              " 'aragorn': 13001,\n",
              " 'hawker': 52275,\n",
              " 'hawkes': 52276,\n",
              " 'explosions': 3978,\n",
              " 'loren': 8062,\n",
              " \"pyle's\": 52277,\n",
              " 'shootout': 6707,\n",
              " \"mike's\": 18520,\n",
              " \"driscoll's\": 52278,\n",
              " 'cogsworth': 40938,\n",
              " \"britian's\": 52279,\n",
              " 'childs': 34747,\n",
              " \"portrait's\": 52280,\n",
              " 'chain': 3629,\n",
              " 'whoever': 2500,\n",
              " 'puttered': 52281,\n",
              " 'childe': 52282,\n",
              " 'maywether': 52283,\n",
              " 'chair': 3039,\n",
              " \"rance's\": 52284,\n",
              " 'machu': 34748,\n",
              " 'ballet': 4520,\n",
              " 'grapples': 34749,\n",
              " 'summerize': 76155,\n",
              " 'freelance': 30606,\n",
              " \"andrea's\": 52286,\n",
              " '\\x91very': 52287,\n",
              " 'coolidge': 45882,\n",
              " 'mache': 18521,\n",
              " 'balled': 52288,\n",
              " 'grappled': 40940,\n",
              " 'macha': 18522,\n",
              " 'underlining': 21924,\n",
              " 'macho': 5626,\n",
              " 'oversight': 19510,\n",
              " 'machi': 25260,\n",
              " 'verbally': 11314,\n",
              " 'tenacious': 21925,\n",
              " 'windshields': 40941,\n",
              " 'paychecks': 18560,\n",
              " 'jerk': 3399,\n",
              " \"good'\": 11934,\n",
              " 'prancer': 34751,\n",
              " 'prances': 21926,\n",
              " 'olympus': 52289,\n",
              " 'lark': 21927,\n",
              " 'embark': 10788,\n",
              " 'gloomy': 7368,\n",
              " 'jehaan': 52290,\n",
              " 'turaqui': 52291,\n",
              " \"child'\": 20610,\n",
              " 'locked': 2897,\n",
              " 'pranced': 52292,\n",
              " 'exact': 2591,\n",
              " 'unattuned': 52293,\n",
              " 'minute': 786,\n",
              " 'skewed': 16121,\n",
              " 'hodgins': 40943,\n",
              " 'skewer': 34752,\n",
              " 'think\\x85': 52294,\n",
              " 'rosenstein': 38768,\n",
              " 'helmit': 52295,\n",
              " 'wrestlemanias': 34753,\n",
              " 'hindered': 16829,\n",
              " \"martha's\": 30607,\n",
              " 'cheree': 52296,\n",
              " \"pluckin'\": 52297,\n",
              " 'ogles': 40944,\n",
              " 'heavyweight': 11935,\n",
              " 'aada': 82193,\n",
              " 'chopping': 11315,\n",
              " 'strongboy': 61537,\n",
              " 'hegemonic': 41345,\n",
              " 'adorns': 40945,\n",
              " 'xxth': 41349,\n",
              " 'nobuhiro': 34754,\n",
              " 'capitães': 52301,\n",
              " 'kavogianni': 52302,\n",
              " 'antwerp': 13425,\n",
              " 'celebrated': 6541,\n",
              " 'roarke': 52303,\n",
              " 'baggins': 40946,\n",
              " 'cheeseburgers': 31273,\n",
              " 'matras': 52304,\n",
              " \"nineties'\": 52305,\n",
              " \"'craig'\": 52306,\n",
              " 'celebrates': 13002,\n",
              " 'unintentionally': 3386,\n",
              " 'drafted': 14365,\n",
              " 'climby': 52307,\n",
              " '303': 52308,\n",
              " 'oldies': 18523,\n",
              " 'climbs': 9099,\n",
              " 'honour': 9658,\n",
              " 'plucking': 34755,\n",
              " '305': 30077,\n",
              " 'address': 5517,\n",
              " 'menjou': 40947,\n",
              " \"'freak'\": 42595,\n",
              " 'dwindling': 19511,\n",
              " 'benson': 9461,\n",
              " 'white’s': 52310,\n",
              " 'shamelessness': 40948,\n",
              " 'impacted': 21928,\n",
              " 'upatz': 52311,\n",
              " 'cusack': 3843,\n",
              " \"flavia's\": 37570,\n",
              " 'effette': 52312,\n",
              " 'influx': 34756,\n",
              " 'boooooooo': 52313,\n",
              " 'dimitrova': 52314,\n",
              " 'houseman': 13426,\n",
              " 'bigas': 25262,\n",
              " 'boylen': 52315,\n",
              " 'phillipenes': 52316,\n",
              " 'fakery': 40949,\n",
              " \"grandpa's\": 27661,\n",
              " 'darnell': 27662,\n",
              " 'undergone': 19512,\n",
              " 'handbags': 52318,\n",
              " 'perished': 21929,\n",
              " 'pooped': 37781,\n",
              " 'vigour': 27663,\n",
              " 'opposed': 3630,\n",
              " 'etude': 52319,\n",
              " \"caine's\": 11802,\n",
              " 'doozers': 52320,\n",
              " 'photojournals': 34757,\n",
              " 'perishes': 52321,\n",
              " 'constrains': 34758,\n",
              " 'migenes': 40951,\n",
              " 'consoled': 30608,\n",
              " 'alastair': 16830,\n",
              " 'wvs': 52322,\n",
              " 'ooooooh': 52323,\n",
              " 'approving': 34759,\n",
              " 'consoles': 40952,\n",
              " 'disparagement': 52067,\n",
              " 'futureistic': 52325,\n",
              " 'rebounding': 52326,\n",
              " \"'date\": 52327,\n",
              " 'gregoire': 52328,\n",
              " 'rutherford': 21930,\n",
              " 'americanised': 34760,\n",
              " 'novikov': 82199,\n",
              " 'following': 1045,\n",
              " 'munroe': 34761,\n",
              " \"morita'\": 52329,\n",
              " 'christenssen': 52330,\n",
              " 'oatmeal': 23109,\n",
              " 'fossey': 25263,\n",
              " 'livered': 40953,\n",
              " 'listens': 13003,\n",
              " \"'marci\": 76167,\n",
              " \"otis's\": 52333,\n",
              " 'thanking': 23390,\n",
              " 'maude': 16022,\n",
              " 'extensions': 34762,\n",
              " 'ameteurish': 52335,\n",
              " \"commender's\": 52336,\n",
              " 'agricultural': 27664,\n",
              " 'convincingly': 4521,\n",
              " 'fueled': 17642,\n",
              " 'mahattan': 54017,\n",
              " \"paris's\": 40955,\n",
              " 'vulkan': 52339,\n",
              " 'stapes': 52340,\n",
              " 'odysessy': 52341,\n",
              " 'harmon': 12262,\n",
              " 'surfing': 4255,\n",
              " 'halloran': 23497,\n",
              " 'unbelieveably': 49583,\n",
              " \"'offed'\": 52342,\n",
              " 'quadrant': 30610,\n",
              " 'inhabiting': 19513,\n",
              " 'nebbish': 34763,\n",
              " 'forebears': 40956,\n",
              " 'skirmish': 34764,\n",
              " 'ocassionally': 52343,\n",
              " \"'resist\": 52344,\n",
              " 'impactful': 21931,\n",
              " 'spicier': 52345,\n",
              " 'touristy': 40957,\n",
              " \"'football'\": 52346,\n",
              " 'webpage': 40958,\n",
              " 'exurbia': 52348,\n",
              " 'jucier': 52349,\n",
              " 'professors': 14904,\n",
              " 'structuring': 34765,\n",
              " 'jig': 30611,\n",
              " 'overlord': 40959,\n",
              " 'disconnect': 25264,\n",
              " 'sniffle': 82204,\n",
              " 'slimeball': 40960,\n",
              " 'jia': 40961,\n",
              " 'milked': 16831,\n",
              " 'banjoes': 40962,\n",
              " 'jim': 1240,\n",
              " 'workforces': 52351,\n",
              " 'jip': 52352,\n",
              " 'rotweiller': 52353,\n",
              " 'mundaneness': 34766,\n",
              " \"'ninja'\": 52354,\n",
              " \"dead'\": 11043,\n",
              " \"cipriani's\": 40963,\n",
              " 'modestly': 20611,\n",
              " \"professor'\": 52355,\n",
              " 'shacked': 40964,\n",
              " 'bashful': 34767,\n",
              " 'sorter': 23391,\n",
              " 'overpowering': 16123,\n",
              " 'workmanlike': 18524,\n",
              " 'henpecked': 27665,\n",
              " 'sorted': 18525,\n",
              " \"jōb's\": 52357,\n",
              " \"'always\": 52358,\n",
              " \"'baptists\": 34768,\n",
              " 'dreamcatchers': 52359,\n",
              " \"'silence'\": 52360,\n",
              " 'hickory': 21932,\n",
              " 'fun\\x97yet': 52361,\n",
              " 'breakumentary': 52362,\n",
              " 'didn': 15499,\n",
              " 'didi': 52363,\n",
              " 'pealing': 52364,\n",
              " 'dispite': 40965,\n",
              " \"italy's\": 25265,\n",
              " 'instability': 21933,\n",
              " 'quarter': 6542,\n",
              " 'quartet': 12611,\n",
              " 'padmé': 52365,\n",
              " \"'bleedmedry\": 52366,\n",
              " 'pahalniuk': 52367,\n",
              " 'honduras': 52368,\n",
              " 'bursting': 10789,\n",
              " \"pablo's\": 41468,\n",
              " 'irremediably': 52370,\n",
              " 'presages': 40966,\n",
              " 'bowlegged': 57835,\n",
              " 'dalip': 65186,\n",
              " 'entering': 6263,\n",
              " 'newsradio': 76175,\n",
              " 'presaged': 54153,\n",
              " \"giallo's\": 27666,\n",
              " 'bouyant': 40967,\n",
              " 'amerterish': 52371,\n",
              " 'rajni': 18526,\n",
              " 'leeves': 30613,\n",
              " 'macauley': 34770,\n",
              " 'seriously': 615,\n",
              " 'sugercoma': 52372,\n",
              " 'grimstead': 52373,\n",
              " \"'fairy'\": 52374,\n",
              " 'zenda': 30614,\n",
              " \"'twins'\": 52375,\n",
              " 'realisation': 17643,\n",
              " 'highsmith': 27667,\n",
              " 'raunchy': 7820,\n",
              " 'incentives': 40968,\n",
              " 'flatson': 52377,\n",
              " 'snooker': 35100,\n",
              " 'crazies': 16832,\n",
              " 'crazier': 14905,\n",
              " 'grandma': 7097,\n",
              " 'napunsaktha': 52378,\n",
              " 'workmanship': 30615,\n",
              " 'reisner': 52379,\n",
              " \"sanford's\": 61309,\n",
              " '\\x91doña': 52380,\n",
              " 'modest': 6111,\n",
              " \"everything's\": 19156,\n",
              " 'hamer': 40969,\n",
              " \"couldn't'\": 52382,\n",
              " 'quibble': 13004,\n",
              " 'socking': 52383,\n",
              " 'tingler': 21934,\n",
              " 'gutman': 52384,\n",
              " 'lachlan': 40970,\n",
              " 'tableaus': 52385,\n",
              " 'headbanger': 52386,\n",
              " 'spoken': 2850,\n",
              " 'cerebrally': 34771,\n",
              " \"'road\": 23493,\n",
              " 'tableaux': 21935,\n",
              " \"proust's\": 40971,\n",
              " 'periodical': 40972,\n",
              " \"shoveller's\": 52388,\n",
              " 'tamara': 25266,\n",
              " 'affords': 17644,\n",
              " 'concert': 3252,\n",
              " \"yara's\": 87958,\n",
              " 'someome': 52389,\n",
              " 'lingering': 8427,\n",
              " \"abraham's\": 41514,\n",
              " 'beesley': 34772,\n",
              " 'cherbourg': 34773,\n",
              " 'kagan': 28627,\n",
              " 'snatch': 9100,\n",
              " \"miyazaki's\": 9263,\n",
              " 'absorbs': 25267,\n",
              " \"koltai's\": 40973,\n",
              " 'tingled': 64030,\n",
              " 'crossroads': 19514,\n",
              " 'rehab': 16124,\n",
              " 'falworth': 52392,\n",
              " 'sequals': 52393,\n",
              " ...}"
            ]
          },
          "execution_count": 15,
          "metadata": {},
          "output_type": "execute_result"
        }
      ],
      "source": [
        "# Display the dictionary\n",
        "word_to_index"
      ]
    },
    {
      "cell_type": "code",
      "execution_count": null,
      "id": "260ebf2c",
      "metadata": {
        "scrolled": true,
        "id": "260ebf2c",
        "outputId": "8c04779c-12b6-43a6-e7cd-bc7419450950"
      },
      "outputs": [
        {
          "name": "stdout",
          "output_type": "stream",
          "text": [
            "Index for 'the': 4\n",
            "Index for 'good': 52\n",
            "Index for 'dog': 912\n"
          ]
        }
      ],
      "source": [
        "# Examine some common words\n",
        "print(f\"Index for 'the': {word_to_index['the']}\")\n",
        "print(f\"Index for 'good': {word_to_index['good']}\")\n",
        "print(f\"Index for 'dog': {word_to_index['dog']}\")"
      ]
    },
    {
      "cell_type": "markdown",
      "id": "849ee931",
      "metadata": {
        "id": "849ee931"
      },
      "source": [
        "To actually decode a sequence, we need to map in the opposite direction: from indices to words."
      ]
    },
    {
      "cell_type": "code",
      "execution_count": null,
      "id": "d2629831",
      "metadata": {
        "id": "d2629831"
      },
      "outputs": [],
      "source": [
        "# Get a dictionary mapping indices to words\n",
        "index_to_word = dict((i, word) for (word, i) in word_to_index.items())"
      ]
    },
    {
      "cell_type": "markdown",
      "id": "e3c97d8c",
      "metadata": {
        "id": "e3c97d8c"
      },
      "source": [
        "Finally, we are ready to examine some of these reviews to get an idea of the task our model must solve."
      ]
    },
    {
      "cell_type": "code",
      "execution_count": null,
      "id": "988cbd12",
      "metadata": {
        "id": "988cbd12",
        "outputId": "300b49d7-0ef4-4948-dbb7-cda2843984ac"
      },
      "outputs": [
        {
          "data": {
            "text/plain": [
              "\"<START> this film was just brilliant casting location scenery story direction everyone's really suited the part they played and you could just imagine being there robert <UNK> is an amazing actor and now the same being director <UNK> father came from the same scottish island as myself so i loved the fact there was a real connection with this film the witty remarks throughout the film were great it was just brilliant so much that i bought the film as soon as it was released for <UNK> and would recommend it to everyone to watch and the fly fishing was amazing really cried at the end it was so sad and you know what they say if you cry at a film it must have been good and this definitely was also <UNK> to the two little boy's that played the <UNK> of norman and paul they were just brilliant children are often left out of the <UNK> list i think because the stars that play them all grown up are such a big profile for the whole film but these children are amazing and should be praised for what they have done don't you think the whole story was so lovely because it was true and was someone's life after all that was shared with us all\""
            ]
          },
          "execution_count": 18,
          "metadata": {},
          "output_type": "execute_result"
        }
      ],
      "source": [
        "def decode_imdb_sequence(example):\n",
        "    return \" \".join(index_to_word[i] for i in example)\n",
        "\n",
        "decode_imdb_sequence(X_train_full[0])"
      ]
    },
    {
      "cell_type": "code",
      "execution_count": null,
      "id": "5325bab1",
      "metadata": {
        "scrolled": false,
        "id": "5325bab1",
        "outputId": "cc4f7b2a-6cfe-4608-cfb5-853940f82629"
      },
      "outputs": [
        {
          "data": {
            "text/plain": [
              "\"<START> begins better than it ends funny that the russian submarine crew <UNK> all other actors it's like those scenes where documentary shots br br spoiler part the message <UNK> was contrary to the whole story it just does not <UNK> br br\""
            ]
          },
          "execution_count": 19,
          "metadata": {},
          "output_type": "execute_result"
        }
      ],
      "source": [
        "decode_imdb_sequence(X_train_full[5])"
      ]
    },
    {
      "cell_type": "markdown",
      "id": "49e43ea3",
      "metadata": {
        "id": "49e43ea3"
      },
      "source": [
        "Before using sequences of integers as input to our model, it is appropriate to **standardise the sequence length by padding shorter sequences and chopping off the end of very long sequences**, which allows us to convert our input to a multidimensional numpy array. Keras provides this functionality in a preprocessing library."
      ]
    },
    {
      "cell_type": "code",
      "execution_count": null,
      "id": "2e5586ff",
      "metadata": {
        "id": "2e5586ff"
      },
      "outputs": [],
      "source": [
        "# Pad/truncate sequences to length of 100\n",
        "X_train_full = keras.preprocessing.sequence.pad_sequences(X_train_full, maxlen=100)\n",
        "X_test = keras.preprocessing.sequence.pad_sequences(X_test, maxlen=100)"
      ]
    },
    {
      "cell_type": "code",
      "execution_count": null,
      "id": "9ba4ff40",
      "metadata": {
        "id": "9ba4ff40",
        "outputId": "0aabd1f2-ce19-4c6b-e838-6503221247b1"
      },
      "outputs": [
        {
          "data": {
            "text/plain": [
              "(25000, 100)"
            ]
          },
          "execution_count": 21,
          "metadata": {},
          "output_type": "execute_result"
        }
      ],
      "source": [
        "X_train_full.shape"
      ]
    },
    {
      "cell_type": "markdown",
      "id": "63361076",
      "metadata": {
        "id": "63361076"
      },
      "source": [
        "Data preprocessing can have a huge impact on performance in natural language tasks, and is typically a more involved process than for images with many options beyond what we have used here. For production tasks, it is advisable to tune your text preprocessing just as you would the parameters of your model.\n",
        "\n",
        "### Creating a validation set\n",
        "\n",
        "As usual when dealing with neural networks, it will be helpful to have a validation set."
      ]
    },
    {
      "cell_type": "code",
      "execution_count": null,
      "id": "06317028",
      "metadata": {
        "id": "06317028"
      },
      "outputs": [],
      "source": [
        "# Create validation set from 10% of the training set\n",
        "X_train, X_valid, y_train, y_valid = train_test_split(X_train_full, y_train_full, train_size=0.9)"
      ]
    },
    {
      "cell_type": "markdown",
      "source": [
        "### Defining our LSTM model"
      ],
      "metadata": {
        "id": "v4e12Ex4IAD1"
      },
      "id": "v4e12Ex4IAD1"
    },
    {
      "cell_type": "markdown",
      "source": [
        "<img src=\"https://www.researchgate.net/publication/324797619/figure/fig3/AS:619957268271104@1524820739011/Illustration-of-our-LSTM-model-to-generate-sentiment-vectors-During-the-training.png\" width=600>"
      ],
      "metadata": {
        "id": "jLVpPerXIAma"
      },
      "id": "jLVpPerXIAma"
    },
    {
      "cell_type": "markdown",
      "id": "1cf4cce9",
      "metadata": {
        "id": "1cf4cce9"
      },
      "source": [
        "\n",
        "\n",
        "Recall from the lecture that the idea behind recurrent models is to process inputs sequentially, updating a state vector by applying the same weights to each new input. Vanilla RNNs have problems encoding long sequences: eventually after many updates the gradients can grow very large, and the state vector may not properly encode the information from the earlier inputs.\n",
        "\n",
        "Since we are dealing with long sequences in this dataset, we will utilise a Long Short Term Memory network instead. As we covered in the lecture, this contains a more sophisticated system of 'gates' to update the hidden state vector without neglecting the information from much earlier in the sequence.\n",
        "\n",
        "Implementing recurrent models using Keras' Sequential API couldn't be easier:"
      ]
    },
    {
      "cell_type": "code",
      "execution_count": null,
      "id": "d639fc3c",
      "metadata": {
        "id": "d639fc3c"
      },
      "outputs": [],
      "source": [
        "# Implement a simple, single layer LSTM model\n",
        "model = keras.models.Sequential([\n",
        "\n",
        "    # Embedding layer maps words to dense vectors\n",
        "    keras.layers.Embedding(NUM_WORDS, 64),\n",
        "\n",
        "    # LSTM layer with 64 units\n",
        "    keras.layers.LSTM(64),\n",
        "\n",
        "    # Fully connceted layer performs classification on the LSTM output\n",
        "    keras.layers.Dense(1, activation=\"sigmoid\")\n",
        "])"
      ]
    },
    {
      "cell_type": "code",
      "execution_count": null,
      "id": "8fc70de6",
      "metadata": {
        "scrolled": true,
        "id": "8fc70de6",
        "outputId": "6f126c79-afba-42fd-8ca1-4b9bd7d35dad"
      },
      "outputs": [
        {
          "name": "stdout",
          "output_type": "stream",
          "text": [
            "Model: \"sequential_1\"\n",
            "_________________________________________________________________\n",
            " Layer (type)                Output Shape              Param #   \n",
            "=================================================================\n",
            " embedding (Embedding)       (None, None, 64)          640000    \n",
            "                                                                 \n",
            " lstm (LSTM)                 (None, 64)                33024     \n",
            "                                                                 \n",
            " dense_1 (Dense)             (None, 1)                 65        \n",
            "                                                                 \n",
            "=================================================================\n",
            "Total params: 673,089\n",
            "Trainable params: 673,089\n",
            "Non-trainable params: 0\n",
            "_________________________________________________________________\n"
          ]
        }
      ],
      "source": [
        "model.summary()"
      ]
    },
    {
      "cell_type": "markdown",
      "source": [
        "- ***Embedding layer***\n",
        "\n",
        "Rather than input indices directly to the LSTM, we first map the indices to vectors of size 64 which represent the word. These vectors are called embeddings and achieveing the best embeddings, or ones with particular properties, is a significant focus in Natural Language Processing. Here, we simply delegate this task to a trainable matrix of weights, so the embeddings will be trained along with the other components of our model."
      ],
      "metadata": {
        "id": "_5nE6_ZiKFPA"
      },
      "id": "_5nE6_ZiKFPA"
    },
    {
      "cell_type": "markdown",
      "source": [
        "<img src=\"https://s3.amazonaws.com/dq-content/793/5.1-m793.png\" width=600>"
      ],
      "metadata": {
        "id": "bVF369k_KGQ9"
      },
      "id": "bVF369k_KGQ9"
    },
    {
      "cell_type": "markdown",
      "id": "7f47c286",
      "metadata": {
        "id": "7f47c286"
      },
      "source": [
        "- ***LSTM***\n",
        "\n",
        "This is the core of our recurrent model. There are several gates which all have particular roles to play in appropriately processing the sequence. Briefly, a forget gate controls which parts of the long-term state to erase, an input gate controls which parts of the input to add to the long-term state, and an output gate determines which parts of the long-term state should be output at each time step.\n",
        "\n",
        "For a more thorough explanation, you may wish to consult the lecture or one of the course textbooks such as *Aurelien Geron (2019). Hands-on Machine Learning with Scikit-Learn, Keras and TensorFlow, O'Reilly.* Chapter 14, which is available online from the University library."
      ]
    },
    {
      "cell_type": "markdown",
      "source": [
        "<img src=\"https://miro.medium.com/v2/resize:fit:720/format:webp/1*ahafyNt0Ph_J6Ed9_2hvdg.png\" width=500>"
      ],
      "metadata": {
        "id": "WGuxZZBi-prC"
      },
      "id": "WGuxZZBi-prC"
    },
    {
      "cell_type": "markdown",
      "source": [
        "<img src=\"https://www.researchgate.net/publication/367498738/figure/fig3/AS:11431281194330108@1696041332093/LSTM-layer-architecture-and-a-single-LSTM-cell-details-LSTM-Layer-has-the-form-of-a.png\" width=500>\n",
        "\n",
        "*   **Forget Gate**: Forget irelevant information\n",
        "*   **Input Gate**: Add/update new information\n",
        "*   **Output Gate**: Pass updated information\n",
        "\n"
      ],
      "metadata": {
        "id": "TbOSNGtPNAtR"
      },
      "id": "TbOSNGtPNAtR"
    },
    {
      "cell_type": "markdown",
      "source": [
        "https://miro.medium.com/v2/resize:fit:1400/1*goJVQs-p9kgLODFNyhl9zA.gif"
      ],
      "metadata": {
        "id": "zokzro0QN8wB"
      },
      "id": "zokzro0QN8wB"
    },
    {
      "cell_type": "markdown",
      "source": [
        "- ***Fully connected classifier***\n",
        "\n",
        "Our final layer processes the LSTM output and produces a single output value, which is passed through a sigmoid function since our task is binary classification into positive and negative review sentiment."
      ],
      "metadata": {
        "id": "5uKUPFC_KSWT"
      },
      "id": "5uKUPFC_KSWT"
    },
    {
      "cell_type": "markdown",
      "id": "35c9c952",
      "metadata": {
        "id": "35c9c952"
      },
      "source": [
        "### Specifying the loss and optimiser\n",
        "We will again use the Adam optimiser to speed up convergence.\n",
        "\n",
        "Our loss function will be ```binary_crossentropy``` since we are doing binary classification. If you like, refer to the documentation [here](https://keras.io/api/losses/probabilistic_losses/#binary_crossentropy-function) to check the expected model outputs and labels."
      ]
    },
    {
      "cell_type": "code",
      "execution_count": null,
      "id": "68e9900c",
      "metadata": {
        "id": "68e9900c"
      },
      "outputs": [],
      "source": [
        "# Compile the model, specifying optimsier, loss and metrics\n",
        "model.compile(\"adam\", \"binary_crossentropy\", metrics=[\"accuracy\"])"
      ]
    },
    {
      "cell_type": "markdown",
      "id": "bdaa78f6",
      "metadata": {
        "id": "bdaa78f6"
      },
      "source": [
        "The following training cell may take several minutes to run depending on your hardware. If you're pressed for time, you can just examine the outputs.\n",
        "\n",
        "Can you notice any trend as training progresses?"
      ]
    },
    {
      "cell_type": "code",
      "execution_count": null,
      "id": "bdf0baf6",
      "metadata": {
        "scrolled": false,
        "id": "bdf0baf6",
        "outputId": "056c04b7-399b-4e8e-9d2b-99bca8bb1e94"
      },
      "outputs": [
        {
          "name": "stdout",
          "output_type": "stream",
          "text": [
            "Epoch 1/3\n",
            "704/704 [==============================] - 39s 52ms/step - loss: 0.4238 - accuracy: 0.8016 - val_loss: 0.3542 - val_accuracy: 0.8548\n",
            "Epoch 2/3\n",
            "704/704 [==============================] - 35s 50ms/step - loss: 0.2569 - accuracy: 0.8984 - val_loss: 0.3559 - val_accuracy: 0.8428\n",
            "Epoch 3/3\n",
            "704/704 [==============================] - 32s 45ms/step - loss: 0.1800 - accuracy: 0.9312 - val_loss: 0.4336 - val_accuracy: 0.8352\n"
          ]
        },
        {
          "data": {
            "text/plain": [
              "<keras.callbacks.History at 0x150be55e0>"
            ]
          },
          "execution_count": 26,
          "metadata": {},
          "output_type": "execute_result"
        }
      ],
      "source": [
        "\"\"\"Running this cell could take several minutes\"\"\"\n",
        "\n",
        "# Train the model for 3 epochs\n",
        "model.fit(X_train, y_train, batch_size=32, epochs=3, validation_data=(X_valid, y_valid))"
      ]
    },
    {
      "cell_type": "markdown",
      "id": "d99fc06a",
      "metadata": {
        "id": "d99fc06a"
      },
      "source": [
        "Not all sequential models have a single recurrent layer, and it is easy to stack multiple recurrent layers one after the other. Even making layers which process the sequence in both directions is a breeze in Keras. Creating other types of models is as simple as modifying the layers in the model definition. For example:\n",
        "\n",
        "A two-layer bidirectional LSTM:\n",
        "\n",
        "```model = keras.models.Sequential([\n",
        "    keras.layers.Embedding(NUM_WORDS, 64),\n",
        "    keras.layers.Bidirectional(keras.layers.LSTM(64, return_sequences=True)),\n",
        "    keras.layers.Bidirectional(keras.layers.LSTM(64)),\n",
        "    keras.layers.Dense(1, activation=\"sigmoid\")\n",
        "])```\n",
        "\n",
        "A simple RNN:\n",
        "\n",
        "```model = keras.models.Sequential([\n",
        "    keras.layers.Embedding(NUM_WORDS, 64),\n",
        "    keras.layers.SimpleRNN(64)\n",
        "    keras.layers.Dense(1, activation=\"sigmoid\")\n",
        "])```"
      ]
    },
    {
      "cell_type": "markdown",
      "id": "b9e7a516",
      "metadata": {
        "id": "b9e7a516"
      },
      "source": [
        "## 4. Task - Create a CNN for CIFAR-10"
      ]
    },
    {
      "cell_type": "markdown",
      "id": "185d4bca",
      "metadata": {
        "id": "185d4bca"
      },
      "source": [
        "For today's task, we will introduce another classic image classification dataset called CIFAR-10. The CIFAR-10 dataset contains 600000 32x32 RGB images of 10 classes of common objects. There is an equal number of images from each class, and a 50000/10000 train/test split.\n",
        "\n",
        "Let's load the data using Keras ([documentation](https://keras.io/api/datasets/cifar10/)). Since there is a significant number of images, this may take a minute."
      ]
    },
    {
      "cell_type": "code",
      "execution_count": null,
      "id": "84501d1a",
      "metadata": {
        "id": "84501d1a"
      },
      "outputs": [],
      "source": [
        "# Load CIFAR 10 dataset\n",
        "(X_train_full, y_train_full), (X_test, y_test) = keras.datasets.cifar10.load_data()"
      ]
    },
    {
      "cell_type": "code",
      "execution_count": null,
      "id": "d8d06744",
      "metadata": {
        "id": "d8d06744"
      },
      "outputs": [],
      "source": [
        "# Scale the data to the range 0-1\n",
        "X_train_full = X_train_full / 255.\n",
        "X_test = X_test / 255.\n",
        "\n",
        "# Create validation set from the training set\n",
        "X_train, X_valid, y_train, y_valid = train_test_split(X_train_full, y_train_full, train_size=0.9)"
      ]
    },
    {
      "cell_type": "markdown",
      "id": "99bb0053",
      "metadata": {
        "id": "99bb0053"
      },
      "source": [
        "Note there are 3 colour channels for each pixel, corresponding to the red, green, and blue values:"
      ]
    },
    {
      "cell_type": "code",
      "execution_count": null,
      "id": "043c4268",
      "metadata": {
        "id": "043c4268",
        "outputId": "57e8b901-e87d-4ff5-fe58-c9b92dd55f08"
      },
      "outputs": [
        {
          "data": {
            "text/plain": [
              "(45000, 32, 32, 3)"
            ]
          },
          "execution_count": 29,
          "metadata": {},
          "output_type": "execute_result"
        }
      ],
      "source": [
        "X_train.shape"
      ]
    },
    {
      "cell_type": "markdown",
      "id": "9b7e5aa9",
      "metadata": {
        "id": "9b7e5aa9"
      },
      "source": [
        "Let's take a look at some examples from the dataset. Can you spot what some of the classes might be?"
      ]
    },
    {
      "cell_type": "code",
      "execution_count": null,
      "id": "a26d8a68",
      "metadata": {
        "scrolled": true,
        "id": "a26d8a68",
        "outputId": "2547033e-20cb-42ff-bfd5-ec7a891baf0e"
      },
      "outputs": [
        {
          "data": {
            "image/png": "[encoded data removed]",
            "text/plain": [
              "<Figure size 864x345.6 with 40 Axes>"
            ]
          },
          "metadata": {
            "needs_background": "light"
          },
          "output_type": "display_data"
        }
      ],
      "source": [
        "plot_examples(X_train)"
      ]
    },
    {
      "cell_type": "markdown",
      "id": "2d618c08",
      "metadata": {
        "id": "2d618c08"
      },
      "source": [
        "You can check out a description of the dataset from its creators [here](https://www.cs.toronto.edu/~kriz/cifar.html). Using this, we can get an ordered list of the labels, which you may find useful to check your model's predictions."
      ]
    },
    {
      "cell_type": "code",
      "execution_count": null,
      "id": "2ce5ae86",
      "metadata": {
        "id": "2ce5ae86"
      },
      "outputs": [],
      "source": [
        "cifar10_labels = [\"airplane\", \"automobile\", \"bird\", \"cat\", \"deer\", \"dog\", \"frog\", \"horse\", \"ship\", \"truck\"]"
      ]
    },
    {
      "cell_type": "markdown",
      "id": "a49efb0d",
      "metadata": {
        "id": "a49efb0d"
      },
      "source": [
        "### Task\n",
        "Define, train and evaluate a CNN for the CIFAR10 problem.\n",
        "\n",
        "You can inspire your solution from the simple CNN we have already used for MNIST, or, if you are feeling ambitious, feel free to define a deeper CNN which you could base on one of the well-known architectures mentioned above ([AlexNet](https://papers.nips.cc/paper/4824-imagenet-classification-with-deep-convolutional-neural-networks.pdf), [VGG](https://arxiv.org/pdf/1409.1556.pdf), [ResNet](https://arxiv.org/abs/1512.03385)).\n",
        "\n",
        "For those of you who are already more comfortable with Keras and looking to strengthen your skills, an extension would be to chase the best performance possible by importing a pretrained Keras model from ```keras.applications``` ([documentation](https://keras.io/api/applications/)) and modifying it for the CIFAR10 task.\n",
        "\n",
        "A note on training time: a small CNN like the one we used for MNIST above will take about 30 seconds per epoch to train on modest, non-GPU hardware. If you are itching to try out deeper models and don't have GPU access, you can try uploading this notebook to [Google Colaboratory](https://colab.research.google.com) and change the runtime type to GPU, as mentioned in last week's tutorial."
      ]
    },
    {
      "cell_type": "markdown",
      "id": "db65e586",
      "metadata": {
        "id": "db65e586"
      },
      "source": [
        "### Solution\n",
        "Following is a simple solution using a similar model architecture as the earlier section. Feel free to be more creative with your solution to achieve a higher accuracy!"
      ]
    },
    {
      "cell_type": "code",
      "source": [
        "model = keras.Sequential([\n",
        "    keras.Input(shape=(32, 32, 3)),\n",
        "    keras.layers.Conv2D(32, kernel_size=(3, 3), activation=\"relu\"),\n",
        "    keras.layers.MaxPooling2D(pool_size=(2, 2)),\n",
        "    keras.layers.Conv2D(64, kernel_size=(3, 3), activation=\"relu\"),\n",
        "    keras.layers.MaxPooling2D(pool_size=(2, 2)),\n",
        "    keras.layers.Flatten(),\n",
        "    keras.layers.Dropout(0.5),\n",
        "    keras.layers.Dense(10, activation=\"softmax\"),\n",
        "])\n"
      ],
      "metadata": {
        "id": "tLd35vidOvYN"
      },
      "id": "tLd35vidOvYN",
      "execution_count": null,
      "outputs": []
    },
    {
      "cell_type": "code",
      "source": [
        "model.summary()"
      ],
      "metadata": {
        "colab": {
          "base_uri": "https://localhost:8080/"
        },
        "id": "y5P80dJ2Ow09",
        "outputId": "21784ded-2c6f-4d67-cdcb-6ae7c605c3de"
      },
      "id": "y5P80dJ2Ow09",
      "execution_count": null,
      "outputs": [
        {
          "output_type": "stream",
          "name": "stdout",
          "text": [
            "Model: \"sequential\"\n",
            "_________________________________________________________________\n",
            " Layer (type)                Output Shape              Param #   \n",
            "=================================================================\n",
            " conv2d (Conv2D)             (None, 30, 30, 32)        896       \n",
            "                                                                 \n",
            " max_pooling2d (MaxPooling2  (None, 15, 15, 32)        0         \n",
            " D)                                                              \n",
            "                                                                 \n",
            " conv2d_1 (Conv2D)           (None, 13, 13, 64)        18496     \n",
            "                                                                 \n",
            " max_pooling2d_1 (MaxPoolin  (None, 6, 6, 64)          0         \n",
            " g2D)                                                            \n",
            "                                                                 \n",
            " flatten (Flatten)           (None, 2304)              0         \n",
            "                                                                 \n",
            " dropout (Dropout)           (None, 2304)              0         \n",
            "                                                                 \n",
            " dense (Dense)               (None, 10)                23050     \n",
            "                                                                 \n",
            "=================================================================\n",
            "Total params: 42442 (165.79 KB)\n",
            "Trainable params: 42442 (165.79 KB)\n",
            "Non-trainable params: 0 (0.00 Byte)\n",
            "_________________________________________________________________\n"
          ]
        }
      ]
    },
    {
      "cell_type": "code",
      "execution_count": null,
      "id": "f3b0c79c",
      "metadata": {
        "id": "f3b0c79c",
        "outputId": "5835b256-0051-4ae0-eb7d-71ad8dcea02a"
      },
      "outputs": [
        {
          "name": "stdout",
          "output_type": "stream",
          "text": [
            "Epoch 1/20\n",
            "352/352 [==============================] - 38s 104ms/step - loss: 1.7257 - accuracy: 0.3809 - val_loss: 1.4483 - val_accuracy: 0.4937\n",
            "Epoch 2/20\n",
            "352/352 [==============================] - 41s 114ms/step - loss: 1.3951 - accuracy: 0.5066 - val_loss: 1.2802 - val_accuracy: 0.5555\n",
            "Epoch 3/20\n",
            "352/352 [==============================] - 43s 122ms/step - loss: 1.2738 - accuracy: 0.5532 - val_loss: 1.1690 - val_accuracy: 0.5989\n",
            "Epoch 4/20\n",
            "352/352 [==============================] - 46s 131ms/step - loss: 1.2068 - accuracy: 0.5797 - val_loss: 1.1059 - val_accuracy: 0.6203\n",
            "Epoch 5/20\n",
            "352/352 [==============================] - 29s 81ms/step - loss: 1.1485 - accuracy: 0.5995 - val_loss: 1.0615 - val_accuracy: 0.6401\n",
            "Epoch 6/20\n",
            "352/352 [==============================] - 29s 82ms/step - loss: 1.1044 - accuracy: 0.6153 - val_loss: 1.0710 - val_accuracy: 0.6358\n",
            "Epoch 7/20\n",
            "352/352 [==============================] - 29s 83ms/step - loss: 1.0694 - accuracy: 0.6278 - val_loss: 1.0334 - val_accuracy: 0.6517\n",
            "Epoch 8/20\n",
            "352/352 [==============================] - 30s 85ms/step - loss: 1.0449 - accuracy: 0.6377 - val_loss: 0.9985 - val_accuracy: 0.6582\n",
            "Epoch 9/20\n",
            "352/352 [==============================] - 49s 140ms/step - loss: 1.0231 - accuracy: 0.6469 - val_loss: 0.9628 - val_accuracy: 0.6764\n",
            "Epoch 10/20\n",
            "352/352 [==============================] - 36s 102ms/step - loss: 1.0037 - accuracy: 0.6522 - val_loss: 0.9548 - val_accuracy: 0.6805\n",
            "Epoch 11/20\n",
            "352/352 [==============================] - 42s 120ms/step - loss: 0.9837 - accuracy: 0.6582 - val_loss: 0.9596 - val_accuracy: 0.6786\n",
            "Epoch 12/20\n",
            "352/352 [==============================] - 67s 189ms/step - loss: 0.9676 - accuracy: 0.6686 - val_loss: 0.9411 - val_accuracy: 0.6840\n",
            "Epoch 13/20\n",
            "352/352 [==============================] - 32s 90ms/step - loss: 0.9558 - accuracy: 0.6693 - val_loss: 0.9248 - val_accuracy: 0.6876\n",
            "Epoch 14/20\n",
            "352/352 [==============================] - 32s 90ms/step - loss: 0.9445 - accuracy: 0.6742 - val_loss: 0.8954 - val_accuracy: 0.6969\n",
            "Epoch 15/20\n",
            "352/352 [==============================] - 31s 87ms/step - loss: 0.9278 - accuracy: 0.6796 - val_loss: 0.9135 - val_accuracy: 0.6936\n",
            "Epoch 16/20\n",
            "352/352 [==============================] - 31s 88ms/step - loss: 0.9229 - accuracy: 0.6823 - val_loss: 0.8837 - val_accuracy: 0.6995\n",
            "Epoch 17/20\n",
            "352/352 [==============================] - 32s 91ms/step - loss: 0.9046 - accuracy: 0.6887 - val_loss: 0.8671 - val_accuracy: 0.7064\n",
            "Epoch 18/20\n",
            "352/352 [==============================] - 32s 90ms/step - loss: 0.8904 - accuracy: 0.6929 - val_loss: 0.8765 - val_accuracy: 0.6995\n",
            "Epoch 19/20\n",
            "352/352 [==============================] - 30s 85ms/step - loss: 0.8809 - accuracy: 0.6958 - val_loss: 0.8512 - val_accuracy: 0.7120\n",
            "Epoch 20/20\n",
            "352/352 [==============================] - 32s 90ms/step - loss: 0.8760 - accuracy: 0.6972 - val_loss: 0.8497 - val_accuracy: 0.7089\n"
          ]
        }
      ],
      "source": [
        "# Compile model with loss, optimiser, and metrics\n",
        "model.compile(loss='sparse_categorical_crossentropy',\n",
        "              optimizer=\"adam\",\n",
        "              metrics=['accuracy'])\n",
        "\n",
        "# Train the model for 20 epochs with batch size 128\n",
        "batch_size = 128\n",
        "epochs = 20\n",
        "history = model.fit(X_train, y_train, batch_size=batch_size,\n",
        "                    epochs=epochs, validation_data=(X_test, y_test))"
      ]
    },
    {
      "cell_type": "markdown",
      "id": "09ba6cc5",
      "metadata": {
        "id": "09ba6cc5"
      },
      "source": [
        "## 5. Summary\n",
        "\n",
        "Today has provided a simple introduction into the rich and complex world of CNNs and RNNs, which have become immensely popular in recent years. CNNs and RNNs can also be used for a wide variety of image and sequence-based tasks, including image segmentation, language generation, and machine translation, just to name a few.   "
      ]
    },
    {
      "cell_type": "code",
      "execution_count": null,
      "id": "a468526b",
      "metadata": {
        "id": "a468526b"
      },
      "outputs": [],
      "source": [
        "# CNN summary\n",
        "model = keras.Sequential([\n",
        "    keras.Input(shape=(28, 28, 1)),\n",
        "    keras.layers.Conv2D(32, kernel_size=(3, 3), activation=\"relu\"),\n",
        "    keras.layers.MaxPooling2D(pool_size=(2, 2)),\n",
        "    keras.layers.Conv2D(64, kernel_size=(3, 3), activation=\"relu\"),\n",
        "    keras.layers.MaxPooling2D(pool_size=(2, 2)),\n",
        "    keras.layers.Flatten(),\n",
        "    keras.layers.Dropout(0.5),\n",
        "    keras.layers.Dense(10, activation=\"softmax\"),\n",
        "])\n",
        "\n",
        "model.compile(loss='sparse_categorical_crossentropy',\n",
        "              optimizer=\"adam\",\n",
        "              metrics=['accuracy'])\n",
        "\n",
        "history = model.fit(train_generator, batch_size=batch_size,\n",
        "                    epochs=epochs, validation_data=(X_valid, y_valid))\n",
        "\n",
        "# RNN/LSTM summary\n",
        "model = keras.models.Sequential([\n",
        "    keras.layers.Embedding(NUM_WORDS, 64),\n",
        "    keras.layers.LSTM(64),\n",
        "    keras.layers.Dense(1, activation=\"sigmoid\")\n",
        "])\n",
        "\n",
        "model.compile(\"adam\", \"binary_crossentropy\", metrics=[\"accuracy\"])\n",
        "\n",
        "model.fit(X_train, y_train, batch_size=32, epochs=3, validation_data=(X_valid, y_valid))"
      ]
    },
    {
      "cell_type": "markdown",
      "id": "a582db77",
      "metadata": {
        "id": "a582db77"
      },
      "source": [
        "## Acknowledgements\n",
        "\n",
        "This tutorial is based on:\n",
        "\n",
        "Aurelien Geron (2019). Hands-on Machine Learning with Scikit-Learn, Keras and TensorFlow, O'Reilly.\n",
        "\n",
        "François Chollet (2021). Simple MNIST convnet, Keras code examples https://keras.io/examples/vision/mnist_convnet/ [web]"
      ]
    }
  ],
  "metadata": {
    "kernelspec": {
      "display_name": "Python 3 (ipykernel)",
      "language": "python",
      "name": "python3"
    },
    "language_info": {
      "codemirror_mode": {
        "name": "ipython",
        "version": 3
      },
      "file_extension": ".py",
      "mimetype": "text/x-python",
      "name": "python",
      "nbconvert_exporter": "python",
      "pygments_lexer": "ipython3",
      "version": "3.8.5"
    },
    "colab": {
      "provenance": []
    }
  },
  "nbformat": 4,
  "nbformat_minor": 5
}