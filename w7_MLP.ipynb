{
  "cells": [
    {
      "cell_type": "markdown",
      "id": "7d95183f",
      "metadata": {
        "id": "7d95183f"
      },
      "source": [
        "# COMP5318 Week 7: Introduction to Keras and Multilayer Perceptrons"
      ]
    },
    {
      "cell_type": "markdown",
      "id": "c2361070",
      "metadata": {
        "id": "c2361070"
      },
      "source": [
        "Though an old idea, interest in Artificial Neural Networks has dramatically increased in recent times alongside an increase in available training data and computing power. Research has spawned a multitude of different network types and improvements which build on the ideas of the multilayer perceptron, and neural networks currently exhibit the best performance on many problems. The attraction is clear: neural networks are versatile and very powerful, with the ability to approximate any possible mapping of inputs to outputs given a sufficient number of neurons.\n",
        "\n",
        "However, despite their popularity, NNs are not always the most appropriate solution to every problem. They have limited interpretability (contrary to algorithms such as decision trees), are prone to overfitting due to their high complexity and number of parameters, can be difficult to design and tune hyperparameters (as we will see in today's lab), and can have very long runtimes if we utilise large networks. Like any powerful tool, their use should be carefully considered before deployment.\n",
        "\n",
        "In this lab, we will introduce you to the implementation of multilayer percepton (MLP) networks using the Keras library and explore the hyperparameters of multilayer perceptrons."
      ]
    },
    {
      "cell_type": "markdown",
      "id": "4ee98eeb",
      "metadata": {
        "id": "4ee98eeb"
      },
      "source": [
        "## 1. Setup"
      ]
    },
    {
      "cell_type": "markdown",
      "id": "e2f33863",
      "metadata": {
        "id": "e2f33863"
      },
      "source": [
        "We begin by importing commonly used packages and setting up our plotting environment."
      ]
    },
    {
      "cell_type": "code",
      "execution_count": null,
      "id": "53fbbf9f",
      "metadata": {
        "id": "53fbbf9f"
      },
      "outputs": [],
      "source": [
        "import sys\n",
        "import numpy as np\n",
        "import pandas as pd\n",
        "import matplotlib.pyplot as plt\n",
        "import sklearn\n",
        "import time\n",
        "\n",
        "# Make the notebook's output stable across runs\n",
        "np.random.seed(42)\n",
        "\n",
        "# Set up inline plotting and figure/axis labels\n",
        "%matplotlib inline\n",
        "import matplotlib as mpl\n",
        "import matplotlib.pyplot as plt\n",
        "mpl.rc('axes', labelsize=14)\n",
        "mpl.rc('xtick', labelsize=12)\n",
        "mpl.rc('ytick', labelsize=12)"
      ]
    },
    {
      "cell_type": "markdown",
      "id": "36737db1",
      "metadata": {
        "id": "36737db1"
      },
      "source": [
        "## 2. Keras: A Simple Deep Learning API"
      ]
    },
    {
      "cell_type": "markdown",
      "id": "7e543737",
      "metadata": {
        "id": "7e543737"
      },
      "source": [
        "So far in the course, we have implemented various algorithms using the sklearn library. Today, we would like to introduce **Keras** as the core deep learning library we will use in the course.\n",
        "\n",
        "[Keras](https://keras.io) is very flexible and feature-rich, but in large part retains the simplicity of sklearn (and even shares some of its syntax). Technically, it is an easy-to-use frontend which typically relies on the [TensorFlow](https://www.tensorflow.org) library to handle the matrix-heavy computations underlying neural networks. TensorFlow and similar libraries such as [PyTorch](https://pytorch.org) also have the ability to run computations on GPU hardware, which can drastically decrease runtimes by exploiting their many cores for parallel calculations.\n",
        "\n",
        "Let's now handle the setup of Keras and TensorFlow."
      ]
    },
    {
      "cell_type": "markdown",
      "source": [
        "### Keras vs TensorFlow vs Pytorch"
      ],
      "metadata": {
        "id": "4GpUgXgTERdL"
      },
      "id": "4GpUgXgTERdL"
    },
    {
      "cell_type": "markdown",
      "source": [
        "<img src=\"https://miro.medium.com/v2/resize:fit:1400/0*T6W0rRy8vgFU_K7Z.png\" width=700>"
      ],
      "metadata": {
        "id": "nTa8UUmDDqYj"
      },
      "id": "nTa8UUmDDqYj"
    },
    {
      "cell_type": "markdown",
      "id": "bc4d0d60",
      "metadata": {
        "id": "bc4d0d60"
      },
      "source": [
        "### Installing TensorFlow and Keras\n",
        "\n",
        "If tensorflow is not already installed on your system, you can utilise pip (the python package installer) to easily download and install the package. This command will also take care of the Keras installation."
      ]
    },
    {
      "cell_type": "code",
      "execution_count": null,
      "id": "87d35c86",
      "metadata": {
        "id": "87d35c86"
      },
      "outputs": [],
      "source": [
        "# Run this cell to install tensorflow in the same python install as the kernel\n",
        "!{sys.executable} -m pip install -U tensorflow==2.16.1"
      ]
    },
    {
      "cell_type": "markdown",
      "id": "257caf46",
      "metadata": {
        "id": "257caf46"
      },
      "source": [
        "For these tutorials, we will not require a GPU. However, in case you wish to experiment with larger neural networks and thus desire GPU support, please note that the installation process will be more involved, and you will need to install extra libraries such as CUDA. This [installation guide](https://www.tensorflow.org/install/gpu) may be a useful reference. Another option for GPU support is to utilise preconfigured cloud instances (many different providers - usually paid), or an online GPU python notebook service such as [Google Colaboratory](https://colab.research.google.com) (free and paid tiers).\n",
        "\n",
        "While we are in the process of setting things up, we will also install the [SciKeras](https://github.com/adriangb/scikeras) library, which can make our Keras models directly compatible with sklearn grid searches, ensembles, and other functionality with which we are already familiar."
      ]
    },
    {
      "cell_type": "code",
      "execution_count": null,
      "id": "56e25637",
      "metadata": {
        "id": "56e25637"
      },
      "outputs": [],
      "source": [
        "!{sys.executable} -m pip install -U scikeras"
      ]
    },
    {
      "cell_type": "markdown",
      "id": "f31e36c3",
      "metadata": {
        "id": "f31e36c3"
      },
      "source": [
        "With the installation handled, we can now proceed to import tensorflow and keras."
      ]
    },
    {
      "cell_type": "code",
      "execution_count": null,
      "id": "1d8d8143",
      "metadata": {
        "id": "1d8d8143"
      },
      "outputs": [],
      "source": [
        "import tensorflow as tf\n",
        "from tensorflow import keras\n",
        "\n",
        "# Ensure stability across runs\n",
        "keras.backend.clear_session()\n",
        "tf.random.set_seed(42)"
      ]
    },
    {
      "cell_type": "markdown",
      "id": "fa4539ae",
      "metadata": {
        "id": "fa4539ae"
      },
      "source": [
        "## 3. Building an MLP Image Classifier"
      ]
    },
    {
      "cell_type": "markdown",
      "id": "1ca2d6e2",
      "metadata": {
        "id": "1ca2d6e2"
      },
      "source": [
        "To introduce you to defining and using MLP models in the Keras library, we will build an image classifier. Image classification is a popular application of neural networks, and one in which performance often greatly exceeds that of the traditional ML models we have covered so far due to the complex mapping required from pixel inputs to classes.\n",
        "\n",
        "Let's begin by loading our dataset, inspecting it, and performing any required preprocessing. It is important to begin with this step as it will influence how we wish to design the network. For example, it will determine how we need to encode the outputs, and the difficulty of the task will roughly guide us on a reasonable initial size for the network."
      ]
    },
    {
      "cell_type": "markdown",
      "id": "1bc99a5c",
      "metadata": {
        "id": "1bc99a5c"
      },
      "source": [
        "### Data loading, exploration and preprocessing\n",
        "\n",
        "You may recall the MNIST dataset from the PCA task at the end of last week's tutorial.\n",
        "\n",
        "The [MNIST](http://yann.lecun.com/exdb/mnist/) dataset of handwritten digit images is frequently used by machine learning tutorials and developers who wish to prototype their models before deploying to other datasets. It is widely available and, morevoer, the task is simple and the images are low dimensional, which is important for training and testing models/ideas out quickly.\n",
        "\n",
        "Keras provides a convenience module ```keras.datasets``` ([documentation](https://keras.io/api/datasets/)) to quickly load several of these 'prototyping' datasets, including MNIST. Let's load the data now.\n",
        "\n"
      ]
    },
    {
      "cell_type": "code",
      "execution_count": null,
      "id": "1ee0e77d",
      "metadata": {
        "id": "1ee0e77d",
        "colab": {
          "base_uri": "https://localhost:8080/"
        },
        "outputId": "bbdc1420-1363-4777-dd51-2aef7b8b952f"
      },
      "outputs": [
        {
          "output_type": "stream",
          "name": "stdout",
          "text": [
            "Downloading data from https://storage.googleapis.com/tensorflow/tf-keras-datasets/mnist.npz\n",
            "11490434/11490434 [==============================] - 2s 0us/step\n"
          ]
        }
      ],
      "source": [
        "# Load the MNIST data\n",
        "(X_train_full, y_train_full), (X_test, y_test) = keras.datasets.mnist.load_data()"
      ]
    },
    {
      "cell_type": "markdown",
      "id": "2231979a",
      "metadata": {
        "id": "2231979a"
      },
      "source": [
        "The data comes already split into a train and test set. To find the number of samples in each set, we can examine the shape of the data arrays."
      ]
    },
    {
      "cell_type": "code",
      "execution_count": null,
      "id": "d200a1e9",
      "metadata": {
        "colab": {
          "base_uri": "https://localhost:8080/"
        },
        "id": "d200a1e9",
        "outputId": "89784840-35d9-410f-a743-5e31b8804bdd"
      },
      "outputs": [
        {
          "output_type": "stream",
          "name": "stdout",
          "text": [
            "Shape of X_train_full: (60000, 28, 28)\n",
            "Shape of y_train_full: (60000,)\n",
            "Shape of X_test: (10000, 28, 28)\n",
            "Shape of y_test: (10000,)\n"
          ]
        }
      ],
      "source": [
        "print(f\"Shape of X_train_full: {X_train_full.shape}\")\n",
        "print(f\"Shape of y_train_full: {y_train_full.shape}\")\n",
        "print(f\"Shape of X_test: {X_test.shape}\")\n",
        "print(f\"Shape of y_test: {y_test.shape}\")"
      ]
    },
    {
      "cell_type": "markdown",
      "id": "aa115fe5",
      "metadata": {
        "id": "aa115fe5"
      },
      "source": [
        "We have a training set of 60000 examples and a test set of 10000 examples. From this output we can also deduce that the images are represented as a 28x28 grid, meaning after flattening there will be $28*28=784$ input features for our network. The MNIST images are black and white, since there is only one value per pixel (rather than 3 channels for an RGB image)."
      ]
    },
    {
      "cell_type": "markdown",
      "id": "9c855a3d",
      "metadata": {
        "id": "9c855a3d"
      },
      "source": [
        "Looking at the data type informs us that each pixel intensity is represented as a byte (```uint8```), which can take values from 0 to 255."
      ]
    },
    {
      "cell_type": "code",
      "execution_count": null,
      "id": "90d86fd8",
      "metadata": {
        "colab": {
          "base_uri": "https://localhost:8080/"
        },
        "id": "90d86fd8",
        "outputId": "4d611135-faa8-4eb8-8f02-bd660301e35a"
      },
      "outputs": [
        {
          "output_type": "execute_result",
          "data": {
            "text/plain": [
              "dtype('uint8')"
            ]
          },
          "metadata": {},
          "execution_count": 5
        }
      ],
      "source": [
        "X_train_full.dtype"
      ]
    },
    {
      "cell_type": "markdown",
      "id": "6d87b7a0",
      "metadata": {
        "id": "6d87b7a0"
      },
      "source": [
        "Without delving into too much detail, it is often a good idea to normalise or scale the input features to a 0-1 range. Most weight initialisation methods make such assumptions, and large inputs can cause gradients very close to 0 after passing the neuron output through an activation function, hindering your training process.\n",
        "\n",
        "Let's simply divide the pixel values by 255, converting them to floats in the process."
      ]
    },
    {
      "cell_type": "code",
      "execution_count": null,
      "id": "a9f3b65f",
      "metadata": {
        "id": "a9f3b65f"
      },
      "outputs": [],
      "source": [
        "# Scale the data to the range 0-1\n",
        "X_train_full = X_train_full / 255.\n",
        "X_test = X_test / 255."
      ]
    },
    {
      "cell_type": "markdown",
      "id": "2fc59016",
      "metadata": {
        "id": "2fc59016"
      },
      "source": [
        "We can now visualise some images to better understand the problem our model will aim to solve.\n",
        "\n",
        "The numpy array for one example can be plotted using ```plt.imshow```."
      ]
    },
    {
      "cell_type": "code",
      "execution_count": null,
      "id": "ecdcf9b3",
      "metadata": {
        "colab": {
          "base_uri": "https://localhost:8080/",
          "height": 434
        },
        "id": "ecdcf9b3",
        "outputId": "01620ce0-bc4d-4fab-99b9-65d47c9ededd"
      },
      "outputs": [
        {
          "output_type": "display_data",
          "data": {
            "text/plain": [
              "<Figure size 640x480 with 1 Axes>"
            ],
            "image/png": "[encoded data removed]"
          },
          "metadata": {}
        }
      ],
      "source": [
        "plt.imshow(X_train_full[0], cmap=\"binary\")\n",
        "plt.show()"
      ]
    },
    {
      "cell_type": "markdown",
      "id": "23752db8",
      "metadata": {
        "id": "23752db8"
      },
      "source": [
        "Let's visualise more examples in a grid to get a better idea of their characteristics."
      ]
    },
    {
      "cell_type": "code",
      "execution_count": null,
      "id": "343b1dcc",
      "metadata": {
        "colab": {
          "base_uri": "https://localhost:8080/",
          "height": 368
        },
        "id": "343b1dcc",
        "outputId": "0f561c1e-9532-4c3c-ee5c-47ccad58c6d1"
      },
      "outputs": [
        {
          "output_type": "display_data",
          "data": {
            "text/plain": [
              "<Figure size 1200x480 with 40 Axes>"
            ],
            "image/png": "[encoded data removed]"
          },
          "metadata": {}
        }
      ],
      "source": [
        "def plot_examples(data, n_rows=4, n_cols=10):\n",
        "    \"\"\"Plot a grid of MNIST examples of a specified size.\"\"\"\n",
        "\n",
        "    # Size figure depending on the size of the grid\n",
        "    plt.figure(figsize=(n_cols * 1.2, n_rows * 1.2))\n",
        "\n",
        "    for row in range(n_rows):\n",
        "        for col in range(n_cols):\n",
        "\n",
        "            # Get next index of image\n",
        "            index = n_cols * row + col\n",
        "\n",
        "            # Plot the image at appropriate place in grid\n",
        "            plt.subplot(n_rows, n_cols, index + 1)\n",
        "            plt.imshow(data[index], cmap=\"binary\")\n",
        "            plt.axis('off')\n",
        "\n",
        "    plt.show()\n",
        "\n",
        "plot_examples(X_train_full)"
      ]
    },
    {
      "cell_type": "markdown",
      "id": "e582b58e",
      "metadata": {
        "id": "e582b58e"
      },
      "source": [
        "We see that the images are size-normalised and centred. The minimal preprocessing required for this dataset is part of its attraction.\n",
        "\n",
        "Finally, we need to examine the class labels as this will determine the output encoding of our network."
      ]
    },
    {
      "cell_type": "code",
      "execution_count": null,
      "id": "d74a5c7d",
      "metadata": {
        "colab": {
          "base_uri": "https://localhost:8080/"
        },
        "id": "d74a5c7d",
        "outputId": "99e3e149-1635-4813-8c0f-997ad395a7a3"
      },
      "outputs": [
        {
          "output_type": "stream",
          "name": "stdout",
          "text": [
            "[5 0 4 1 9]\n",
            "[0 1 2 3 4 5 6 7 8 9]\n"
          ]
        }
      ],
      "source": [
        "# Check the format of the label by looking at the first five examples\n",
        "print(y_train_full[0:5])\n",
        "\n",
        "# List all unique labels in the training set\n",
        "print(np.unique(y_train_full))"
      ]
    },
    {
      "cell_type": "markdown",
      "id": "a3ab37fe",
      "metadata": {
        "id": "a3ab37fe"
      },
      "source": [
        "As expected, we have ten labels corresponding to the different digits. The labels are provided as indices, as opposed to one hot vectors (where 3 would be represented as ```[0001000000]```)."
      ]
    },
    {
      "cell_type": "markdown",
      "source": [
        "### Creating a validation set"
      ],
      "metadata": {
        "id": "ewL5VhiDFBtv"
      },
      "id": "ewL5VhiDFBtv"
    },
    {
      "cell_type": "markdown",
      "source": [
        "<img src=\"https://developers.google.com/static/machine-learning/crash-course/images/PartitionThreeSets.png\" width=600>\n",
        "\n",
        "<img src=\"https://developers.google.com/static/machine-learning/crash-course/images/workflow_with_validation_set.svg\" width=600>"
      ],
      "metadata": {
        "id": "7Vbtf2BDFCJN"
      },
      "id": "7Vbtf2BDFCJN"
    },
    {
      "cell_type": "markdown",
      "id": "564b6dde",
      "metadata": {
        "id": "564b6dde"
      },
      "source": [
        "When training and tuning neural networks, having a third data split called the validation set is very useful. During training we will need to determine the appropriate point to stop training to minimise overfitting, however we should not use the test set to do this, as we may bias our training process to this particular test set, and it would no longer be a fair measure of the generalisation ability of the network. Hence, we can use the validation set for this purpose. Additionally, if we wish to tune hyperparameters it is often infeasible to use k-fold cross validation due to its long runtime, so we are sometimes forced to evaluate a single training run using the validation set instead.\n",
        "\n",
        "Let's set aside 10% of the original training data for this purpose using sklearn's ```train_test_split```."
      ]
    },
    {
      "cell_type": "code",
      "execution_count": null,
      "id": "a69839bd",
      "metadata": {
        "id": "a69839bd"
      },
      "outputs": [],
      "source": [
        "from sklearn.model_selection import train_test_split\n",
        "X_train, X_valid, y_train, y_valid = train_test_split(X_train_full, y_train_full, train_size=0.9)"
      ]
    },
    {
      "cell_type": "markdown",
      "source": [
        "### Defining the model"
      ],
      "metadata": {
        "id": "XyKHZxVkGTIc"
      },
      "id": "XyKHZxVkGTIc"
    },
    {
      "cell_type": "markdown",
      "source": [
        "<img src=\"https://miro.medium.com/v2/resize:fit:1200/1*WzwKtnA0LEhiCGdWTTpLaA.png\" width=700>"
      ],
      "metadata": {
        "id": "b0RbOLSwHX1E"
      },
      "id": "b0RbOLSwHX1E"
    },
    {
      "cell_type": "markdown",
      "id": "4a1825c9",
      "metadata": {
        "id": "4a1825c9"
      },
      "source": [
        "\n",
        "\n",
        "With our data fully prepared, it is now time to design our multilayer perceptron network. Neural network design can be difficult, with infinite possible combinations of hidden layers and numbers of neurons in each. While an MLP with one hidden layer can model any problem with enough neurons, deeper networks with multiple layers often have much higher parameter efficiency, using less weights (and hence less computation) to solve the same problem.\n",
        "\n",
        "Although there are few firm rules, with practice and exposure to neural networks in different contexts, you will develop an intuition for the appropriate starting design for your network's hidden layers depending on your problem and computational constraints. Tuning these design parameters and stopping training early to avoid overfitting can also help allevaite concern over the initial design.\n",
        "\n",
        "Today, we aim to solve a relatively simple task, and importantly, we aim to use a network which we can train and evaluate in a feasible time during today's lab. We have defined the following feedforward network below using Keras' Sequential framework ([documentation](https://keras.io/api/models/)), suitable for models where there is a single stack of layers connected sequentially."
      ]
    },
    {
      "cell_type": "code",
      "execution_count": null,
      "id": "b0cacea2",
      "metadata": {
        "id": "b0cacea2"
      },
      "outputs": [],
      "source": [
        "# Define the model using Sequential API\n",
        "# Define our MLP layer by layer\n",
        "model = keras.models.Sequential([\n",
        "    keras.layers.Flatten(input_shape=[28, 28]),\n",
        "    keras.layers.Dense(300, activation=\"tanh\"),\n",
        "    keras.layers.Dense(100, activation=\"tanh\"),\n",
        "    keras.layers.Dense(10, activation=\"softmax\")\n",
        "])"
      ]
    },
    {
      "cell_type": "markdown",
      "source": [
        "or"
      ],
      "metadata": {
        "id": "qFlVOfw1Kj05"
      },
      "id": "qFlVOfw1Kj05"
    },
    {
      "cell_type": "code",
      "source": [
        "# Define the model using Functional API\n",
        "# Define the input layer\n",
        "inputs = keras.Input(shape=(28, 28))\n",
        "# Flatten the input layer\n",
        "x = keras.layers.Flatten()(inputs)\n",
        "# Add the first hidden layer\n",
        "x = keras.layers.Dense(300, activation=\"tanh\")(x)\n",
        "# Add the second hidden layer\n",
        "x = keras.layers.Dense(100, activation=\"tanh\")(x)\n",
        "# Add the output layer\n",
        "outputs = keras.layers.Dense(10, activation=\"softmax\")(x)\n",
        "\n",
        "# Create the model\n",
        "f_model = keras.Model(inputs=inputs, outputs=outputs)"
      ],
      "metadata": {
        "id": "8walW7UaKVAW"
      },
      "id": "8walW7UaKVAW",
      "execution_count": null,
      "outputs": []
    },
    {
      "cell_type": "code",
      "source": [
        "# Define the above model using model subclassing\n",
        "\n",
        "class MLP(keras.Model):\n",
        "\n",
        "  def __init__(self):\n",
        "    super().__init__()\n",
        "    self.flatten = keras.layers.Flatten(input_shape=[28, 28])\n",
        "    self.d1 = keras.layers.Dense(300, activation=\"tanh\")\n",
        "    self.d2 = keras.layers.Dense(100, activation=\"tanh\")\n",
        "    self.d3 = keras.layers.Dense(10, activation=\"softmax\")\n",
        "\n",
        "  def call(self, x):\n",
        "    x = self.flatten(x)\n",
        "    x = self.d1(x)\n",
        "    x = self.d2(x)\n",
        "    return self.d3(x)\n",
        "\n",
        "s_model = MLP()\n"
      ],
      "metadata": {
        "id": "ld0TYoC7MAcB"
      },
      "id": "ld0TYoC7MAcB",
      "execution_count": null,
      "outputs": []
    },
    {
      "cell_type": "markdown",
      "id": "1c826bb6",
      "metadata": {
        "id": "1c826bb6"
      },
      "source": [
        "Note that our first layer simply flattens our input for the next layer. Here, we also define the size of the input, which will determine the number of weights between the input layer and first hidden layer. If you do not specify the input shape, Keras will simply wait until you begin to pass data to the model to actually build it.\n",
        "\n",
        "For our hidden layers, we have utilised the ReLU activation function (different activation functions are discussed below). Each of these dense layers maintains the weight (and bias) matrix for the connections between the neurons and their inputs.\n",
        "\n",
        "The final layer is determined by the nature of our classification problem. We have ten classes, so we require 10 output neurons, and we utilise the softmax function ($\\frac{e^{z_{i}}}{\\sum_{j=1}^{K} e^{z_{j}}}$) to convert the raw outputs of this layer into a probability distribution over the classes."
      ]
    },
    {
      "cell_type": "markdown",
      "source": [
        "<img src=\"https://miro.medium.com/v2/resize:fit:1400/1*ReYpdIZ3ZSAPb2W8cJpkBg.jpeg\" width=400>"
      ],
      "metadata": {
        "id": "SfXCWyiQUCuE"
      },
      "id": "SfXCWyiQUCuE"
    },
    {
      "cell_type": "markdown",
      "id": "d891d7c0",
      "metadata": {
        "id": "d891d7c0"
      },
      "source": [
        "With so many connections between the neurons in each layer, we can end up with a lot of parameters. Let's take a look at our model using ```model.summary()```."
      ]
    },
    {
      "cell_type": "code",
      "execution_count": null,
      "id": "140be956",
      "metadata": {
        "colab": {
          "base_uri": "https://localhost:8080/"
        },
        "id": "140be956",
        "outputId": "68ff5af3-15ab-471b-d3ae-aede139637f6"
      },
      "outputs": [
        {
          "output_type": "stream",
          "name": "stdout",
          "text": [
            "Model: \"sequential\"\n",
            "_________________________________________________________________\n",
            " Layer (type)                Output Shape              Param #   \n",
            "=================================================================\n",
            " flatten (Flatten)           (None, 784)               0         \n",
            "                                                                 \n",
            " dense (Dense)               (None, 300)               235500    \n",
            "                                                                 \n",
            " dense_1 (Dense)             (None, 100)               30100     \n",
            "                                                                 \n",
            " dense_2 (Dense)             (None, 10)                1010      \n",
            "                                                                 \n",
            "=================================================================\n",
            "Total params: 266610 (1.02 MB)\n",
            "Trainable params: 266610 (1.02 MB)\n",
            "Non-trainable params: 0 (0.00 Byte)\n",
            "_________________________________________________________________\n"
          ]
        }
      ],
      "source": [
        "model.summary()"
      ]
    },
    {
      "cell_type": "markdown",
      "id": "879aa3a5",
      "metadata": {
        "id": "879aa3a5"
      },
      "source": [
        "We can also access the model weights directly and inspect them."
      ]
    },
    {
      "cell_type": "code",
      "execution_count": null,
      "id": "fbb5609b",
      "metadata": {
        "id": "fbb5609b"
      },
      "outputs": [],
      "source": [
        "weights, biases = model.layers[1].get_weights()"
      ]
    },
    {
      "cell_type": "code",
      "execution_count": null,
      "id": "ee0b9cce",
      "metadata": {
        "colab": {
          "base_uri": "https://localhost:8080/"
        },
        "id": "ee0b9cce",
        "outputId": "c70fe886-3444-4b30-dc30-2ca8ebb5dabb"
      },
      "outputs": [
        {
          "output_type": "stream",
          "name": "stdout",
          "text": [
            "(784, 300)\n",
            "(300,)\n"
          ]
        }
      ],
      "source": [
        "print(weights.shape)\n",
        "print(biases.shape)"
      ]
    },
    {
      "cell_type": "code",
      "execution_count": null,
      "id": "4b778230",
      "metadata": {
        "colab": {
          "base_uri": "https://localhost:8080/"
        },
        "id": "4b778230",
        "outputId": "cadd8152-d438-4959-ec6b-78fcc24bfdd9"
      },
      "outputs": [
        {
          "output_type": "execute_result",
          "data": {
            "text/plain": [
              "array([[ 0.01249689,  0.02959474,  0.00913154, ..., -0.04392847,\n",
              "        -0.04026016,  0.05988197],\n",
              "       [-0.00208189, -0.01729109, -0.05654741, ...,  0.0187711 ,\n",
              "        -0.04053098, -0.06402253],\n",
              "       [-0.01199654, -0.0194563 , -0.06876767, ...,  0.02667224,\n",
              "         0.04341099, -0.00061384],\n",
              "       ...,\n",
              "       [-0.00899506, -0.04113064,  0.04049008, ..., -0.0625561 ,\n",
              "        -0.06754415,  0.03376541],\n",
              "       [ 0.06417748,  0.02518734,  0.06568228, ..., -0.02301265,\n",
              "         0.04106279,  0.02945541],\n",
              "       [ 0.01842397,  0.04257085,  0.07111305, ...,  0.04582981,\n",
              "        -0.00699338,  0.07283969]], dtype=float32)"
            ]
          },
          "metadata": {},
          "execution_count": 15
        }
      ],
      "source": [
        "weights"
      ]
    },
    {
      "cell_type": "code",
      "execution_count": null,
      "id": "13a02edc",
      "metadata": {
        "colab": {
          "base_uri": "https://localhost:8080/"
        },
        "id": "13a02edc",
        "outputId": "1af7087d-f60c-4541-8bf4-c58d38c459ef"
      },
      "outputs": [
        {
          "output_type": "execute_result",
          "data": {
            "text/plain": [
              "array([0., 0., 0., 0., 0., 0., 0., 0., 0., 0., 0., 0., 0., 0., 0., 0., 0.,\n",
              "       0., 0., 0., 0., 0., 0., 0., 0., 0., 0., 0., 0., 0., 0., 0., 0., 0.,\n",
              "       0., 0., 0., 0., 0., 0., 0., 0., 0., 0., 0., 0., 0., 0., 0., 0., 0.,\n",
              "       0., 0., 0., 0., 0., 0., 0., 0., 0., 0., 0., 0., 0., 0., 0., 0., 0.,\n",
              "       0., 0., 0., 0., 0., 0., 0., 0., 0., 0., 0., 0., 0., 0., 0., 0., 0.,\n",
              "       0., 0., 0., 0., 0., 0., 0., 0., 0., 0., 0., 0., 0., 0., 0., 0., 0.,\n",
              "       0., 0., 0., 0., 0., 0., 0., 0., 0., 0., 0., 0., 0., 0., 0., 0., 0.,\n",
              "       0., 0., 0., 0., 0., 0., 0., 0., 0., 0., 0., 0., 0., 0., 0., 0., 0.,\n",
              "       0., 0., 0., 0., 0., 0., 0., 0., 0., 0., 0., 0., 0., 0., 0., 0., 0.,\n",
              "       0., 0., 0., 0., 0., 0., 0., 0., 0., 0., 0., 0., 0., 0., 0., 0., 0.,\n",
              "       0., 0., 0., 0., 0., 0., 0., 0., 0., 0., 0., 0., 0., 0., 0., 0., 0.,\n",
              "       0., 0., 0., 0., 0., 0., 0., 0., 0., 0., 0., 0., 0., 0., 0., 0., 0.,\n",
              "       0., 0., 0., 0., 0., 0., 0., 0., 0., 0., 0., 0., 0., 0., 0., 0., 0.,\n",
              "       0., 0., 0., 0., 0., 0., 0., 0., 0., 0., 0., 0., 0., 0., 0., 0., 0.,\n",
              "       0., 0., 0., 0., 0., 0., 0., 0., 0., 0., 0., 0., 0., 0., 0., 0., 0.,\n",
              "       0., 0., 0., 0., 0., 0., 0., 0., 0., 0., 0., 0., 0., 0., 0., 0., 0.,\n",
              "       0., 0., 0., 0., 0., 0., 0., 0., 0., 0., 0., 0., 0., 0., 0., 0., 0.,\n",
              "       0., 0., 0., 0., 0., 0., 0., 0., 0., 0., 0.], dtype=float32)"
            ]
          },
          "metadata": {},
          "execution_count": 16
        }
      ],
      "source": [
        "biases"
      ]
    },
    {
      "cell_type": "markdown",
      "source": [
        "**Activation Function**: Introduce **non-linearity** into the output of a neuron"
      ],
      "metadata": {
        "id": "hOImvfsuS6da"
      },
      "id": "hOImvfsuS6da"
    },
    {
      "cell_type": "markdown",
      "source": [
        "<img src=\"https://media.licdn.com/dms/image/D4D12AQH2F3GJ9wen_Q/article-cover_image-shrink_720_1280/0/1688885174323?e=2147483647&v=beta&t=gFWxErTLLWBc6iRWDxCBRxkdJ7ob24cmjWZAOuKN9o4\" width=500>"
      ],
      "metadata": {
        "id": "k0xjbos2TkWs"
      },
      "id": "k0xjbos2TkWs"
    },
    {
      "cell_type": "markdown",
      "id": "89db6122",
      "metadata": {
        "id": "89db6122"
      },
      "source": [
        "#### **Discussion Question**\n",
        "\n",
        "Note that the biases are initially zero, but the weights are initialised to small values. What would happen if the weights were also initialised to zero?"
      ]
    },
    {
      "cell_type": "markdown",
      "source": [
        "#### Solution"
      ],
      "metadata": {
        "id": "n1mQ03bkKQDh"
      },
      "id": "n1mQ03bkKQDh"
    },
    {
      "cell_type": "markdown",
      "source": [
        "<img src=\"https://miro.medium.com/v2/resize:fit:4800/format:webp/1*WMAfTyHOPmckfmNaWSZUrA.png\" width=700>\n",
        "\n",
        "> **Vanishing gradient and symmetry problem resulting from constant weight initialization**"
      ],
      "metadata": {
        "id": "w5E_J7T8Nb8q"
      },
      "id": "w5E_J7T8Nb8q"
    },
    {
      "cell_type": "markdown",
      "id": "2b825979",
      "metadata": {
        "id": "2b825979"
      },
      "source": [
        "\n",
        "Geron explains this well in \"Hands-On Machine Learning with Scikit-Learn, Keras, and TensorFlow : Concepts, Tools, and Techniques to Build Intelligent Systems\" (pp 291):\n",
        "\n",
        "\"If you initialize all weights and biases to zero, then all neurons in a given layer will be perfectly identical, and thus backpropagation will affect them in exactly the same way, so they will remain identical. In other words, despite having hundreds of neurons per layer, your model will act as if it had only one neuron per layer: it won’t be too smart. If instead you randomly initialize the weights, you break the symmetry and allow backpropagation to train a diverse team of neurons.\""
      ]
    },
    {
      "cell_type": "markdown",
      "id": "3f3c9c77",
      "metadata": {
        "id": "3f3c9c77"
      },
      "source": [
        "### Specifying the optimiser and loss function\n",
        "\n",
        "Before we can use our model, we need to specify some important training parameters and 'compile' the model.\n",
        "\n",
        "Here, we will use the basic SGD learning algorithm, with a learning rate of 0.1. Our loss function depends on our problem. For a classification task such as ours, we can score the probability distribution output from the softmax layer of our model against the known labels using Cross Entropy loss. Since our labels are in index form rather than encoded as one-hot vectors, as we discussed earlier, we utilise the ```sparse_categorical_crossentropy``` loss. See [here](https://www.tensorflow.org/api_docs/python/tf/keras/losses) for documentation on the available loss functions in Keras. It is important to ensure the loss function you are using is compatible with the format of your labels.\n",
        "\n",
        "Finally, we need to tell our model that our metric of interest is accuracy, so that this is reported during training and when we evaluate the model."
      ]
    },
    {
      "cell_type": "code",
      "execution_count": null,
      "id": "53ceb7bb",
      "metadata": {
        "id": "53ceb7bb"
      },
      "outputs": [],
      "source": [
        "# Instantiate optimiser and compile the model.\n",
        "opt = keras.optimizers.SGD(learning_rate=5e-2)\n",
        "model.compile(loss='sparse_categorical_crossentropy',\n",
        "              optimizer=opt,\n",
        "              metrics=['accuracy'])"
      ]
    },
    {
      "cell_type": "markdown",
      "source": [
        "<img src=\"data:image/png;base64,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\" width=700>"
      ],
      "metadata": {
        "id": "zXxL387MOLn7"
      },
      "id": "zXxL387MOLn7"
    },
    {
      "cell_type": "markdown",
      "id": "b4b418ff",
      "metadata": {
        "id": "b4b418ff"
      },
      "source": [
        "### Training and evaluating the model\n",
        "\n",
        "Simple model training in Keras is essentially as easy as in sklearn, which is in stark contrast to many other neural network libraries.\n",
        "\n",
        "The training process may take several minutes to run depending on your hardware. As training progresses, watch carefully how the training and validation accuracy change and spot if the model begins to overfit the training data."
      ]
    },
    {
      "cell_type": "markdown",
      "source": [
        "<img src=\"https://blog.kakaocdn.net/dn/BHLeA/btsaJVbaFdA/FguOrWNXcXRAerbeV63VU0/img.png\" width=600>\n",
        "\n",
        "→ **One Epoch**: one forward pass and one backward pass of all the training examples"
      ],
      "metadata": {
        "id": "Yivd7AY5Pj62"
      },
      "id": "Yivd7AY5Pj62"
    },
    {
      "cell_type": "code",
      "execution_count": null,
      "id": "48ee676b",
      "metadata": {
        "colab": {
          "base_uri": "https://localhost:8080/"
        },
        "id": "48ee676b",
        "outputId": "a1f4e997-d8dd-4693-d45d-61f72849a0df"
      },
      "outputs": [
        {
          "output_type": "stream",
          "name": "stdout",
          "text": [
            "Epoch 1/20\n",
            "1688/1688 [==============================] - 7s 3ms/step - loss: 0.3495 - accuracy: 0.9007 - val_loss: 0.2280 - val_accuracy: 0.9347\n",
            "Epoch 2/20\n",
            "1688/1688 [==============================] - 6s 4ms/step - loss: 0.2013 - accuracy: 0.9416 - val_loss: 0.1686 - val_accuracy: 0.9503\n",
            "Epoch 3/20\n",
            "1688/1688 [==============================] - 6s 3ms/step - loss: 0.1509 - accuracy: 0.9561 - val_loss: 0.1385 - val_accuracy: 0.9587\n",
            "Epoch 4/20\n",
            "1688/1688 [==============================] - 6s 4ms/step - loss: 0.1216 - accuracy: 0.9644 - val_loss: 0.1244 - val_accuracy: 0.9632\n",
            "Epoch 5/20\n",
            "1688/1688 [==============================] - 6s 3ms/step - loss: 0.1002 - accuracy: 0.9712 - val_loss: 0.1021 - val_accuracy: 0.9707\n",
            "Epoch 6/20\n",
            "1688/1688 [==============================] - 6s 4ms/step - loss: 0.0847 - accuracy: 0.9750 - val_loss: 0.1023 - val_accuracy: 0.9697\n",
            "Epoch 7/20\n",
            "1688/1688 [==============================] - 6s 3ms/step - loss: 0.0723 - accuracy: 0.9795 - val_loss: 0.0889 - val_accuracy: 0.9737\n",
            "Epoch 8/20\n",
            "1688/1688 [==============================] - 6s 4ms/step - loss: 0.0628 - accuracy: 0.9819 - val_loss: 0.0832 - val_accuracy: 0.9747\n",
            "Epoch 9/20\n",
            "1688/1688 [==============================] - 6s 3ms/step - loss: 0.0545 - accuracy: 0.9844 - val_loss: 0.0788 - val_accuracy: 0.9772\n",
            "Epoch 10/20\n",
            "1688/1688 [==============================] - 6s 4ms/step - loss: 0.0474 - accuracy: 0.9868 - val_loss: 0.0715 - val_accuracy: 0.9797\n",
            "Epoch 11/20\n",
            "1688/1688 [==============================] - 6s 3ms/step - loss: 0.0422 - accuracy: 0.9883 - val_loss: 0.0706 - val_accuracy: 0.9797\n",
            "Epoch 12/20\n",
            "1688/1688 [==============================] - 6s 4ms/step - loss: 0.0364 - accuracy: 0.9905 - val_loss: 0.0684 - val_accuracy: 0.9805\n",
            "Epoch 13/20\n",
            "1688/1688 [==============================] - 5s 3ms/step - loss: 0.0326 - accuracy: 0.9911 - val_loss: 0.0652 - val_accuracy: 0.9808\n",
            "Epoch 14/20\n",
            "1688/1688 [==============================] - 6s 4ms/step - loss: 0.0284 - accuracy: 0.9931 - val_loss: 0.0627 - val_accuracy: 0.9820\n",
            "Epoch 15/20\n",
            "1688/1688 [==============================] - 6s 3ms/step - loss: 0.0251 - accuracy: 0.9940 - val_loss: 0.0645 - val_accuracy: 0.9807\n",
            "Epoch 16/20\n",
            "1688/1688 [==============================] - 6s 4ms/step - loss: 0.0219 - accuracy: 0.9955 - val_loss: 0.0620 - val_accuracy: 0.9820\n",
            "Epoch 17/20\n",
            "1688/1688 [==============================] - 6s 3ms/step - loss: 0.0195 - accuracy: 0.9960 - val_loss: 0.0633 - val_accuracy: 0.9827\n",
            "Epoch 18/20\n",
            "1688/1688 [==============================] - 6s 3ms/step - loss: 0.0173 - accuracy: 0.9967 - val_loss: 0.0599 - val_accuracy: 0.9810\n",
            "Epoch 19/20\n",
            "1688/1688 [==============================] - 6s 3ms/step - loss: 0.0153 - accuracy: 0.9974 - val_loss: 0.0602 - val_accuracy: 0.9813\n",
            "Epoch 20/20\n",
            "1688/1688 [==============================] - 6s 3ms/step - loss: 0.0136 - accuracy: 0.9981 - val_loss: 0.0599 - val_accuracy: 0.9823\n"
          ]
        }
      ],
      "source": [
        "# Train the classifier.\n",
        "history = model.fit(X_train, y_train, epochs=20,\n",
        "                    validation_data=(X_valid, y_valid))"
      ]
    },
    {
      "cell_type": "markdown",
      "id": "b1e3c519",
      "metadata": {
        "id": "b1e3c519"
      },
      "source": [
        "Calling the ```fit``` method returns a dictionary of the training history, which we can utilise to visualise the change in training and validation accuracy over time."
      ]
    },
    {
      "cell_type": "code",
      "execution_count": null,
      "id": "49b597f1",
      "metadata": {
        "colab": {
          "base_uri": "https://localhost:8080/",
          "height": 481
        },
        "id": "49b597f1",
        "outputId": "b0879d59-2c81-40d3-88f1-af5dffa9cbec"
      },
      "outputs": [
        {
          "output_type": "display_data",
          "data": {
            "text/plain": [
              "<Figure size 800x500 with 1 Axes>"
            ],
            "image/png": "[encoded data removed]"
          },
          "metadata": {}
        }
      ],
      "source": [
        "import pandas as pd\n",
        "\n",
        "# Convert the history dictionary to a Pandas dataframe and extract the accuracies\n",
        "accuracies = pd.DataFrame(history.history)[['accuracy', 'val_accuracy']]\n",
        "\n",
        "# Plot the accuracies\n",
        "accuracies.plot(figsize=(8, 5))\n",
        "plt.grid(True)\n",
        "plt.gca().set_ylim(0.8, 1)\n",
        "plt.xlabel('Epoch')\n",
        "plt.show()"
      ]
    },
    {
      "cell_type": "markdown",
      "source": [
        "#### **Dicussion Question**:\n",
        "\n",
        "What is the meaning of validation accuracy?"
      ],
      "metadata": {
        "id": "LyT0TQQ4em_T"
      },
      "id": "LyT0TQQ4em_T"
    },
    {
      "cell_type": "markdown",
      "source": [
        "<img src=\"data:image/png;base64,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\" width=500>"
      ],
      "metadata": {
        "id": "wUcndDhHe1RL"
      },
      "id": "wUcndDhHe1RL"
    },
    {
      "cell_type": "markdown",
      "id": "31b9f889",
      "metadata": {
        "id": "31b9f889"
      },
      "source": [
        "Evidently, choosing the appropriate place to stop our training is important. While this can be done manually, there are also different methods (such as [Keras callbacks](https://www.tensorflow.org/api_docs/python/tf/keras/callbacks/EarlyStopping)) to automate 'early stopping' from the validation accuracy trends."
      ]
    },
    {
      "cell_type": "markdown",
      "source": [
        "#### Check the model's generalisation"
      ],
      "metadata": {
        "id": "6qciRW6ff_dU"
      },
      "id": "6qciRW6ff_dU"
    },
    {
      "cell_type": "markdown",
      "id": "b16b21df",
      "metadata": {
        "id": "b16b21df"
      },
      "source": [
        "To ultimately check the model's generalisation ability, we should evaluate on the test set, which had no influence in the training process."
      ]
    },
    {
      "cell_type": "code",
      "execution_count": null,
      "id": "3b17eff7",
      "metadata": {
        "colab": {
          "base_uri": "https://localhost:8080/"
        },
        "id": "3b17eff7",
        "outputId": "ccf49ef1-76d2-403f-ed0d-3bec1f36c1f4"
      },
      "outputs": [
        {
          "output_type": "stream",
          "name": "stdout",
          "text": [
            "313/313 [==============================] - 1s 3ms/step - loss: 0.0646 - accuracy: 0.9795\n",
            "Accuracy on test data: 0.9795\n"
          ]
        }
      ],
      "source": [
        "# Evaluate the classifier on the test data.\n",
        "loss, accuracy = model.evaluate(X_test, y_test)\n",
        "print(f\"Accuracy on test data: {accuracy:.4f}\")"
      ]
    },
    {
      "cell_type": "markdown",
      "id": "d5e30b6a",
      "metadata": {
        "id": "d5e30b6a"
      },
      "source": [
        "We can also look directly at our model's predictions. The ```predict``` method will return the final outputs from our model - recall this was a probability distribution over the different classes."
      ]
    },
    {
      "cell_type": "code",
      "execution_count": null,
      "id": "9605bb97",
      "metadata": {
        "colab": {
          "base_uri": "https://localhost:8080/"
        },
        "id": "9605bb97",
        "outputId": "c0046a40-82da-4061-80c0-744ddb1a0829"
      },
      "outputs": [
        {
          "output_type": "stream",
          "name": "stdout",
          "text": [
            "1/1 [==============================] - 0s 79ms/step\n",
            "[[0. 0. 0. 0. 0. 0. 0. 1. 0. 0.]\n",
            " [0. 0. 1. 0. 0. 0. 0. 0. 0. 0.]\n",
            " [0. 1. 0. 0. 0. 0. 0. 0. 0. 0.]]\n"
          ]
        }
      ],
      "source": [
        "# Sample several test examples\n",
        "X_test_sample = X_test[:3]\n",
        "\n",
        "# Get probability of each class from model\n",
        "y_proba = model.predict(X_test_sample).round(2)\n",
        "print(y_proba)"
      ]
    },
    {
      "cell_type": "markdown",
      "id": "6c7e5b7c",
      "metadata": {
        "id": "6c7e5b7c"
      },
      "source": [
        "To get the index of the class with the maximum probability (our model's class prediction), we can use the following snippet:"
      ]
    },
    {
      "cell_type": "code",
      "execution_count": null,
      "id": "91766f29",
      "metadata": {
        "colab": {
          "base_uri": "https://localhost:8080/"
        },
        "id": "91766f29",
        "outputId": "c2e1d922-ceb5-4e39-bff0-f511c0a2da9e"
      },
      "outputs": [
        {
          "output_type": "stream",
          "name": "stdout",
          "text": [
            "[7 2 1]\n"
          ]
        }
      ],
      "source": [
        "y_pred = np.argmax(y_proba, axis=-1)\n",
        "print(y_pred)"
      ]
    },
    {
      "cell_type": "markdown",
      "id": "34ae42cf",
      "metadata": {
        "id": "34ae42cf"
      },
      "source": [
        "Let's verify the predictions by inspecting the corresponding images."
      ]
    },
    {
      "cell_type": "code",
      "execution_count": null,
      "id": "cc0f63f9",
      "metadata": {
        "colab": {
          "base_uri": "https://localhost:8080/",
          "height": 119
        },
        "id": "cc0f63f9",
        "outputId": "8e7e7d42-cd90-4de1-9bbb-bb943f58bc68"
      },
      "outputs": [
        {
          "output_type": "display_data",
          "data": {
            "text/plain": [
              "<Figure size 360x120 with 3 Axes>"
            ],
            "image/png": "[encoded data removed]"
          },
          "metadata": {}
        }
      ],
      "source": [
        "plot_examples(X_test, n_rows=1, n_cols=3)"
      ]
    },
    {
      "cell_type": "markdown",
      "id": "1e8f58f8",
      "metadata": {
        "id": "1e8f58f8"
      },
      "source": [
        "## 4. Parameter Search for Neural Networks\n",
        "\n",
        "Hyperparameter tuning is especially difficult for neural networks due to two factors.\n",
        "\n",
        "Firstly, the flexibility of neural networks means there are many possible hyperparameters to tweak. In a basic MLP implementation, parameters we can possibly tune include:\n",
        "- number of hidden layers\n",
        "- number of neurons in each layer\n",
        "- activation functions\n",
        "- learning rate\n",
        "- optimiser\n",
        "- batch size\n",
        "\n",
        "The second difficulty is that the runtime of neural networks is generally much higher than traditional ML algorithms unless we run our algorithms on powerful GPUs (which can better parallelise the computations).\n",
        "\n",
        "The result is that we often have to tradeoff between an exhaustive parameter search and a long runtime."
      ]
    },
    {
      "cell_type": "markdown",
      "id": "cfae3d05",
      "metadata": {
        "id": "cfae3d05"
      },
      "source": [
        "Let's define a function which allows us to quickly build a Keras model with our desired parameters. We can use this to try out different parameter combinations!"
      ]
    },
    {
      "cell_type": "code",
      "execution_count": null,
      "id": "469ccfae",
      "metadata": {
        "id": "469ccfae"
      },
      "outputs": [],
      "source": [
        "def build_mlp(\n",
        "    n_hidden_layers=2, n_hidden_neurons=50,\n",
        "    activation_function=\"relu\", input_shape=[28,28]\n",
        "):\n",
        "    \"\"\"Build a Keras MLP for 10 class classification with desired parameters.\"\"\"\n",
        "\n",
        "    model = keras.models.Sequential()\n",
        "\n",
        "    # Add the input layer\n",
        "    model.add(keras.layers.Flatten(input_shape=[28, 28]))\n",
        "\n",
        "    # Add the hidden layers with desired size and activation function\n",
        "    for layer in range(n_hidden_layers):\n",
        "        model.add(keras.layers.Dense(n_hidden_neurons, activation=\"relu\"))\n",
        "\n",
        "    # Add the output layer for 10 class classification\n",
        "    model.add(keras.layers.Dense(10, activation=\"softmax\"))\n",
        "\n",
        "    return model"
      ]
    },
    {
      "cell_type": "markdown",
      "id": "26379f25",
      "metadata": {
        "id": "26379f25"
      },
      "source": [
        "### Using sklearn grid searches with Keras models\n",
        "\n",
        "We could conduct a parameter search by writing our own loop over parameter values and simply using the validation set to approximate the performance of the different combinations.\n",
        "\n",
        "However, it is also possible to use sklearn's parameter search utilities with Keras models. Previously, this functionality was included in Keras as ```keras.wrappers.scikit_learn```, however the functionality has now been taken over by SciKeras\n",
        "\n",
        "Using SciKeras, we can use a wrapper which allows our Keras classifier to act like a typical sklearn classifier. The wrapper will handle the compilation of our model, and we need to pass the parameters we wish to tune as arguments to its constructor. From there, we can set up a grid search just like we have in the previous weeks!"
      ]
    },
    {
      "cell_type": "code",
      "execution_count": null,
      "id": "f9ad2fc0",
      "metadata": {
        "id": "f9ad2fc0"
      },
      "outputs": [],
      "source": [
        "from scikeras.wrappers import KerasClassifier\n",
        "\n",
        "# Create a KerasClassifier object which works with sklearn grid searches\n",
        "# We need to pass default values of arguments in build_mlp if we wish to tune them\n",
        "keras_classifier = KerasClassifier(build_mlp,\n",
        "                                   n_hidden_layers=2,\n",
        "                                   n_hidden_neurons=50,\n",
        "                                   activation_function=\"relu\",\n",
        "                                   loss=\"sparse_categorical_crossentropy\",\n",
        "                                   optimizer=\"sgd\",\n",
        "                                   optimizer__lr=0.01,\n",
        "                                   metrics=[\"accuracy\"]\n",
        "                                  )"
      ]
    },
    {
      "cell_type": "markdown",
      "id": "b2621352",
      "metadata": {
        "id": "b2621352"
      },
      "source": [
        "For now, let's consider models with two hidden layers and tune over several other parameters.\n",
        "\n",
        "The following cell will take a long time to run (possibly several hours depending on your hardware), and it is **not recommended to run it during the lab**."
      ]
    },
    {
      "cell_type": "code",
      "execution_count": null,
      "metadata": {
        "colab": {
          "base_uri": "https://localhost:8080/"
        },
        "outputId": "7cff9675-ea98-4a16-9c0f-e4b423f43e56",
        "id": "A5cAu-zZRB9p"
      },
      "outputs": [
        {
          "name": "stdout",
          "output_type": "stream",
          "text": [
            "Fitting 3 folds for each of 18 candidates, totalling 54 fits\n"
          ]
        },
        {
          "name": "stderr",
          "output_type": "stream",
          "text": [
            "/usr/local/lib/python3.7/dist-packages/keras/optimizer_v2/gradient_descent.py:102: UserWarning: The `lr` argument is deprecated, use `learning_rate` instead.\n",
            "  super(SGD, self).__init__(name, **kwargs)\n"
          ]
        },
        {
          "name": "stdout",
          "output_type": "stream",
          "text": [
            "Epoch 1/20\n",
            "1125/1125 [==============================] - 3s 3ms/step - loss: 0.3484 - accuracy: 0.8974\n",
            "Epoch 2/20\n",
            "1125/1125 [==============================] - 3s 3ms/step - loss: 0.1578 - accuracy: 0.9544\n",
            "Epoch 3/20\n",
            "1125/1125 [==============================] - 3s 3ms/step - loss: 0.1116 - accuracy: 0.9671\n",
            "Epoch 4/20\n",
            "1125/1125 [==============================] - 3s 3ms/step - loss: 0.0850 - accuracy: 0.9749\n",
            "Epoch 5/20\n",
            "1125/1125 [==============================] - 3s 3ms/step - loss: 0.0670 - accuracy: 0.9800\n",
            "Epoch 6/20\n",
            "1125/1125 [==============================] - 3s 3ms/step - loss: 0.0544 - accuracy: 0.9829\n",
            "Epoch 7/20\n",
            "1125/1125 [==============================] - 3s 3ms/step - loss: 0.0423 - accuracy: 0.9861\n",
            "Epoch 8/20\n",
            "1125/1125 [==============================] - 3s 3ms/step - loss: 0.0342 - accuracy: 0.9891\n",
            "Epoch 9/20\n",
            "1125/1125 [==============================] - 3s 3ms/step - loss: 0.0286 - accuracy: 0.9908\n",
            "Epoch 10/20\n",
            "1125/1125 [==============================] - 3s 3ms/step - loss: 0.0197 - accuracy: 0.9945\n",
            "Epoch 11/20\n",
            "1125/1125 [==============================] - 3s 3ms/step - loss: 0.0159 - accuracy: 0.9960\n",
            "Epoch 12/20\n",
            "1125/1125 [==============================] - 3s 3ms/step - loss: 0.0130 - accuracy: 0.9964\n",
            "Epoch 13/20\n",
            "1125/1125 [==============================] - 3s 3ms/step - loss: 0.0092 - accuracy: 0.9981\n",
            "Epoch 14/20\n",
            "1125/1125 [==============================] - 3s 3ms/step - loss: 0.0059 - accuracy: 0.9991\n",
            "Epoch 15/20\n",
            "1125/1125 [==============================] - 3s 3ms/step - loss: 0.0042 - accuracy: 0.9996\n",
            "Epoch 16/20\n",
            "1125/1125 [==============================] - 3s 3ms/step - loss: 0.0032 - accuracy: 0.9998\n",
            "Epoch 17/20\n",
            "1125/1125 [==============================] - 4s 3ms/step - loss: 0.0024 - accuracy: 0.9998\n",
            "Epoch 18/20\n",
            "1125/1125 [==============================] - 3s 3ms/step - loss: 0.0019 - accuracy: 0.9999\n",
            "Epoch 19/20\n",
            "1125/1125 [==============================] - 3s 3ms/step - loss: 0.0019 - accuracy: 0.9998\n",
            "Epoch 20/20\n",
            "1125/1125 [==============================] - 3s 3ms/step - loss: 0.0013 - accuracy: 1.0000\n",
            "563/563 [==============================] - 1s 2ms/step\n",
            "[CV] END activation_function=relu, n_hidden_neurons=100, optimizer__lr=0.1; total time= 1.1min\n"
          ]
        },
        {
          "name": "stderr",
          "output_type": "stream",
          "text": [
            "/usr/local/lib/python3.7/dist-packages/keras/optimizer_v2/gradient_descent.py:102: UserWarning: The `lr` argument is deprecated, use `learning_rate` instead.\n",
            "  super(SGD, self).__init__(name, **kwargs)\n"
          ]
        },
        {
          "name": "stdout",
          "output_type": "stream",
          "text": [
            "Epoch 1/20\n",
            "1125/1125 [==============================] - 4s 3ms/step - loss: 0.3636 - accuracy: 0.8890\n",
            "Epoch 2/20\n",
            "1125/1125 [==============================] - 3s 3ms/step - loss: 0.1601 - accuracy: 0.9501\n",
            "Epoch 3/20\n",
            "1125/1125 [==============================] - 3s 3ms/step - loss: 0.1126 - accuracy: 0.9654\n",
            "Epoch 4/20\n",
            "1125/1125 [==============================] - 3s 3ms/step - loss: 0.0860 - accuracy: 0.9736\n",
            "Epoch 5/20\n",
            "1125/1125 [==============================] - 3s 3ms/step - loss: 0.0685 - accuracy: 0.9779\n",
            "Epoch 6/20\n",
            "1125/1125 [==============================] - 3s 3ms/step - loss: 0.0547 - accuracy: 0.9825\n",
            "Epoch 7/20\n",
            "1125/1125 [==============================] - 3s 3ms/step - loss: 0.0435 - accuracy: 0.9868\n",
            "Epoch 8/20\n",
            "1125/1125 [==============================] - 3s 3ms/step - loss: 0.0355 - accuracy: 0.9887\n",
            "Epoch 9/20\n",
            "1125/1125 [==============================] - 3s 3ms/step - loss: 0.0287 - accuracy: 0.9908\n",
            "Epoch 10/20\n",
            "1125/1125 [==============================] - 3s 3ms/step - loss: 0.0237 - accuracy: 0.9930\n",
            "Epoch 11/20\n",
            "1125/1125 [==============================] - 3s 3ms/step - loss: 0.0175 - accuracy: 0.9954\n",
            "Epoch 12/20\n",
            "1125/1125 [==============================] - 3s 3ms/step - loss: 0.0148 - accuracy: 0.9962\n",
            "Epoch 13/20\n",
            "1125/1125 [==============================] - 3s 3ms/step - loss: 0.0098 - accuracy: 0.9979\n",
            "Epoch 14/20\n",
            "1125/1125 [==============================] - 3s 3ms/step - loss: 0.0089 - accuracy: 0.9977\n",
            "Epoch 15/20\n",
            "1125/1125 [==============================] - 3s 3ms/step - loss: 0.0071 - accuracy: 0.9983\n",
            "Epoch 16/20\n",
            "1125/1125 [==============================] - 3s 3ms/step - loss: 0.0057 - accuracy: 0.9987\n",
            "Epoch 17/20\n",
            "1125/1125 [==============================] - 3s 3ms/step - loss: 0.0029 - accuracy: 0.9998\n",
            "Epoch 18/20\n",
            "1125/1125 [==============================] - 3s 3ms/step - loss: 0.0023 - accuracy: 0.9999\n",
            "Epoch 19/20\n",
            "1125/1125 [==============================] - 3s 3ms/step - loss: 0.0019 - accuracy: 0.9999\n",
            "Epoch 20/20\n",
            "1125/1125 [==============================] - 3s 3ms/step - loss: 0.0014 - accuracy: 1.0000\n",
            "563/563 [==============================] - 1s 2ms/step\n",
            "[CV] END activation_function=relu, n_hidden_neurons=100, optimizer__lr=0.1; total time= 1.4min\n"
          ]
        },
        {
          "name": "stderr",
          "output_type": "stream",
          "text": [
            "/usr/local/lib/python3.7/dist-packages/keras/optimizer_v2/gradient_descent.py:102: UserWarning: The `lr` argument is deprecated, use `learning_rate` instead.\n",
            "  super(SGD, self).__init__(name, **kwargs)\n"
          ]
        },
        {
          "name": "stdout",
          "output_type": "stream",
          "text": [
            "Epoch 1/20\n",
            "1125/1125 [==============================] - 4s 3ms/step - loss: 0.3656 - accuracy: 0.8914\n",
            "Epoch 2/20\n",
            "1125/1125 [==============================] - 3s 3ms/step - loss: 0.1618 - accuracy: 0.9508\n",
            "Epoch 3/20\n",
            "1125/1125 [==============================] - 3s 3ms/step - loss: 0.1118 - accuracy: 0.9660\n",
            "Epoch 4/20\n",
            "1125/1125 [==============================] - 3s 3ms/step - loss: 0.0878 - accuracy: 0.9732\n",
            "Epoch 5/20\n",
            "1125/1125 [==============================] - 3s 3ms/step - loss: 0.0675 - accuracy: 0.9788\n",
            "Epoch 6/20\n",
            "1125/1125 [==============================] - 3s 3ms/step - loss: 0.0547 - accuracy: 0.9829\n",
            "Epoch 7/20\n",
            "1125/1125 [==============================] - 3s 3ms/step - loss: 0.0444 - accuracy: 0.9861\n",
            "Epoch 8/20\n",
            "1125/1125 [==============================] - 3s 3ms/step - loss: 0.0360 - accuracy: 0.9891\n",
            "Epoch 9/20\n",
            "1125/1125 [==============================] - 3s 3ms/step - loss: 0.0278 - accuracy: 0.9920\n",
            "Epoch 10/20\n",
            "1125/1125 [==============================] - 3s 3ms/step - loss: 0.0205 - accuracy: 0.9940\n",
            "Epoch 11/20\n",
            "1125/1125 [==============================] - 3s 3ms/step - loss: 0.0174 - accuracy: 0.9950\n",
            "Epoch 12/20\n",
            "1125/1125 [==============================] - 3s 3ms/step - loss: 0.0132 - accuracy: 0.9967\n",
            "Epoch 13/20\n",
            "1125/1125 [==============================] - 3s 3ms/step - loss: 0.0102 - accuracy: 0.9979\n",
            "Epoch 14/20\n",
            "1125/1125 [==============================] - 3s 3ms/step - loss: 0.0073 - accuracy: 0.9987\n",
            "Epoch 15/20\n",
            "1125/1125 [==============================] - 3s 3ms/step - loss: 0.0052 - accuracy: 0.9993\n",
            "Epoch 16/20\n",
            "1125/1125 [==============================] - 3s 3ms/step - loss: 0.0036 - accuracy: 0.9996\n",
            "Epoch 17/20\n",
            "1125/1125 [==============================] - 3s 3ms/step - loss: 0.0025 - accuracy: 0.9999\n",
            "Epoch 18/20\n",
            "1125/1125 [==============================] - 3s 3ms/step - loss: 0.0018 - accuracy: 1.0000\n",
            "Epoch 19/20\n",
            "1125/1125 [==============================] - 3s 3ms/step - loss: 0.0014 - accuracy: 1.0000\n",
            "Epoch 20/20\n",
            "1125/1125 [==============================] - 3s 3ms/step - loss: 0.0013 - accuracy: 1.0000\n",
            "563/563 [==============================] - 1s 2ms/step\n",
            "[CV] END activation_function=relu, n_hidden_neurons=100, optimizer__lr=0.1; total time= 1.1min\n"
          ]
        },
        {
          "name": "stderr",
          "output_type": "stream",
          "text": [
            "/usr/local/lib/python3.7/dist-packages/keras/optimizer_v2/gradient_descent.py:102: UserWarning: The `lr` argument is deprecated, use `learning_rate` instead.\n",
            "  super(SGD, self).__init__(name, **kwargs)\n"
          ]
        },
        {
          "name": "stdout",
          "output_type": "stream",
          "text": [
            "Epoch 1/20\n",
            "1125/1125 [==============================] - 4s 3ms/step - loss: 0.8092 - accuracy: 0.7968\n",
            "Epoch 2/20\n",
            "1125/1125 [==============================] - 3s 3ms/step - loss: 0.3523 - accuracy: 0.9008\n",
            "Epoch 3/20\n",
            "1125/1125 [==============================] - 3s 3ms/step - loss: 0.2966 - accuracy: 0.9156\n",
            "Epoch 4/20\n",
            "1125/1125 [==============================] - 3s 3ms/step - loss: 0.2618 - accuracy: 0.9251\n",
            "Epoch 5/20\n",
            "1125/1125 [==============================] - 3s 3ms/step - loss: 0.2361 - accuracy: 0.9342\n",
            "Epoch 6/20\n",
            "1125/1125 [==============================] - 3s 3ms/step - loss: 0.2150 - accuracy: 0.9396\n",
            "Epoch 7/20\n",
            "1125/1125 [==============================] - 3s 3ms/step - loss: 0.1976 - accuracy: 0.9439\n",
            "Epoch 8/20\n",
            "1125/1125 [==============================] - 3s 3ms/step - loss: 0.1822 - accuracy: 0.9486\n",
            "Epoch 9/20\n",
            "1125/1125 [==============================] - 3s 3ms/step - loss: 0.1696 - accuracy: 0.9519\n",
            "Epoch 10/20\n",
            "1125/1125 [==============================] - 3s 3ms/step - loss: 0.1580 - accuracy: 0.9553\n",
            "Epoch 11/20\n",
            "1125/1125 [==============================] - 3s 3ms/step - loss: 0.1475 - accuracy: 0.9583\n",
            "Epoch 12/20\n",
            "1125/1125 [==============================] - 3s 3ms/step - loss: 0.1381 - accuracy: 0.9614\n",
            "Epoch 13/20\n",
            "1125/1125 [==============================] - 3s 3ms/step - loss: 0.1303 - accuracy: 0.9638\n",
            "Epoch 14/20\n",
            "1125/1125 [==============================] - 3s 3ms/step - loss: 0.1229 - accuracy: 0.9654\n",
            "Epoch 15/20\n",
            "1125/1125 [==============================] - 3s 3ms/step - loss: 0.1160 - accuracy: 0.9681\n",
            "Epoch 16/20\n",
            "1125/1125 [==============================] - 3s 3ms/step - loss: 0.1097 - accuracy: 0.9692\n",
            "Epoch 17/20\n",
            "1125/1125 [==============================] - 3s 3ms/step - loss: 0.1038 - accuracy: 0.9714\n",
            "Epoch 18/20\n",
            "1125/1125 [==============================] - 3s 3ms/step - loss: 0.0984 - accuracy: 0.9729\n",
            "Epoch 19/20\n",
            "1125/1125 [==============================] - 3s 3ms/step - loss: 0.0935 - accuracy: 0.9744\n",
            "Epoch 20/20\n",
            "1125/1125 [==============================] - 3s 3ms/step - loss: 0.0896 - accuracy: 0.9751\n",
            "563/563 [==============================] - 1s 2ms/step\n",
            "[CV] END activation_function=relu, n_hidden_neurons=100, optimizer__lr=0.01; total time= 1.1min\n"
          ]
        },
        {
          "name": "stderr",
          "output_type": "stream",
          "text": [
            "/usr/local/lib/python3.7/dist-packages/keras/optimizer_v2/gradient_descent.py:102: UserWarning: The `lr` argument is deprecated, use `learning_rate` instead.\n",
            "  super(SGD, self).__init__(name, **kwargs)\n"
          ]
        },
        {
          "name": "stdout",
          "output_type": "stream",
          "text": [
            "Epoch 1/20\n",
            "1125/1125 [==============================] - 4s 3ms/step - loss: 0.8908 - accuracy: 0.7729\n",
            "Epoch 2/20\n",
            "1125/1125 [==============================] - 3s 3ms/step - loss: 0.3564 - accuracy: 0.8988\n",
            "Epoch 3/20\n",
            "1125/1125 [==============================] - 3s 3ms/step - loss: 0.2924 - accuracy: 0.9161\n",
            "Epoch 4/20\n",
            "1125/1125 [==============================] - 3s 3ms/step - loss: 0.2560 - accuracy: 0.9258\n",
            "Epoch 5/20\n",
            "1125/1125 [==============================] - 3s 3ms/step - loss: 0.2297 - accuracy: 0.9339\n",
            "Epoch 6/20\n",
            "1125/1125 [==============================] - 3s 3ms/step - loss: 0.2094 - accuracy: 0.9395\n",
            "Epoch 7/20\n",
            "1125/1125 [==============================] - 3s 3ms/step - loss: 0.1923 - accuracy: 0.9445\n",
            "Epoch 8/20\n",
            "1125/1125 [==============================] - 3s 3ms/step - loss: 0.1794 - accuracy: 0.9491\n",
            "Epoch 9/20\n",
            "1125/1125 [==============================] - 3s 3ms/step - loss: 0.1676 - accuracy: 0.9521\n",
            "Epoch 10/20\n",
            "1125/1125 [==============================] - 3s 3ms/step - loss: 0.1575 - accuracy: 0.9546\n",
            "Epoch 11/20\n",
            "1125/1125 [==============================] - 3s 3ms/step - loss: 0.1490 - accuracy: 0.9569\n",
            "Epoch 12/20\n",
            "1125/1125 [==============================] - 3s 3ms/step - loss: 0.1408 - accuracy: 0.9599\n",
            "Epoch 13/20\n",
            "1125/1125 [==============================] - 3s 3ms/step - loss: 0.1330 - accuracy: 0.9614\n",
            "Epoch 14/20\n",
            "1125/1125 [==============================] - 3s 3ms/step - loss: 0.1263 - accuracy: 0.9643\n",
            "Epoch 15/20\n",
            "1125/1125 [==============================] - 3s 3ms/step - loss: 0.1204 - accuracy: 0.9657\n",
            "Epoch 16/20\n",
            "1125/1125 [==============================] - 3s 3ms/step - loss: 0.1142 - accuracy: 0.9676\n",
            "Epoch 17/20\n",
            "1125/1125 [==============================] - 3s 3ms/step - loss: 0.1093 - accuracy: 0.9689\n",
            "Epoch 18/20\n",
            "1125/1125 [==============================] - 3s 3ms/step - loss: 0.1035 - accuracy: 0.9711\n",
            "Epoch 19/20\n",
            "1125/1125 [==============================] - 3s 3ms/step - loss: 0.0988 - accuracy: 0.9723\n",
            "Epoch 20/20\n",
            "1125/1125 [==============================] - 3s 3ms/step - loss: 0.0942 - accuracy: 0.9735\n",
            "563/563 [==============================] - 1s 2ms/step\n",
            "[CV] END activation_function=relu, n_hidden_neurons=100, optimizer__lr=0.01; total time= 1.1min\n"
          ]
        },
        {
          "name": "stderr",
          "output_type": "stream",
          "text": [
            "/usr/local/lib/python3.7/dist-packages/keras/optimizer_v2/gradient_descent.py:102: UserWarning: The `lr` argument is deprecated, use `learning_rate` instead.\n",
            "  super(SGD, self).__init__(name, **kwargs)\n"
          ]
        },
        {
          "name": "stdout",
          "output_type": "stream",
          "text": [
            "Epoch 1/20\n",
            "1125/1125 [==============================] - 4s 3ms/step - loss: 0.8489 - accuracy: 0.7874\n",
            "Epoch 2/20\n",
            "1125/1125 [==============================] - 3s 3ms/step - loss: 0.3543 - accuracy: 0.8996\n",
            "Epoch 3/20\n",
            "1125/1125 [==============================] - 3s 3ms/step - loss: 0.2962 - accuracy: 0.9153\n",
            "Epoch 4/20\n",
            "1125/1125 [==============================] - 3s 3ms/step - loss: 0.2631 - accuracy: 0.9250\n",
            "Epoch 5/20\n",
            "1125/1125 [==============================] - 3s 3ms/step - loss: 0.2378 - accuracy: 0.9333\n",
            "Epoch 6/20\n",
            "1125/1125 [==============================] - 3s 3ms/step - loss: 0.2180 - accuracy: 0.9375\n",
            "Epoch 7/20\n",
            "1125/1125 [==============================] - 3s 3ms/step - loss: 0.2007 - accuracy: 0.9426\n",
            "Epoch 8/20\n",
            "1125/1125 [==============================] - 3s 3ms/step - loss: 0.1866 - accuracy: 0.9468\n",
            "Epoch 9/20\n",
            "1125/1125 [==============================] - 3s 3ms/step - loss: 0.1739 - accuracy: 0.9504\n",
            "Epoch 10/20\n",
            "1125/1125 [==============================] - 3s 3ms/step - loss: 0.1625 - accuracy: 0.9543\n",
            "Epoch 11/20\n",
            "1125/1125 [==============================] - 3s 3ms/step - loss: 0.1527 - accuracy: 0.9564\n",
            "Epoch 12/20\n",
            "1125/1125 [==============================] - 3s 3ms/step - loss: 0.1439 - accuracy: 0.9589\n",
            "Epoch 13/20\n",
            "1125/1125 [==============================] - 3s 3ms/step - loss: 0.1353 - accuracy: 0.9618\n",
            "Epoch 14/20\n",
            "1125/1125 [==============================] - 3s 3ms/step - loss: 0.1284 - accuracy: 0.9636\n",
            "Epoch 15/20\n",
            "1125/1125 [==============================] - 3s 3ms/step - loss: 0.1216 - accuracy: 0.9665\n",
            "Epoch 16/20\n",
            "1125/1125 [==============================] - 3s 3ms/step - loss: 0.1153 - accuracy: 0.9677\n",
            "Epoch 17/20\n",
            "1125/1125 [==============================] - 3s 3ms/step - loss: 0.1094 - accuracy: 0.9692\n",
            "Epoch 18/20\n",
            "1125/1125 [==============================] - 3s 3ms/step - loss: 0.1043 - accuracy: 0.9708\n",
            "Epoch 19/20\n",
            "1125/1125 [==============================] - 3s 3ms/step - loss: 0.0992 - accuracy: 0.9734\n",
            "Epoch 20/20\n",
            "1125/1125 [==============================] - 3s 3ms/step - loss: 0.0943 - accuracy: 0.9740\n",
            "563/563 [==============================] - 1s 2ms/step\n",
            "[CV] END activation_function=relu, n_hidden_neurons=100, optimizer__lr=0.01; total time= 1.2min\n"
          ]
        },
        {
          "name": "stderr",
          "output_type": "stream",
          "text": [
            "/usr/local/lib/python3.7/dist-packages/keras/optimizer_v2/gradient_descent.py:102: UserWarning: The `lr` argument is deprecated, use `learning_rate` instead.\n",
            "  super(SGD, self).__init__(name, **kwargs)\n"
          ]
        },
        {
          "name": "stdout",
          "output_type": "stream",
          "text": [
            "Epoch 1/20\n",
            "1125/1125 [==============================] - 4s 3ms/step - loss: 2.1128 - accuracy: 0.3264\n",
            "Epoch 2/20\n",
            "1125/1125 [==============================] - 3s 3ms/step - loss: 1.5844 - accuracy: 0.6811\n",
            "Epoch 3/20\n",
            "1125/1125 [==============================] - 3s 3ms/step - loss: 1.0795 - accuracy: 0.7799\n",
            "Epoch 4/20\n",
            "1125/1125 [==============================] - 3s 3ms/step - loss: 0.7893 - accuracy: 0.8206\n",
            "Epoch 5/20\n",
            "1125/1125 [==============================] - 3s 3ms/step - loss: 0.6395 - accuracy: 0.8438\n",
            "Epoch 6/20\n",
            "1125/1125 [==============================] - 3s 3ms/step - loss: 0.5527 - accuracy: 0.8593\n",
            "Epoch 7/20\n",
            "1125/1125 [==============================] - 3s 3ms/step - loss: 0.4968 - accuracy: 0.8692\n",
            "Epoch 8/20\n",
            "1125/1125 [==============================] - 3s 3ms/step - loss: 0.4579 - accuracy: 0.8771\n",
            "Epoch 9/20\n",
            "1125/1125 [==============================] - 3s 3ms/step - loss: 0.4296 - accuracy: 0.8837\n",
            "Epoch 10/20\n",
            "1125/1125 [==============================] - 3s 3ms/step - loss: 0.4076 - accuracy: 0.8877\n",
            "Epoch 11/20\n",
            "1125/1125 [==============================] - 3s 3ms/step - loss: 0.3904 - accuracy: 0.8913\n",
            "Epoch 12/20\n",
            "1125/1125 [==============================] - 3s 3ms/step - loss: 0.3762 - accuracy: 0.8947\n",
            "Epoch 13/20\n",
            "1125/1125 [==============================] - 3s 3ms/step - loss: 0.3643 - accuracy: 0.8976\n",
            "Epoch 14/20\n",
            "1125/1125 [==============================] - 4s 3ms/step - loss: 0.3541 - accuracy: 0.9002\n",
            "Epoch 15/20\n",
            "1125/1125 [==============================] - 3s 3ms/step - loss: 0.3452 - accuracy: 0.9018\n",
            "Epoch 16/20\n",
            "1125/1125 [==============================] - 3s 3ms/step - loss: 0.3371 - accuracy: 0.9040\n",
            "Epoch 17/20\n",
            "1125/1125 [==============================] - 3s 3ms/step - loss: 0.3298 - accuracy: 0.9061\n",
            "Epoch 18/20\n",
            "1125/1125 [==============================] - 3s 3ms/step - loss: 0.3232 - accuracy: 0.9083\n",
            "Epoch 19/20\n",
            "1125/1125 [==============================] - 3s 3ms/step - loss: 0.3169 - accuracy: 0.9100\n",
            "Epoch 20/20\n",
            "1125/1125 [==============================] - 3s 3ms/step - loss: 0.3115 - accuracy: 0.9109\n",
            "563/563 [==============================] - 1s 2ms/step\n",
            "[CV] END activation_function=relu, n_hidden_neurons=100, optimizer__lr=0.001; total time= 1.4min\n"
          ]
        },
        {
          "name": "stderr",
          "output_type": "stream",
          "text": [
            "/usr/local/lib/python3.7/dist-packages/keras/optimizer_v2/gradient_descent.py:102: UserWarning: The `lr` argument is deprecated, use `learning_rate` instead.\n",
            "  super(SGD, self).__init__(name, **kwargs)\n"
          ]
        },
        {
          "name": "stdout",
          "output_type": "stream",
          "text": [
            "Epoch 1/20\n",
            "1125/1125 [==============================] - 4s 3ms/step - loss: 2.0391 - accuracy: 0.4195\n",
            "Epoch 2/20\n",
            "1125/1125 [==============================] - 3s 3ms/step - loss: 1.4472 - accuracy: 0.7043\n",
            "Epoch 3/20\n",
            "1125/1125 [==============================] - 3s 3ms/step - loss: 0.9735 - accuracy: 0.7872\n",
            "Epoch 4/20\n",
            "1125/1125 [==============================] - 3s 3ms/step - loss: 0.7346 - accuracy: 0.8260\n",
            "Epoch 5/20\n",
            "1125/1125 [==============================] - 3s 3ms/step - loss: 0.6119 - accuracy: 0.8470\n",
            "Epoch 6/20\n",
            "1125/1125 [==============================] - 3s 3ms/step - loss: 0.5388 - accuracy: 0.8579\n",
            "Epoch 7/20\n",
            "1125/1125 [==============================] - 3s 3ms/step - loss: 0.4901 - accuracy: 0.8678\n",
            "Epoch 8/20\n",
            "1125/1125 [==============================] - 3s 3ms/step - loss: 0.4553 - accuracy: 0.8753\n",
            "Epoch 9/20\n",
            "1125/1125 [==============================] - 3s 3ms/step - loss: 0.4291 - accuracy: 0.8808\n",
            "Epoch 10/20\n",
            "1125/1125 [==============================] - 3s 3ms/step - loss: 0.4085 - accuracy: 0.8856\n",
            "Epoch 11/20\n",
            "1125/1125 [==============================] - 3s 3ms/step - loss: 0.3917 - accuracy: 0.8899\n",
            "Epoch 12/20\n",
            "1125/1125 [==============================] - 3s 3ms/step - loss: 0.3777 - accuracy: 0.8929\n",
            "Epoch 13/20\n",
            "1125/1125 [==============================] - 3s 3ms/step - loss: 0.3656 - accuracy: 0.8959\n",
            "Epoch 14/20\n",
            "1125/1125 [==============================] - 3s 3ms/step - loss: 0.3553 - accuracy: 0.8981\n",
            "Epoch 15/20\n",
            "1125/1125 [==============================] - 3s 3ms/step - loss: 0.3462 - accuracy: 0.9002\n",
            "Epoch 16/20\n",
            "1125/1125 [==============================] - 3s 3ms/step - loss: 0.3377 - accuracy: 0.9022\n",
            "Epoch 17/20\n",
            "1125/1125 [==============================] - 3s 3ms/step - loss: 0.3304 - accuracy: 0.9046\n",
            "Epoch 18/20\n",
            "1125/1125 [==============================] - 3s 3ms/step - loss: 0.3237 - accuracy: 0.9062\n",
            "Epoch 19/20\n",
            "1125/1125 [==============================] - 3s 3ms/step - loss: 0.3171 - accuracy: 0.9077\n",
            "Epoch 20/20\n",
            "1125/1125 [==============================] - 3s 3ms/step - loss: 0.3114 - accuracy: 0.9100\n",
            "563/563 [==============================] - 1s 2ms/step\n",
            "[CV] END activation_function=relu, n_hidden_neurons=100, optimizer__lr=0.001; total time= 1.4min\n"
          ]
        },
        {
          "name": "stderr",
          "output_type": "stream",
          "text": [
            "/usr/local/lib/python3.7/dist-packages/keras/optimizer_v2/gradient_descent.py:102: UserWarning: The `lr` argument is deprecated, use `learning_rate` instead.\n",
            "  super(SGD, self).__init__(name, **kwargs)\n"
          ]
        },
        {
          "name": "stdout",
          "output_type": "stream",
          "text": [
            "Epoch 1/20\n",
            "1125/1125 [==============================] - 3s 3ms/step - loss: 2.0342 - accuracy: 0.4151\n",
            "Epoch 2/20\n",
            "1125/1125 [==============================] - 3s 3ms/step - loss: 1.4012 - accuracy: 0.7018\n",
            "Epoch 3/20\n",
            "1125/1125 [==============================] - 3s 3ms/step - loss: 0.9326 - accuracy: 0.7933\n",
            "Epoch 4/20\n",
            "1125/1125 [==============================] - 3s 3ms/step - loss: 0.7125 - accuracy: 0.8296\n",
            "Epoch 5/20\n",
            "1125/1125 [==============================] - 3s 3ms/step - loss: 0.5994 - accuracy: 0.8504\n",
            "Epoch 6/20\n",
            "1125/1125 [==============================] - 3s 3ms/step - loss: 0.5310 - accuracy: 0.8635\n",
            "Epoch 7/20\n",
            "1125/1125 [==============================] - 3s 3ms/step - loss: 0.4848 - accuracy: 0.8732\n",
            "Epoch 8/20\n",
            "1125/1125 [==============================] - 3s 3ms/step - loss: 0.4512 - accuracy: 0.8810\n",
            "Epoch 9/20\n",
            "1125/1125 [==============================] - 3s 3ms/step - loss: 0.4260 - accuracy: 0.8859\n",
            "Epoch 10/20\n",
            "1125/1125 [==============================] - 3s 3ms/step - loss: 0.4062 - accuracy: 0.8901\n",
            "Epoch 11/20\n",
            "1125/1125 [==============================] - 3s 3ms/step - loss: 0.3903 - accuracy: 0.8935\n",
            "Epoch 12/20\n",
            "1125/1125 [==============================] - 3s 3ms/step - loss: 0.3771 - accuracy: 0.8960\n",
            "Epoch 13/20\n",
            "1125/1125 [==============================] - 3s 3ms/step - loss: 0.3659 - accuracy: 0.8983\n",
            "Epoch 14/20\n",
            "1125/1125 [==============================] - 3s 3ms/step - loss: 0.3562 - accuracy: 0.9002\n",
            "Epoch 15/20\n",
            "1125/1125 [==============================] - 3s 3ms/step - loss: 0.3477 - accuracy: 0.9023\n",
            "Epoch 16/20\n",
            "1125/1125 [==============================] - 3s 3ms/step - loss: 0.3399 - accuracy: 0.9049\n",
            "Epoch 17/20\n",
            "1125/1125 [==============================] - 3s 3ms/step - loss: 0.3332 - accuracy: 0.9064\n",
            "Epoch 18/20\n",
            "1125/1125 [==============================] - 3s 3ms/step - loss: 0.3267 - accuracy: 0.9082\n",
            "Epoch 19/20\n",
            "1125/1125 [==============================] - 3s 3ms/step - loss: 0.3209 - accuracy: 0.9100\n",
            "Epoch 20/20\n",
            "1125/1125 [==============================] - 3s 3ms/step - loss: 0.3155 - accuracy: 0.9117\n",
            "563/563 [==============================] - 1s 2ms/step\n",
            "[CV] END activation_function=relu, n_hidden_neurons=100, optimizer__lr=0.001; total time= 1.4min\n"
          ]
        },
        {
          "name": "stderr",
          "output_type": "stream",
          "text": [
            "/usr/local/lib/python3.7/dist-packages/keras/optimizer_v2/gradient_descent.py:102: UserWarning: The `lr` argument is deprecated, use `learning_rate` instead.\n",
            "  super(SGD, self).__init__(name, **kwargs)\n"
          ]
        },
        {
          "name": "stdout",
          "output_type": "stream",
          "text": [
            "Epoch 1/20\n",
            "1125/1125 [==============================] - 4s 3ms/step - loss: 0.3316 - accuracy: 0.9021\n",
            "Epoch 2/20\n",
            "1125/1125 [==============================] - 3s 3ms/step - loss: 0.1427 - accuracy: 0.9574\n",
            "Epoch 3/20\n",
            "1125/1125 [==============================] - 3s 3ms/step - loss: 0.0983 - accuracy: 0.9703\n",
            "Epoch 4/20\n",
            "1125/1125 [==============================] - 3s 3ms/step - loss: 0.0706 - accuracy: 0.9790\n",
            "Epoch 5/20\n",
            "1125/1125 [==============================] - 3s 3ms/step - loss: 0.0538 - accuracy: 0.9839\n",
            "Epoch 6/20\n",
            "1125/1125 [==============================] - 3s 3ms/step - loss: 0.0406 - accuracy: 0.9878\n",
            "Epoch 7/20\n",
            "1125/1125 [==============================] - 3s 3ms/step - loss: 0.0293 - accuracy: 0.9916\n",
            "Epoch 8/20\n",
            "1125/1125 [==============================] - 3s 3ms/step - loss: 0.0234 - accuracy: 0.9932\n",
            "Epoch 9/20\n",
            "1125/1125 [==============================] - 3s 3ms/step - loss: 0.0165 - accuracy: 0.9956\n",
            "Epoch 10/20\n",
            "1125/1125 [==============================] - 3s 3ms/step - loss: 0.0125 - accuracy: 0.9969\n",
            "Epoch 11/20\n",
            "1125/1125 [==============================] - 3s 3ms/step - loss: 0.0087 - accuracy: 0.9984\n",
            "Epoch 12/20\n",
            "1125/1125 [==============================] - 3s 3ms/step - loss: 0.0057 - accuracy: 0.9993\n",
            "Epoch 13/20\n",
            "1125/1125 [==============================] - 3s 3ms/step - loss: 0.0035 - accuracy: 0.9996\n",
            "Epoch 14/20\n",
            "1125/1125 [==============================] - 3s 3ms/step - loss: 0.0028 - accuracy: 0.9998\n",
            "Epoch 15/20\n",
            "1125/1125 [==============================] - 3s 3ms/step - loss: 0.0021 - accuracy: 0.9999\n",
            "Epoch 16/20\n",
            "1125/1125 [==============================] - 3s 3ms/step - loss: 0.0018 - accuracy: 0.9999\n",
            "Epoch 17/20\n",
            "1125/1125 [==============================] - 3s 3ms/step - loss: 0.0015 - accuracy: 0.9999\n",
            "Epoch 18/20\n",
            "1125/1125 [==============================] - 3s 3ms/step - loss: 0.0013 - accuracy: 0.9999\n",
            "Epoch 19/20\n",
            "1125/1125 [==============================] - 3s 3ms/step - loss: 0.0011 - accuracy: 0.9999\n",
            "Epoch 20/20\n",
            "1125/1125 [==============================] - 3s 3ms/step - loss: 9.4249e-04 - accuracy: 1.0000\n",
            "563/563 [==============================] - 1s 2ms/step\n",
            "[CV] END activation_function=relu, n_hidden_neurons=200, optimizer__lr=0.1; total time= 1.1min\n"
          ]
        },
        {
          "name": "stderr",
          "output_type": "stream",
          "text": [
            "/usr/local/lib/python3.7/dist-packages/keras/optimizer_v2/gradient_descent.py:102: UserWarning: The `lr` argument is deprecated, use `learning_rate` instead.\n",
            "  super(SGD, self).__init__(name, **kwargs)\n"
          ]
        },
        {
          "name": "stdout",
          "output_type": "stream",
          "text": [
            "Epoch 1/20\n",
            "1125/1125 [==============================] - 4s 3ms/step - loss: 0.3310 - accuracy: 0.9012\n",
            "Epoch 2/20\n",
            "1125/1125 [==============================] - 3s 3ms/step - loss: 0.1387 - accuracy: 0.9570\n",
            "Epoch 3/20\n",
            "1125/1125 [==============================] - 3s 3ms/step - loss: 0.0968 - accuracy: 0.9690\n",
            "Epoch 4/20\n",
            "1125/1125 [==============================] - 3s 3ms/step - loss: 0.0716 - accuracy: 0.9771\n",
            "Epoch 5/20\n",
            "1125/1125 [==============================] - 3s 3ms/step - loss: 0.0538 - accuracy: 0.9833\n",
            "Epoch 6/20\n",
            "1125/1125 [==============================] - 3s 3ms/step - loss: 0.0423 - accuracy: 0.9866\n",
            "Epoch 7/20\n",
            "1125/1125 [==============================] - 3s 3ms/step - loss: 0.0311 - accuracy: 0.9902\n",
            "Epoch 8/20\n",
            "1125/1125 [==============================] - 4s 3ms/step - loss: 0.0229 - accuracy: 0.9933\n",
            "Epoch 9/20\n",
            "1125/1125 [==============================] - 3s 3ms/step - loss: 0.0166 - accuracy: 0.9954\n",
            "Epoch 10/20\n",
            "1125/1125 [==============================] - 3s 3ms/step - loss: 0.0121 - accuracy: 0.9971\n",
            "Epoch 11/20\n",
            "1125/1125 [==============================] - 3s 3ms/step - loss: 0.0088 - accuracy: 0.9980\n",
            "Epoch 12/20\n",
            "1125/1125 [==============================] - 3s 3ms/step - loss: 0.0065 - accuracy: 0.9988\n",
            "Epoch 13/20\n",
            "1125/1125 [==============================] - 3s 3ms/step - loss: 0.0038 - accuracy: 0.9996\n",
            "Epoch 14/20\n",
            "1125/1125 [==============================] - 3s 3ms/step - loss: 0.0031 - accuracy: 0.9996\n",
            "Epoch 15/20\n",
            "1125/1125 [==============================] - 3s 3ms/step - loss: 0.0021 - accuracy: 0.9999\n",
            "Epoch 16/20\n",
            "1125/1125 [==============================] - 3s 3ms/step - loss: 0.0015 - accuracy: 1.0000\n",
            "Epoch 17/20\n",
            "1125/1125 [==============================] - 3s 3ms/step - loss: 0.0013 - accuracy: 1.0000\n",
            "Epoch 18/20\n",
            "1125/1125 [==============================] - 3s 3ms/step - loss: 0.0011 - accuracy: 1.0000\n",
            "Epoch 19/20\n",
            "1125/1125 [==============================] - 3s 3ms/step - loss: 0.0010 - accuracy: 0.9999\n",
            "Epoch 20/20\n",
            "1125/1125 [==============================] - 3s 3ms/step - loss: 8.7718e-04 - accuracy: 1.0000\n",
            "563/563 [==============================] - 1s 2ms/step\n",
            "[CV] END activation_function=relu, n_hidden_neurons=200, optimizer__lr=0.1; total time= 1.4min\n"
          ]
        },
        {
          "name": "stderr",
          "output_type": "stream",
          "text": [
            "/usr/local/lib/python3.7/dist-packages/keras/optimizer_v2/gradient_descent.py:102: UserWarning: The `lr` argument is deprecated, use `learning_rate` instead.\n",
            "  super(SGD, self).__init__(name, **kwargs)\n"
          ]
        },
        {
          "name": "stdout",
          "output_type": "stream",
          "text": [
            "Epoch 1/20\n",
            "1125/1125 [==============================] - 4s 3ms/step - loss: 0.3339 - accuracy: 0.9011\n",
            "Epoch 2/20\n",
            "1125/1125 [==============================] - 3s 3ms/step - loss: 0.1402 - accuracy: 0.9580\n",
            "Epoch 3/20\n",
            "1125/1125 [==============================] - 3s 3ms/step - loss: 0.0950 - accuracy: 0.9713\n",
            "Epoch 4/20\n",
            "1125/1125 [==============================] - 4s 3ms/step - loss: 0.0722 - accuracy: 0.9785\n",
            "Epoch 5/20\n",
            "1125/1125 [==============================] - 3s 3ms/step - loss: 0.0528 - accuracy: 0.9841\n",
            "Epoch 6/20\n",
            "1125/1125 [==============================] - 3s 3ms/step - loss: 0.0421 - accuracy: 0.9877\n",
            "Epoch 7/20\n",
            "1125/1125 [==============================] - 3s 3ms/step - loss: 0.0319 - accuracy: 0.9911\n",
            "Epoch 8/20\n",
            "1125/1125 [==============================] - 3s 3ms/step - loss: 0.0243 - accuracy: 0.9929\n",
            "Epoch 9/20\n",
            "1125/1125 [==============================] - 3s 3ms/step - loss: 0.0177 - accuracy: 0.9956\n",
            "Epoch 10/20\n",
            "1125/1125 [==============================] - 3s 3ms/step - loss: 0.0123 - accuracy: 0.9975\n",
            "Epoch 11/20\n",
            "1125/1125 [==============================] - 3s 3ms/step - loss: 0.0094 - accuracy: 0.9981\n",
            "Epoch 12/20\n",
            "1125/1125 [==============================] - 3s 3ms/step - loss: 0.0067 - accuracy: 0.9990\n",
            "Epoch 13/20\n",
            "1125/1125 [==============================] - 3s 3ms/step - loss: 0.0050 - accuracy: 0.9994\n",
            "Epoch 14/20\n",
            "1125/1125 [==============================] - 3s 3ms/step - loss: 0.0031 - accuracy: 0.9998\n",
            "Epoch 15/20\n",
            "1125/1125 [==============================] - 3s 3ms/step - loss: 0.0023 - accuracy: 0.9999\n",
            "Epoch 16/20\n",
            "1125/1125 [==============================] - 3s 3ms/step - loss: 0.0018 - accuracy: 1.0000\n",
            "Epoch 17/20\n",
            "1125/1125 [==============================] - 3s 3ms/step - loss: 0.0014 - accuracy: 1.0000\n",
            "Epoch 18/20\n",
            "1125/1125 [==============================] - 3s 3ms/step - loss: 0.0012 - accuracy: 1.0000\n",
            "Epoch 19/20\n",
            "1125/1125 [==============================] - 3s 3ms/step - loss: 0.0010 - accuracy: 1.0000\n",
            "Epoch 20/20\n",
            "1125/1125 [==============================] - 3s 3ms/step - loss: 9.5010e-04 - accuracy: 1.0000\n",
            "563/563 [==============================] - 1s 2ms/step\n",
            "[CV] END activation_function=relu, n_hidden_neurons=200, optimizer__lr=0.1; total time= 1.4min\n"
          ]
        },
        {
          "name": "stderr",
          "output_type": "stream",
          "text": [
            "/usr/local/lib/python3.7/dist-packages/keras/optimizer_v2/gradient_descent.py:102: UserWarning: The `lr` argument is deprecated, use `learning_rate` instead.\n",
            "  super(SGD, self).__init__(name, **kwargs)\n"
          ]
        },
        {
          "name": "stdout",
          "output_type": "stream",
          "text": [
            "Epoch 1/20\n",
            "1125/1125 [==============================] - 4s 3ms/step - loss: 0.7816 - accuracy: 0.8013\n",
            "Epoch 2/20\n",
            "1125/1125 [==============================] - 3s 3ms/step - loss: 0.3401 - accuracy: 0.9039\n",
            "Epoch 3/20\n",
            "1125/1125 [==============================] - 3s 3ms/step - loss: 0.2837 - accuracy: 0.9193\n",
            "Epoch 4/20\n",
            "1125/1125 [==============================] - 3s 3ms/step - loss: 0.2493 - accuracy: 0.9302\n",
            "Epoch 5/20\n",
            "1125/1125 [==============================] - 3s 3ms/step - loss: 0.2245 - accuracy: 0.9374\n",
            "Epoch 6/20\n",
            "1125/1125 [==============================] - 3s 3ms/step - loss: 0.2038 - accuracy: 0.9427\n",
            "Epoch 7/20\n",
            "1125/1125 [==============================] - 3s 3ms/step - loss: 0.1869 - accuracy: 0.9471\n",
            "Epoch 8/20\n",
            "1125/1125 [==============================] - 3s 3ms/step - loss: 0.1717 - accuracy: 0.9523\n",
            "Epoch 9/20\n",
            "1125/1125 [==============================] - 3s 3ms/step - loss: 0.1591 - accuracy: 0.9553\n",
            "Epoch 10/20\n",
            "1125/1125 [==============================] - 3s 3ms/step - loss: 0.1480 - accuracy: 0.9592\n",
            "Epoch 11/20\n",
            "1125/1125 [==============================] - 3s 3ms/step - loss: 0.1379 - accuracy: 0.9615\n",
            "Epoch 12/20\n",
            "1125/1125 [==============================] - 3s 3ms/step - loss: 0.1290 - accuracy: 0.9647\n",
            "Epoch 13/20\n",
            "1125/1125 [==============================] - 3s 3ms/step - loss: 0.1212 - accuracy: 0.9664\n",
            "Epoch 14/20\n",
            "1125/1125 [==============================] - 3s 3ms/step - loss: 0.1140 - accuracy: 0.9682\n",
            "Epoch 15/20\n",
            "1125/1125 [==============================] - 3s 3ms/step - loss: 0.1075 - accuracy: 0.9704\n",
            "Epoch 16/20\n",
            "1125/1125 [==============================] - 3s 3ms/step - loss: 0.1012 - accuracy: 0.9726\n",
            "Epoch 17/20\n",
            "1125/1125 [==============================] - 3s 3ms/step - loss: 0.0956 - accuracy: 0.9740\n",
            "Epoch 18/20\n",
            "1125/1125 [==============================] - 3s 3ms/step - loss: 0.0900 - accuracy: 0.9758\n",
            "Epoch 19/20\n",
            "1125/1125 [==============================] - 3s 3ms/step - loss: 0.0853 - accuracy: 0.9766\n",
            "Epoch 20/20\n",
            "1125/1125 [==============================] - 3s 3ms/step - loss: 0.0814 - accuracy: 0.9778\n",
            "563/563 [==============================] - 1s 2ms/step\n",
            "[CV] END activation_function=relu, n_hidden_neurons=200, optimizer__lr=0.01; total time= 1.4min\n"
          ]
        },
        {
          "name": "stderr",
          "output_type": "stream",
          "text": [
            "/usr/local/lib/python3.7/dist-packages/keras/optimizer_v2/gradient_descent.py:102: UserWarning: The `lr` argument is deprecated, use `learning_rate` instead.\n",
            "  super(SGD, self).__init__(name, **kwargs)\n"
          ]
        },
        {
          "name": "stdout",
          "output_type": "stream",
          "text": [
            "Epoch 1/20\n",
            "1125/1125 [==============================] - 3s 3ms/step - loss: 0.7864 - accuracy: 0.8051\n",
            "Epoch 2/20\n",
            "1125/1125 [==============================] - 3s 3ms/step - loss: 0.3382 - accuracy: 0.9038\n",
            "Epoch 3/20\n",
            "1125/1125 [==============================] - 3s 3ms/step - loss: 0.2804 - accuracy: 0.9188\n",
            "Epoch 4/20\n",
            "1125/1125 [==============================] - 3s 3ms/step - loss: 0.2459 - accuracy: 0.9280\n",
            "Epoch 5/20\n",
            "1125/1125 [==============================] - 3s 3ms/step - loss: 0.2199 - accuracy: 0.9363\n",
            "Epoch 6/20\n",
            "1125/1125 [==============================] - 3s 3ms/step - loss: 0.1988 - accuracy: 0.9430\n",
            "Epoch 7/20\n",
            "1125/1125 [==============================] - 3s 3ms/step - loss: 0.1804 - accuracy: 0.9485\n",
            "Epoch 8/20\n",
            "1125/1125 [==============================] - 3s 3ms/step - loss: 0.1661 - accuracy: 0.9528\n",
            "Epoch 9/20\n",
            "1125/1125 [==============================] - 3s 3ms/step - loss: 0.1531 - accuracy: 0.9560\n",
            "Epoch 10/20\n",
            "1125/1125 [==============================] - 3s 3ms/step - loss: 0.1423 - accuracy: 0.9592\n",
            "Epoch 11/20\n",
            "1125/1125 [==============================] - 3s 3ms/step - loss: 0.1326 - accuracy: 0.9625\n",
            "Epoch 12/20\n",
            "1125/1125 [==============================] - 3s 3ms/step - loss: 0.1242 - accuracy: 0.9648\n",
            "Epoch 13/20\n",
            "1125/1125 [==============================] - 3s 3ms/step - loss: 0.1159 - accuracy: 0.9678\n",
            "Epoch 14/20\n",
            "1125/1125 [==============================] - 3s 3ms/step - loss: 0.1091 - accuracy: 0.9691\n",
            "Epoch 15/20\n",
            "1125/1125 [==============================] - 3s 3ms/step - loss: 0.1028 - accuracy: 0.9714\n",
            "Epoch 16/20\n",
            "1125/1125 [==============================] - 3s 3ms/step - loss: 0.0967 - accuracy: 0.9732\n",
            "Epoch 17/20\n",
            "1125/1125 [==============================] - 3s 3ms/step - loss: 0.0915 - accuracy: 0.9744\n",
            "Epoch 18/20\n",
            "1125/1125 [==============================] - 3s 3ms/step - loss: 0.0859 - accuracy: 0.9765\n",
            "Epoch 19/20\n",
            "1125/1125 [==============================] - 3s 3ms/step - loss: 0.0814 - accuracy: 0.9775\n",
            "Epoch 20/20\n",
            "1125/1125 [==============================] - 3s 3ms/step - loss: 0.0768 - accuracy: 0.9788\n",
            "563/563 [==============================] - 1s 2ms/step\n",
            "[CV] END activation_function=relu, n_hidden_neurons=200, optimizer__lr=0.01; total time= 1.4min\n"
          ]
        },
        {
          "name": "stderr",
          "output_type": "stream",
          "text": [
            "/usr/local/lib/python3.7/dist-packages/keras/optimizer_v2/gradient_descent.py:102: UserWarning: The `lr` argument is deprecated, use `learning_rate` instead.\n",
            "  super(SGD, self).__init__(name, **kwargs)\n"
          ]
        },
        {
          "name": "stdout",
          "output_type": "stream",
          "text": [
            "Epoch 1/20\n",
            "1125/1125 [==============================] - 4s 3ms/step - loss: 0.7819 - accuracy: 0.8052\n",
            "Epoch 2/20\n",
            "1125/1125 [==============================] - 3s 3ms/step - loss: 0.3418 - accuracy: 0.9035\n",
            "Epoch 3/20\n",
            "1125/1125 [==============================] - 3s 3ms/step - loss: 0.2845 - accuracy: 0.9197\n",
            "Epoch 4/20\n",
            "1125/1125 [==============================] - 3s 3ms/step - loss: 0.2501 - accuracy: 0.9296\n",
            "Epoch 5/20\n",
            "1125/1125 [==============================] - 3s 3ms/step - loss: 0.2240 - accuracy: 0.9370\n",
            "Epoch 6/20\n",
            "1125/1125 [==============================] - 3s 3ms/step - loss: 0.2035 - accuracy: 0.9421\n",
            "Epoch 7/20\n",
            "1125/1125 [==============================] - 3s 3ms/step - loss: 0.1855 - accuracy: 0.9480\n",
            "Epoch 8/20\n",
            "1125/1125 [==============================] - 3s 3ms/step - loss: 0.1710 - accuracy: 0.9522\n",
            "Epoch 9/20\n",
            "1125/1125 [==============================] - 3s 3ms/step - loss: 0.1583 - accuracy: 0.9557\n",
            "Epoch 10/20\n",
            "1125/1125 [==============================] - 3s 3ms/step - loss: 0.1469 - accuracy: 0.9594\n",
            "Epoch 11/20\n",
            "1125/1125 [==============================] - 3s 3ms/step - loss: 0.1371 - accuracy: 0.9615\n",
            "Epoch 12/20\n",
            "1125/1125 [==============================] - 3s 3ms/step - loss: 0.1284 - accuracy: 0.9646\n",
            "Epoch 13/20\n",
            "1125/1125 [==============================] - 3s 3ms/step - loss: 0.1198 - accuracy: 0.9676\n",
            "Epoch 14/20\n",
            "1125/1125 [==============================] - 3s 3ms/step - loss: 0.1129 - accuracy: 0.9695\n",
            "Epoch 15/20\n",
            "1125/1125 [==============================] - 3s 3ms/step - loss: 0.1062 - accuracy: 0.9707\n",
            "Epoch 16/20\n",
            "1125/1125 [==============================] - 3s 3ms/step - loss: 0.0999 - accuracy: 0.9726\n",
            "Epoch 17/20\n",
            "1125/1125 [==============================] - 3s 3ms/step - loss: 0.0943 - accuracy: 0.9742\n",
            "Epoch 18/20\n",
            "1125/1125 [==============================] - 3s 3ms/step - loss: 0.0889 - accuracy: 0.9757\n",
            "Epoch 19/20\n",
            "1125/1125 [==============================] - 3s 3ms/step - loss: 0.0843 - accuracy: 0.9770\n",
            "Epoch 20/20\n",
            "1125/1125 [==============================] - 3s 3ms/step - loss: 0.0796 - accuracy: 0.9779\n",
            "563/563 [==============================] - 1s 2ms/step\n",
            "[CV] END activation_function=relu, n_hidden_neurons=200, optimizer__lr=0.01; total time= 1.4min\n"
          ]
        },
        {
          "name": "stderr",
          "output_type": "stream",
          "text": [
            "/usr/local/lib/python3.7/dist-packages/keras/optimizer_v2/gradient_descent.py:102: UserWarning: The `lr` argument is deprecated, use `learning_rate` instead.\n",
            "  super(SGD, self).__init__(name, **kwargs)\n"
          ]
        },
        {
          "name": "stdout",
          "output_type": "stream",
          "text": [
            "Epoch 1/20\n",
            "1125/1125 [==============================] - 4s 3ms/step - loss: 2.0409 - accuracy: 0.4215\n",
            "Epoch 2/20\n",
            "1125/1125 [==============================] - 3s 3ms/step - loss: 1.3758 - accuracy: 0.7317\n",
            "Epoch 3/20\n",
            "1125/1125 [==============================] - 3s 3ms/step - loss: 0.9092 - accuracy: 0.8081\n",
            "Epoch 4/20\n",
            "1125/1125 [==============================] - 3s 3ms/step - loss: 0.6924 - accuracy: 0.8404\n",
            "Epoch 5/20\n",
            "1125/1125 [==============================] - 3s 3ms/step - loss: 0.5802 - accuracy: 0.8591\n",
            "Epoch 6/20\n",
            "1125/1125 [==============================] - 3s 3ms/step - loss: 0.5127 - accuracy: 0.8704\n",
            "Epoch 7/20\n",
            "1125/1125 [==============================] - 3s 3ms/step - loss: 0.4679 - accuracy: 0.8789\n",
            "Epoch 8/20\n",
            "1125/1125 [==============================] - 3s 3ms/step - loss: 0.4359 - accuracy: 0.8849\n",
            "Epoch 9/20\n",
            "1125/1125 [==============================] - 3s 3ms/step - loss: 0.4121 - accuracy: 0.8890\n",
            "Epoch 10/20\n",
            "1125/1125 [==============================] - 3s 3ms/step - loss: 0.3932 - accuracy: 0.8928\n",
            "Epoch 11/20\n",
            "1125/1125 [==============================] - 3s 3ms/step - loss: 0.3780 - accuracy: 0.8958\n",
            "Epoch 12/20\n",
            "1125/1125 [==============================] - 3s 3ms/step - loss: 0.3654 - accuracy: 0.8986\n",
            "Epoch 13/20\n",
            "1125/1125 [==============================] - 3s 3ms/step - loss: 0.3546 - accuracy: 0.9012\n",
            "Epoch 14/20\n",
            "1125/1125 [==============================] - 3s 3ms/step - loss: 0.3452 - accuracy: 0.9034\n",
            "Epoch 15/20\n",
            "1125/1125 [==============================] - 3s 3ms/step - loss: 0.3368 - accuracy: 0.9054\n",
            "Epoch 16/20\n",
            "1125/1125 [==============================] - 3s 3ms/step - loss: 0.3292 - accuracy: 0.9070\n",
            "Epoch 17/20\n",
            "1125/1125 [==============================] - 3s 3ms/step - loss: 0.3223 - accuracy: 0.9091\n",
            "Epoch 18/20\n",
            "1125/1125 [==============================] - 3s 3ms/step - loss: 0.3159 - accuracy: 0.9110\n",
            "Epoch 19/20\n",
            "1125/1125 [==============================] - 3s 3ms/step - loss: 0.3100 - accuracy: 0.9130\n",
            "Epoch 20/20\n",
            "1125/1125 [==============================] - 3s 3ms/step - loss: 0.3047 - accuracy: 0.9143\n",
            "563/563 [==============================] - 1s 2ms/step\n",
            "[CV] END activation_function=relu, n_hidden_neurons=200, optimizer__lr=0.001; total time= 1.1min\n"
          ]
        },
        {
          "name": "stderr",
          "output_type": "stream",
          "text": [
            "/usr/local/lib/python3.7/dist-packages/keras/optimizer_v2/gradient_descent.py:102: UserWarning: The `lr` argument is deprecated, use `learning_rate` instead.\n",
            "  super(SGD, self).__init__(name, **kwargs)\n"
          ]
        },
        {
          "name": "stdout",
          "output_type": "stream",
          "text": [
            "Epoch 1/20\n",
            "1125/1125 [==============================] - 3s 3ms/step - loss: 1.9832 - accuracy: 0.4482\n",
            "Epoch 2/20\n",
            "1125/1125 [==============================] - 3s 3ms/step - loss: 1.3005 - accuracy: 0.7281\n",
            "Epoch 3/20\n",
            "1125/1125 [==============================] - 3s 3ms/step - loss: 0.8678 - accuracy: 0.8089\n",
            "Epoch 4/20\n",
            "1125/1125 [==============================] - 3s 3ms/step - loss: 0.6684 - accuracy: 0.8437\n",
            "Epoch 5/20\n",
            "1125/1125 [==============================] - 3s 3ms/step - loss: 0.5633 - accuracy: 0.8624\n",
            "Epoch 6/20\n",
            "1125/1125 [==============================] - 3s 3ms/step - loss: 0.4992 - accuracy: 0.8741\n",
            "Epoch 7/20\n",
            "1125/1125 [==============================] - 3s 3ms/step - loss: 0.4562 - accuracy: 0.8815\n",
            "Epoch 8/20\n",
            "1125/1125 [==============================] - 3s 3ms/step - loss: 0.4254 - accuracy: 0.8869\n",
            "Epoch 9/20\n",
            "1125/1125 [==============================] - 3s 3ms/step - loss: 0.4022 - accuracy: 0.8908\n",
            "Epoch 10/20\n",
            "1125/1125 [==============================] - 3s 3ms/step - loss: 0.3840 - accuracy: 0.8949\n",
            "Epoch 11/20\n",
            "1125/1125 [==============================] - 3s 3ms/step - loss: 0.3692 - accuracy: 0.8982\n",
            "Epoch 12/20\n",
            "1125/1125 [==============================] - 3s 3ms/step - loss: 0.3568 - accuracy: 0.9005\n",
            "Epoch 13/20\n",
            "1125/1125 [==============================] - 3s 3ms/step - loss: 0.3461 - accuracy: 0.9029\n",
            "Epoch 14/20\n",
            "1125/1125 [==============================] - 3s 3ms/step - loss: 0.3371 - accuracy: 0.9054\n",
            "Epoch 15/20\n",
            "1125/1125 [==============================] - 3s 3ms/step - loss: 0.3290 - accuracy: 0.9070\n",
            "Epoch 16/20\n",
            "1125/1125 [==============================] - 3s 3ms/step - loss: 0.3216 - accuracy: 0.9091\n",
            "Epoch 17/20\n",
            "1125/1125 [==============================] - 3s 3ms/step - loss: 0.3151 - accuracy: 0.9095\n",
            "Epoch 18/20\n",
            "1125/1125 [==============================] - 3s 3ms/step - loss: 0.3091 - accuracy: 0.9116\n",
            "Epoch 19/20\n",
            "1125/1125 [==============================] - 3s 3ms/step - loss: 0.3033 - accuracy: 0.9130\n",
            "Epoch 20/20\n",
            "1125/1125 [==============================] - 3s 3ms/step - loss: 0.2982 - accuracy: 0.9146\n",
            "563/563 [==============================] - 1s 2ms/step\n",
            "[CV] END activation_function=relu, n_hidden_neurons=200, optimizer__lr=0.001; total time= 1.4min\n"
          ]
        },
        {
          "name": "stderr",
          "output_type": "stream",
          "text": [
            "/usr/local/lib/python3.7/dist-packages/keras/optimizer_v2/gradient_descent.py:102: UserWarning: The `lr` argument is deprecated, use `learning_rate` instead.\n",
            "  super(SGD, self).__init__(name, **kwargs)\n"
          ]
        },
        {
          "name": "stdout",
          "output_type": "stream",
          "text": [
            "Epoch 1/20\n",
            "1125/1125 [==============================] - 3s 3ms/step - loss: 2.0534 - accuracy: 0.4223\n",
            "Epoch 2/20\n",
            "1125/1125 [==============================] - 3s 3ms/step - loss: 1.4194 - accuracy: 0.7178\n",
            "Epoch 3/20\n",
            "1125/1125 [==============================] - 3s 3ms/step - loss: 0.9442 - accuracy: 0.7943\n",
            "Epoch 4/20\n",
            "1125/1125 [==============================] - 3s 3ms/step - loss: 0.7084 - accuracy: 0.8315\n",
            "Epoch 5/20\n",
            "1125/1125 [==============================] - 3s 3ms/step - loss: 0.5872 - accuracy: 0.8543\n",
            "Epoch 6/20\n",
            "1125/1125 [==============================] - 3s 3ms/step - loss: 0.5151 - accuracy: 0.8675\n",
            "Epoch 7/20\n",
            "1125/1125 [==============================] - 3s 3ms/step - loss: 0.4673 - accuracy: 0.8787\n",
            "Epoch 8/20\n",
            "1125/1125 [==============================] - 3s 3ms/step - loss: 0.4330 - accuracy: 0.8853\n",
            "Epoch 9/20\n",
            "1125/1125 [==============================] - 3s 3ms/step - loss: 0.4075 - accuracy: 0.8913\n",
            "Epoch 10/20\n",
            "1125/1125 [==============================] - 3s 3ms/step - loss: 0.3874 - accuracy: 0.8951\n",
            "Epoch 11/20\n",
            "1125/1125 [==============================] - 3s 3ms/step - loss: 0.3713 - accuracy: 0.8989\n",
            "Epoch 12/20\n",
            "1125/1125 [==============================] - 3s 3ms/step - loss: 0.3579 - accuracy: 0.9017\n",
            "Epoch 13/20\n",
            "1125/1125 [==============================] - 3s 3ms/step - loss: 0.3465 - accuracy: 0.9051\n",
            "Epoch 14/20\n",
            "1125/1125 [==============================] - 3s 3ms/step - loss: 0.3366 - accuracy: 0.9072\n",
            "Epoch 15/20\n",
            "1125/1125 [==============================] - 3s 3ms/step - loss: 0.3279 - accuracy: 0.9094\n",
            "Epoch 16/20\n",
            "1125/1125 [==============================] - 3s 3ms/step - loss: 0.3199 - accuracy: 0.9114\n",
            "Epoch 17/20\n",
            "1125/1125 [==============================] - 3s 3ms/step - loss: 0.3131 - accuracy: 0.9129\n",
            "Epoch 18/20\n",
            "1125/1125 [==============================] - 3s 3ms/step - loss: 0.3065 - accuracy: 0.9146\n",
            "Epoch 19/20\n",
            "1125/1125 [==============================] - 3s 3ms/step - loss: 0.3007 - accuracy: 0.9159\n",
            "Epoch 20/20\n",
            "1125/1125 [==============================] - 3s 3ms/step - loss: 0.2952 - accuracy: 0.9179\n",
            "563/563 [==============================] - 1s 2ms/step\n",
            "[CV] END activation_function=relu, n_hidden_neurons=200, optimizer__lr=0.001; total time= 1.4min\n"
          ]
        },
        {
          "name": "stderr",
          "output_type": "stream",
          "text": [
            "/usr/local/lib/python3.7/dist-packages/keras/optimizer_v2/gradient_descent.py:102: UserWarning: The `lr` argument is deprecated, use `learning_rate` instead.\n",
            "  super(SGD, self).__init__(name, **kwargs)\n"
          ]
        },
        {
          "name": "stdout",
          "output_type": "stream",
          "text": [
            "Epoch 1/20\n",
            "1125/1125 [==============================] - 3s 3ms/step - loss: 0.3527 - accuracy: 0.8961\n",
            "Epoch 2/20\n",
            "1125/1125 [==============================] - 3s 3ms/step - loss: 0.1571 - accuracy: 0.9530\n",
            "Epoch 3/20\n",
            "1125/1125 [==============================] - 3s 3ms/step - loss: 0.1107 - accuracy: 0.9679\n",
            "Epoch 4/20\n",
            "1125/1125 [==============================] - 3s 3ms/step - loss: 0.0843 - accuracy: 0.9753\n",
            "Epoch 5/20\n",
            "1125/1125 [==============================] - 3s 3ms/step - loss: 0.0668 - accuracy: 0.9802\n",
            "Epoch 6/20\n",
            "1125/1125 [==============================] - 3s 3ms/step - loss: 0.0544 - accuracy: 0.9835\n",
            "Epoch 7/20\n",
            "1125/1125 [==============================] - 3s 3ms/step - loss: 0.0436 - accuracy: 0.9865\n",
            "Epoch 8/20\n",
            "1125/1125 [==============================] - 3s 3ms/step - loss: 0.0347 - accuracy: 0.9890\n",
            "Epoch 9/20\n",
            "1125/1125 [==============================] - 3s 3ms/step - loss: 0.0280 - accuracy: 0.9914\n",
            "Epoch 10/20\n",
            "1125/1125 [==============================] - 3s 3ms/step - loss: 0.0234 - accuracy: 0.9928\n",
            "Epoch 11/20\n",
            "1125/1125 [==============================] - 3s 3ms/step - loss: 0.0176 - accuracy: 0.9948\n",
            "Epoch 12/20\n",
            "1125/1125 [==============================] - 3s 3ms/step - loss: 0.0142 - accuracy: 0.9964\n",
            "Epoch 13/20\n",
            "1125/1125 [==============================] - 3s 3ms/step - loss: 0.0091 - accuracy: 0.9981\n",
            "Epoch 14/20\n",
            "1125/1125 [==============================] - 3s 3ms/step - loss: 0.0064 - accuracy: 0.9990\n",
            "Epoch 15/20\n",
            "1125/1125 [==============================] - 3s 3ms/step - loss: 0.0044 - accuracy: 0.9995\n",
            "Epoch 16/20\n",
            "1125/1125 [==============================] - 3s 3ms/step - loss: 0.0030 - accuracy: 0.9998\n",
            "Epoch 17/20\n",
            "1125/1125 [==============================] - 3s 3ms/step - loss: 0.0023 - accuracy: 0.9998\n",
            "Epoch 18/20\n",
            "1125/1125 [==============================] - 3s 3ms/step - loss: 0.0020 - accuracy: 0.9998\n",
            "Epoch 19/20\n",
            "1125/1125 [==============================] - 3s 3ms/step - loss: 0.0017 - accuracy: 0.9998\n",
            "Epoch 20/20\n",
            "1125/1125 [==============================] - 3s 3ms/step - loss: 0.0013 - accuracy: 0.9999\n",
            "563/563 [==============================] - 1s 2ms/step\n",
            "[CV] END activation_function=sigmoid, n_hidden_neurons=100, optimizer__lr=0.1; total time= 1.4min\n"
          ]
        },
        {
          "name": "stderr",
          "output_type": "stream",
          "text": [
            "/usr/local/lib/python3.7/dist-packages/keras/optimizer_v2/gradient_descent.py:102: UserWarning: The `lr` argument is deprecated, use `learning_rate` instead.\n",
            "  super(SGD, self).__init__(name, **kwargs)\n"
          ]
        },
        {
          "name": "stdout",
          "output_type": "stream",
          "text": [
            "Epoch 1/20\n",
            "1125/1125 [==============================] - 4s 3ms/step - loss: 0.3522 - accuracy: 0.8923\n",
            "Epoch 2/20\n",
            "1125/1125 [==============================] - 3s 3ms/step - loss: 0.1518 - accuracy: 0.9529\n",
            "Epoch 3/20\n",
            "1125/1125 [==============================] - 3s 3ms/step - loss: 0.1078 - accuracy: 0.9669\n",
            "Epoch 4/20\n",
            "1125/1125 [==============================] - 3s 3ms/step - loss: 0.0829 - accuracy: 0.9742\n",
            "Epoch 5/20\n",
            "1125/1125 [==============================] - 3s 3ms/step - loss: 0.0660 - accuracy: 0.9786\n",
            "Epoch 6/20\n",
            "1125/1125 [==============================] - 3s 3ms/step - loss: 0.0525 - accuracy: 0.9829\n",
            "Epoch 7/20\n",
            "1125/1125 [==============================] - 3s 3ms/step - loss: 0.0406 - accuracy: 0.9875\n",
            "Epoch 8/20\n",
            "1125/1125 [==============================] - 3s 3ms/step - loss: 0.0336 - accuracy: 0.9897\n",
            "Epoch 9/20\n",
            "1125/1125 [==============================] - 3s 3ms/step - loss: 0.0266 - accuracy: 0.9918\n",
            "Epoch 10/20\n",
            "1125/1125 [==============================] - 3s 3ms/step - loss: 0.0205 - accuracy: 0.9937\n",
            "Epoch 11/20\n",
            "1125/1125 [==============================] - 3s 3ms/step - loss: 0.0166 - accuracy: 0.9953\n",
            "Epoch 12/20\n",
            "1125/1125 [==============================] - 3s 3ms/step - loss: 0.0130 - accuracy: 0.9967\n",
            "Epoch 13/20\n",
            "1125/1125 [==============================] - 3s 3ms/step - loss: 0.0094 - accuracy: 0.9977\n",
            "Epoch 14/20\n",
            "1125/1125 [==============================] - 3s 3ms/step - loss: 0.0067 - accuracy: 0.9988\n",
            "Epoch 15/20\n",
            "1125/1125 [==============================] - 3s 3ms/step - loss: 0.0049 - accuracy: 0.9992\n",
            "Epoch 16/20\n",
            "1125/1125 [==============================] - 3s 3ms/step - loss: 0.0034 - accuracy: 0.9996\n",
            "Epoch 17/20\n",
            "1125/1125 [==============================] - 3s 3ms/step - loss: 0.0023 - accuracy: 0.9999\n",
            "Epoch 18/20\n",
            "1125/1125 [==============================] - 3s 3ms/step - loss: 0.0017 - accuracy: 1.0000\n",
            "Epoch 19/20\n",
            "1125/1125 [==============================] - 3s 3ms/step - loss: 0.0014 - accuracy: 1.0000\n",
            "Epoch 20/20\n",
            "1125/1125 [==============================] - 3s 3ms/step - loss: 0.0012 - accuracy: 1.0000\n",
            "563/563 [==============================] - 1s 2ms/step\n",
            "[CV] END activation_function=sigmoid, n_hidden_neurons=100, optimizer__lr=0.1; total time= 1.2min\n"
          ]
        },
        {
          "name": "stderr",
          "output_type": "stream",
          "text": [
            "/usr/local/lib/python3.7/dist-packages/keras/optimizer_v2/gradient_descent.py:102: UserWarning: The `lr` argument is deprecated, use `learning_rate` instead.\n",
            "  super(SGD, self).__init__(name, **kwargs)\n"
          ]
        },
        {
          "name": "stdout",
          "output_type": "stream",
          "text": [
            "Epoch 1/20\n",
            "1125/1125 [==============================] - 4s 3ms/step - loss: 0.3555 - accuracy: 0.8944\n",
            "Epoch 2/20\n",
            "1125/1125 [==============================] - 3s 3ms/step - loss: 0.1633 - accuracy: 0.9509\n",
            "Epoch 3/20\n",
            "1125/1125 [==============================] - 3s 3ms/step - loss: 0.1141 - accuracy: 0.9650\n",
            "Epoch 4/20\n",
            "1125/1125 [==============================] - 3s 3ms/step - loss: 0.0892 - accuracy: 0.9731\n",
            "Epoch 5/20\n",
            "1125/1125 [==============================] - 3s 3ms/step - loss: 0.0685 - accuracy: 0.9795\n",
            "Epoch 6/20\n",
            "1125/1125 [==============================] - 3s 3ms/step - loss: 0.0556 - accuracy: 0.9824\n",
            "Epoch 7/20\n",
            "1125/1125 [==============================] - 3s 3ms/step - loss: 0.0433 - accuracy: 0.9874\n",
            "Epoch 8/20\n",
            "1125/1125 [==============================] - 3s 3ms/step - loss: 0.0361 - accuracy: 0.9889\n",
            "Epoch 9/20\n",
            "1125/1125 [==============================] - 3s 3ms/step - loss: 0.0292 - accuracy: 0.9909\n",
            "Epoch 10/20\n",
            "1125/1125 [==============================] - 3s 3ms/step - loss: 0.0214 - accuracy: 0.9942\n",
            "Epoch 11/20\n",
            "1125/1125 [==============================] - 3s 3ms/step - loss: 0.0174 - accuracy: 0.9949\n",
            "Epoch 12/20\n",
            "1125/1125 [==============================] - 3s 3ms/step - loss: 0.0143 - accuracy: 0.9964\n",
            "Epoch 13/20\n",
            "1125/1125 [==============================] - 3s 3ms/step - loss: 0.0117 - accuracy: 0.9972\n",
            "Epoch 14/20\n",
            "1125/1125 [==============================] - 3s 3ms/step - loss: 0.0078 - accuracy: 0.9983\n",
            "Epoch 15/20\n",
            "1125/1125 [==============================] - 3s 3ms/step - loss: 0.0052 - accuracy: 0.9994\n",
            "Epoch 16/20\n",
            "1125/1125 [==============================] - 3s 3ms/step - loss: 0.0041 - accuracy: 0.9995\n",
            "Epoch 17/20\n",
            "1125/1125 [==============================] - 3s 3ms/step - loss: 0.0027 - accuracy: 0.9999\n",
            "Epoch 18/20\n",
            "1125/1125 [==============================] - 3s 3ms/step - loss: 0.0020 - accuracy: 0.9999\n",
            "Epoch 19/20\n",
            "1125/1125 [==============================] - 3s 3ms/step - loss: 0.0015 - accuracy: 1.0000\n",
            "Epoch 20/20\n",
            "1125/1125 [==============================] - 3s 3ms/step - loss: 0.0014 - accuracy: 1.0000\n",
            "563/563 [==============================] - 1s 2ms/step\n",
            "[CV] END activation_function=sigmoid, n_hidden_neurons=100, optimizer__lr=0.1; total time= 1.4min\n"
          ]
        },
        {
          "name": "stderr",
          "output_type": "stream",
          "text": [
            "/usr/local/lib/python3.7/dist-packages/keras/optimizer_v2/gradient_descent.py:102: UserWarning: The `lr` argument is deprecated, use `learning_rate` instead.\n",
            "  super(SGD, self).__init__(name, **kwargs)\n"
          ]
        },
        {
          "name": "stdout",
          "output_type": "stream",
          "text": [
            "Epoch 1/20\n",
            "1125/1125 [==============================] - 4s 3ms/step - loss: 0.8601 - accuracy: 0.7714\n",
            "Epoch 2/20\n",
            "1125/1125 [==============================] - 3s 3ms/step - loss: 0.3608 - accuracy: 0.8974\n",
            "Epoch 3/20\n",
            "1125/1125 [==============================] - 3s 3ms/step - loss: 0.3024 - accuracy: 0.9126\n",
            "Epoch 4/20\n",
            "1125/1125 [==============================] - 3s 3ms/step - loss: 0.2670 - accuracy: 0.9240\n",
            "Epoch 5/20\n",
            "1125/1125 [==============================] - 3s 3ms/step - loss: 0.2406 - accuracy: 0.9313\n",
            "Epoch 6/20\n",
            "1125/1125 [==============================] - 3s 3ms/step - loss: 0.2188 - accuracy: 0.9369\n",
            "Epoch 7/20\n",
            "1125/1125 [==============================] - 3s 3ms/step - loss: 0.2009 - accuracy: 0.9420\n",
            "Epoch 8/20\n",
            "1125/1125 [==============================] - 3s 3ms/step - loss: 0.1847 - accuracy: 0.9468\n",
            "Epoch 9/20\n",
            "1125/1125 [==============================] - 3s 3ms/step - loss: 0.1712 - accuracy: 0.9517\n",
            "Epoch 10/20\n",
            "1125/1125 [==============================] - 3s 3ms/step - loss: 0.1593 - accuracy: 0.9543\n",
            "Epoch 11/20\n",
            "1125/1125 [==============================] - 3s 3ms/step - loss: 0.1485 - accuracy: 0.9574\n",
            "Epoch 12/20\n",
            "1125/1125 [==============================] - 3s 3ms/step - loss: 0.1391 - accuracy: 0.9606\n",
            "Epoch 13/20\n",
            "1125/1125 [==============================] - 3s 3ms/step - loss: 0.1310 - accuracy: 0.9633\n",
            "Epoch 14/20\n",
            "1125/1125 [==============================] - 3s 3ms/step - loss: 0.1232 - accuracy: 0.9650\n",
            "Epoch 15/20\n",
            "1125/1125 [==============================] - 3s 3ms/step - loss: 0.1165 - accuracy: 0.9677\n",
            "Epoch 16/20\n",
            "1125/1125 [==============================] - 3s 3ms/step - loss: 0.1101 - accuracy: 0.9691\n",
            "Epoch 17/20\n",
            "1125/1125 [==============================] - 3s 3ms/step - loss: 0.1041 - accuracy: 0.9715\n",
            "Epoch 18/20\n",
            "1125/1125 [==============================] - 3s 3ms/step - loss: 0.0984 - accuracy: 0.9736\n",
            "Epoch 19/20\n",
            "1125/1125 [==============================] - 3s 3ms/step - loss: 0.0937 - accuracy: 0.9744\n",
            "Epoch 20/20\n",
            "1125/1125 [==============================] - 4s 3ms/step - loss: 0.0897 - accuracy: 0.9762\n",
            "563/563 [==============================] - 1s 2ms/step\n",
            "[CV] END activation_function=sigmoid, n_hidden_neurons=100, optimizer__lr=0.01; total time= 1.2min\n"
          ]
        },
        {
          "name": "stderr",
          "output_type": "stream",
          "text": [
            "/usr/local/lib/python3.7/dist-packages/keras/optimizer_v2/gradient_descent.py:102: UserWarning: The `lr` argument is deprecated, use `learning_rate` instead.\n",
            "  super(SGD, self).__init__(name, **kwargs)\n"
          ]
        },
        {
          "name": "stdout",
          "output_type": "stream",
          "text": [
            "Epoch 1/20\n",
            "1125/1125 [==============================] - 4s 3ms/step - loss: 0.8616 - accuracy: 0.7754\n",
            "Epoch 2/20\n",
            "1125/1125 [==============================] - 3s 3ms/step - loss: 0.3557 - accuracy: 0.8982\n",
            "Epoch 3/20\n",
            "1125/1125 [==============================] - 3s 3ms/step - loss: 0.2982 - accuracy: 0.9131\n",
            "Epoch 4/20\n",
            "1125/1125 [==============================] - 3s 3ms/step - loss: 0.2650 - accuracy: 0.9235\n",
            "Epoch 5/20\n",
            "1125/1125 [==============================] - 3s 3ms/step - loss: 0.2404 - accuracy: 0.9308\n",
            "Epoch 6/20\n",
            "1125/1125 [==============================] - 3s 3ms/step - loss: 0.2198 - accuracy: 0.9358\n",
            "Epoch 7/20\n",
            "1125/1125 [==============================] - 3s 3ms/step - loss: 0.2017 - accuracy: 0.9419\n",
            "Epoch 8/20\n",
            "1125/1125 [==============================] - 3s 3ms/step - loss: 0.1875 - accuracy: 0.9465\n",
            "Epoch 9/20\n",
            "1125/1125 [==============================] - 3s 3ms/step - loss: 0.1742 - accuracy: 0.9501\n",
            "Epoch 10/20\n",
            "1125/1125 [==============================] - 3s 3ms/step - loss: 0.1629 - accuracy: 0.9527\n",
            "Epoch 11/20\n",
            "1125/1125 [==============================] - 3s 3ms/step - loss: 0.1530 - accuracy: 0.9568\n",
            "Epoch 12/20\n",
            "1125/1125 [==============================] - 3s 3ms/step - loss: 0.1443 - accuracy: 0.9580\n",
            "Epoch 13/20\n",
            "1125/1125 [==============================] - 3s 3ms/step - loss: 0.1357 - accuracy: 0.9604\n",
            "Epoch 14/20\n",
            "1125/1125 [==============================] - 3s 3ms/step - loss: 0.1285 - accuracy: 0.9629\n",
            "Epoch 15/20\n",
            "1125/1125 [==============================] - 3s 3ms/step - loss: 0.1220 - accuracy: 0.9645\n",
            "Epoch 16/20\n",
            "1125/1125 [==============================] - 3s 3ms/step - loss: 0.1158 - accuracy: 0.9660\n",
            "Epoch 17/20\n",
            "1125/1125 [==============================] - 3s 3ms/step - loss: 0.1103 - accuracy: 0.9682\n",
            "Epoch 18/20\n",
            "1125/1125 [==============================] - 3s 3ms/step - loss: 0.1043 - accuracy: 0.9697\n",
            "Epoch 19/20\n",
            "1125/1125 [==============================] - 3s 3ms/step - loss: 0.0993 - accuracy: 0.9711\n",
            "Epoch 20/20\n",
            "1125/1125 [==============================] - 3s 3ms/step - loss: 0.0945 - accuracy: 0.9729\n",
            "563/563 [==============================] - 1s 2ms/step\n",
            "[CV] END activation_function=sigmoid, n_hidden_neurons=100, optimizer__lr=0.01; total time= 1.2min\n"
          ]
        },
        {
          "name": "stderr",
          "output_type": "stream",
          "text": [
            "/usr/local/lib/python3.7/dist-packages/keras/optimizer_v2/gradient_descent.py:102: UserWarning: The `lr` argument is deprecated, use `learning_rate` instead.\n",
            "  super(SGD, self).__init__(name, **kwargs)\n"
          ]
        },
        {
          "name": "stdout",
          "output_type": "stream",
          "text": [
            "Epoch 1/20\n",
            "1125/1125 [==============================] - 3s 3ms/step - loss: 0.8657 - accuracy: 0.7750\n",
            "Epoch 2/20\n",
            "1125/1125 [==============================] - 3s 3ms/step - loss: 0.3461 - accuracy: 0.9017\n",
            "Epoch 3/20\n",
            "1125/1125 [==============================] - 3s 3ms/step - loss: 0.2899 - accuracy: 0.9169\n",
            "Epoch 4/20\n",
            "1125/1125 [==============================] - 3s 3ms/step - loss: 0.2578 - accuracy: 0.9258\n",
            "Epoch 5/20\n",
            "1125/1125 [==============================] - 3s 3ms/step - loss: 0.2334 - accuracy: 0.9337\n",
            "Epoch 6/20\n",
            "1125/1125 [==============================] - 3s 3ms/step - loss: 0.2137 - accuracy: 0.9385\n",
            "Epoch 7/20\n",
            "1125/1125 [==============================] - 3s 3ms/step - loss: 0.1964 - accuracy: 0.9437\n",
            "Epoch 8/20\n",
            "1125/1125 [==============================] - 3s 3ms/step - loss: 0.1823 - accuracy: 0.9481\n",
            "Epoch 9/20\n",
            "1125/1125 [==============================] - 3s 3ms/step - loss: 0.1698 - accuracy: 0.9522\n",
            "Epoch 10/20\n",
            "1125/1125 [==============================] - 3s 3ms/step - loss: 0.1585 - accuracy: 0.9550\n",
            "Epoch 11/20\n",
            "1125/1125 [==============================] - 3s 3ms/step - loss: 0.1486 - accuracy: 0.9574\n",
            "Epoch 12/20\n",
            "1125/1125 [==============================] - 3s 3ms/step - loss: 0.1400 - accuracy: 0.9595\n",
            "Epoch 13/20\n",
            "1125/1125 [==============================] - 3s 3ms/step - loss: 0.1319 - accuracy: 0.9630\n",
            "Epoch 14/20\n",
            "1125/1125 [==============================] - 3s 3ms/step - loss: 0.1253 - accuracy: 0.9647\n",
            "Epoch 15/20\n",
            "1125/1125 [==============================] - 3s 3ms/step - loss: 0.1188 - accuracy: 0.9664\n",
            "Epoch 16/20\n",
            "1125/1125 [==============================] - 3s 3ms/step - loss: 0.1126 - accuracy: 0.9679\n",
            "Epoch 17/20\n",
            "1125/1125 [==============================] - 3s 3ms/step - loss: 0.1070 - accuracy: 0.9699\n",
            "Epoch 18/20\n",
            "1125/1125 [==============================] - 3s 3ms/step - loss: 0.1020 - accuracy: 0.9712\n",
            "Epoch 19/20\n",
            "1125/1125 [==============================] - 3s 3ms/step - loss: 0.0971 - accuracy: 0.9725\n",
            "Epoch 20/20\n",
            "1125/1125 [==============================] - 3s 3ms/step - loss: 0.0923 - accuracy: 0.9740\n",
            "563/563 [==============================] - 1s 2ms/step\n",
            "[CV] END activation_function=sigmoid, n_hidden_neurons=100, optimizer__lr=0.01; total time= 1.4min\n"
          ]
        },
        {
          "name": "stderr",
          "output_type": "stream",
          "text": [
            "/usr/local/lib/python3.7/dist-packages/keras/optimizer_v2/gradient_descent.py:102: UserWarning: The `lr` argument is deprecated, use `learning_rate` instead.\n",
            "  super(SGD, self).__init__(name, **kwargs)\n"
          ]
        },
        {
          "name": "stdout",
          "output_type": "stream",
          "text": [
            "Epoch 1/20\n",
            "1125/1125 [==============================] - 3s 3ms/step - loss: 2.0099 - accuracy: 0.4032\n",
            "Epoch 2/20\n",
            "1125/1125 [==============================] - 3s 3ms/step - loss: 1.3736 - accuracy: 0.7079\n",
            "Epoch 3/20\n",
            "1125/1125 [==============================] - 3s 3ms/step - loss: 0.9227 - accuracy: 0.7876\n",
            "Epoch 4/20\n",
            "1125/1125 [==============================] - 3s 3ms/step - loss: 0.7059 - accuracy: 0.8284\n",
            "Epoch 5/20\n",
            "1125/1125 [==============================] - 3s 3ms/step - loss: 0.5924 - accuracy: 0.8507\n",
            "Epoch 6/20\n",
            "1125/1125 [==============================] - 3s 3ms/step - loss: 0.5243 - accuracy: 0.8630\n",
            "Epoch 7/20\n",
            "1125/1125 [==============================] - 3s 3ms/step - loss: 0.4794 - accuracy: 0.8728\n",
            "Epoch 8/20\n",
            "1125/1125 [==============================] - 3s 3ms/step - loss: 0.4472 - accuracy: 0.8792\n",
            "Epoch 9/20\n",
            "1125/1125 [==============================] - 3s 3ms/step - loss: 0.4233 - accuracy: 0.8842\n",
            "Epoch 10/20\n",
            "1125/1125 [==============================] - 3s 3ms/step - loss: 0.4042 - accuracy: 0.8882\n",
            "Epoch 11/20\n",
            "1125/1125 [==============================] - 3s 3ms/step - loss: 0.3889 - accuracy: 0.8917\n",
            "Epoch 12/20\n",
            "1125/1125 [==============================] - 3s 3ms/step - loss: 0.3761 - accuracy: 0.8950\n",
            "Epoch 13/20\n",
            "1125/1125 [==============================] - 3s 3ms/step - loss: 0.3652 - accuracy: 0.8970\n",
            "Epoch 14/20\n",
            "1125/1125 [==============================] - 3s 3ms/step - loss: 0.3558 - accuracy: 0.8994\n",
            "Epoch 15/20\n",
            "1125/1125 [==============================] - 3s 3ms/step - loss: 0.3474 - accuracy: 0.9018\n",
            "Epoch 16/20\n",
            "1125/1125 [==============================] - 3s 3ms/step - loss: 0.3398 - accuracy: 0.9036\n",
            "Epoch 17/20\n",
            "1125/1125 [==============================] - 3s 3ms/step - loss: 0.3330 - accuracy: 0.9056\n",
            "Epoch 18/20\n",
            "1125/1125 [==============================] - 3s 3ms/step - loss: 0.3266 - accuracy: 0.9075\n",
            "Epoch 19/20\n",
            "1125/1125 [==============================] - 3s 3ms/step - loss: 0.3207 - accuracy: 0.9089\n",
            "Epoch 20/20\n",
            "1125/1125 [==============================] - 3s 3ms/step - loss: 0.3156 - accuracy: 0.9109\n",
            "563/563 [==============================] - 1s 2ms/step\n",
            "[CV] END activation_function=sigmoid, n_hidden_neurons=100, optimizer__lr=0.001; total time= 1.4min\n"
          ]
        },
        {
          "name": "stderr",
          "output_type": "stream",
          "text": [
            "/usr/local/lib/python3.7/dist-packages/keras/optimizer_v2/gradient_descent.py:102: UserWarning: The `lr` argument is deprecated, use `learning_rate` instead.\n",
            "  super(SGD, self).__init__(name, **kwargs)\n"
          ]
        },
        {
          "name": "stdout",
          "output_type": "stream",
          "text": [
            "Epoch 1/20\n",
            "1125/1125 [==============================] - 3s 3ms/step - loss: 2.0758 - accuracy: 0.3677\n",
            "Epoch 2/20\n",
            "1125/1125 [==============================] - 3s 3ms/step - loss: 1.4909 - accuracy: 0.6592\n",
            "Epoch 3/20\n",
            "1125/1125 [==============================] - 3s 3ms/step - loss: 1.0228 - accuracy: 0.7552\n",
            "Epoch 4/20\n",
            "1125/1125 [==============================] - 3s 3ms/step - loss: 0.7813 - accuracy: 0.8020\n",
            "Epoch 5/20\n",
            "1125/1125 [==============================] - 3s 3ms/step - loss: 0.6486 - accuracy: 0.8338\n",
            "Epoch 6/20\n",
            "1125/1125 [==============================] - 3s 3ms/step - loss: 0.5660 - accuracy: 0.8534\n",
            "Epoch 7/20\n",
            "1125/1125 [==============================] - 3s 3ms/step - loss: 0.5105 - accuracy: 0.8664\n",
            "Epoch 8/20\n",
            "1125/1125 [==============================] - 3s 3ms/step - loss: 0.4711 - accuracy: 0.8745\n",
            "Epoch 9/20\n",
            "1125/1125 [==============================] - 3s 3ms/step - loss: 0.4418 - accuracy: 0.8810\n",
            "Epoch 10/20\n",
            "1125/1125 [==============================] - 3s 3ms/step - loss: 0.4189 - accuracy: 0.8858\n",
            "Epoch 11/20\n",
            "1125/1125 [==============================] - 3s 3ms/step - loss: 0.4008 - accuracy: 0.8903\n",
            "Epoch 12/20\n",
            "1125/1125 [==============================] - 3s 3ms/step - loss: 0.3856 - accuracy: 0.8941\n",
            "Epoch 13/20\n",
            "1125/1125 [==============================] - 3s 3ms/step - loss: 0.3728 - accuracy: 0.8966\n",
            "Epoch 14/20\n",
            "1125/1125 [==============================] - 3s 3ms/step - loss: 0.3618 - accuracy: 0.8992\n",
            "Epoch 15/20\n",
            "1125/1125 [==============================] - 3s 3ms/step - loss: 0.3523 - accuracy: 0.9007\n",
            "Epoch 16/20\n",
            "1125/1125 [==============================] - 3s 3ms/step - loss: 0.3435 - accuracy: 0.9031\n",
            "Epoch 17/20\n",
            "1125/1125 [==============================] - 3s 3ms/step - loss: 0.3359 - accuracy: 0.9053\n",
            "Epoch 18/20\n",
            "1125/1125 [==============================] - 3s 3ms/step - loss: 0.3288 - accuracy: 0.9073\n",
            "Epoch 19/20\n",
            "1125/1125 [==============================] - 4s 3ms/step - loss: 0.3221 - accuracy: 0.9088\n",
            "Epoch 20/20\n",
            "1125/1125 [==============================] - 3s 3ms/step - loss: 0.3163 - accuracy: 0.9101\n",
            "563/563 [==============================] - 1s 2ms/step\n",
            "[CV] END activation_function=sigmoid, n_hidden_neurons=100, optimizer__lr=0.001; total time= 1.4min\n"
          ]
        },
        {
          "name": "stderr",
          "output_type": "stream",
          "text": [
            "/usr/local/lib/python3.7/dist-packages/keras/optimizer_v2/gradient_descent.py:102: UserWarning: The `lr` argument is deprecated, use `learning_rate` instead.\n",
            "  super(SGD, self).__init__(name, **kwargs)\n"
          ]
        },
        {
          "name": "stdout",
          "output_type": "stream",
          "text": [
            "Epoch 1/20\n",
            "1125/1125 [==============================] - 4s 3ms/step - loss: 2.1247 - accuracy: 0.3677\n",
            "Epoch 2/20\n",
            "1125/1125 [==============================] - 3s 3ms/step - loss: 1.5686 - accuracy: 0.6856\n",
            "Epoch 3/20\n",
            "1125/1125 [==============================] - 3s 3ms/step - loss: 1.0522 - accuracy: 0.7747\n",
            "Epoch 4/20\n",
            "1125/1125 [==============================] - 3s 3ms/step - loss: 0.7717 - accuracy: 0.8243\n",
            "Epoch 5/20\n",
            "1125/1125 [==============================] - 3s 3ms/step - loss: 0.6289 - accuracy: 0.8486\n",
            "Epoch 6/20\n",
            "1125/1125 [==============================] - 3s 3ms/step - loss: 0.5474 - accuracy: 0.8632\n",
            "Epoch 7/20\n",
            "1125/1125 [==============================] - 3s 3ms/step - loss: 0.4957 - accuracy: 0.8723\n",
            "Epoch 8/20\n",
            "1125/1125 [==============================] - 3s 3ms/step - loss: 0.4597 - accuracy: 0.8790\n",
            "Epoch 9/20\n",
            "1125/1125 [==============================] - 3s 3ms/step - loss: 0.4333 - accuracy: 0.8838\n",
            "Epoch 10/20\n",
            "1125/1125 [==============================] - 3s 3ms/step - loss: 0.4129 - accuracy: 0.8882\n",
            "Epoch 11/20\n",
            "1125/1125 [==============================] - 3s 3ms/step - loss: 0.3966 - accuracy: 0.8918\n",
            "Epoch 12/20\n",
            "1125/1125 [==============================] - 3s 3ms/step - loss: 0.3831 - accuracy: 0.8949\n",
            "Epoch 13/20\n",
            "1125/1125 [==============================] - 3s 3ms/step - loss: 0.3718 - accuracy: 0.8973\n",
            "Epoch 14/20\n",
            "1125/1125 [==============================] - 3s 3ms/step - loss: 0.3619 - accuracy: 0.8994\n",
            "Epoch 15/20\n",
            "1125/1125 [==============================] - 3s 3ms/step - loss: 0.3532 - accuracy: 0.9015\n",
            "Epoch 16/20\n",
            "1125/1125 [==============================] - 3s 3ms/step - loss: 0.3453 - accuracy: 0.9027\n",
            "Epoch 17/20\n",
            "1125/1125 [==============================] - 3s 3ms/step - loss: 0.3384 - accuracy: 0.9041\n",
            "Epoch 18/20\n",
            "1125/1125 [==============================] - 3s 3ms/step - loss: 0.3318 - accuracy: 0.9062\n",
            "Epoch 19/20\n",
            "1125/1125 [==============================] - 3s 3ms/step - loss: 0.3258 - accuracy: 0.9074\n",
            "Epoch 20/20\n",
            "1125/1125 [==============================] - 3s 3ms/step - loss: 0.3202 - accuracy: 0.9087\n",
            "563/563 [==============================] - 1s 2ms/step\n",
            "[CV] END activation_function=sigmoid, n_hidden_neurons=100, optimizer__lr=0.001; total time= 1.1min\n"
          ]
        },
        {
          "name": "stderr",
          "output_type": "stream",
          "text": [
            "/usr/local/lib/python3.7/dist-packages/keras/optimizer_v2/gradient_descent.py:102: UserWarning: The `lr` argument is deprecated, use `learning_rate` instead.\n",
            "  super(SGD, self).__init__(name, **kwargs)\n"
          ]
        },
        {
          "name": "stdout",
          "output_type": "stream",
          "text": [
            "Epoch 1/20\n",
            "1125/1125 [==============================] - 4s 3ms/step - loss: 0.3277 - accuracy: 0.9041\n",
            "Epoch 2/20\n",
            "1125/1125 [==============================] - 3s 3ms/step - loss: 0.1429 - accuracy: 0.9584\n",
            "Epoch 3/20\n",
            "1125/1125 [==============================] - 3s 3ms/step - loss: 0.0987 - accuracy: 0.9708\n",
            "Epoch 4/20\n",
            "1125/1125 [==============================] - 3s 3ms/step - loss: 0.0712 - accuracy: 0.9798\n",
            "Epoch 5/20\n",
            "1125/1125 [==============================] - 3s 3ms/step - loss: 0.0541 - accuracy: 0.9841\n",
            "Epoch 6/20\n",
            "1125/1125 [==============================] - 3s 3ms/step - loss: 0.0414 - accuracy: 0.9873\n",
            "Epoch 7/20\n",
            "1125/1125 [==============================] - 3s 3ms/step - loss: 0.0317 - accuracy: 0.9906\n",
            "Epoch 8/20\n",
            "1125/1125 [==============================] - 3s 3ms/step - loss: 0.0231 - accuracy: 0.9939\n",
            "Epoch 9/20\n",
            "1125/1125 [==============================] - 3s 3ms/step - loss: 0.0176 - accuracy: 0.9957\n",
            "Epoch 10/20\n",
            "1125/1125 [==============================] - 3s 3ms/step - loss: 0.0132 - accuracy: 0.9967\n",
            "Epoch 11/20\n",
            "1125/1125 [==============================] - 3s 3ms/step - loss: 0.0090 - accuracy: 0.9984\n",
            "Epoch 12/20\n",
            "1125/1125 [==============================] - 3s 3ms/step - loss: 0.0054 - accuracy: 0.9994\n",
            "Epoch 13/20\n",
            "1125/1125 [==============================] - 3s 3ms/step - loss: 0.0038 - accuracy: 0.9997\n",
            "Epoch 14/20\n",
            "1125/1125 [==============================] - 3s 3ms/step - loss: 0.0028 - accuracy: 0.9998\n",
            "Epoch 15/20\n",
            "1125/1125 [==============================] - 3s 3ms/step - loss: 0.0022 - accuracy: 0.9999\n",
            "Epoch 16/20\n",
            "1125/1125 [==============================] - 3s 3ms/step - loss: 0.0017 - accuracy: 0.9999\n",
            "Epoch 17/20\n",
            "1125/1125 [==============================] - 3s 3ms/step - loss: 0.0014 - accuracy: 1.0000\n",
            "Epoch 18/20\n",
            "1125/1125 [==============================] - 3s 3ms/step - loss: 0.0012 - accuracy: 1.0000\n",
            "Epoch 19/20\n",
            "1125/1125 [==============================] - 3s 3ms/step - loss: 0.0010 - accuracy: 1.0000\n",
            "Epoch 20/20\n",
            "1125/1125 [==============================] - 3s 3ms/step - loss: 9.2773e-04 - accuracy: 1.0000\n",
            "563/563 [==============================] - 1s 2ms/step\n",
            "[CV] END activation_function=sigmoid, n_hidden_neurons=200, optimizer__lr=0.1; total time= 1.4min\n"
          ]
        },
        {
          "name": "stderr",
          "output_type": "stream",
          "text": [
            "/usr/local/lib/python3.7/dist-packages/keras/optimizer_v2/gradient_descent.py:102: UserWarning: The `lr` argument is deprecated, use `learning_rate` instead.\n",
            "  super(SGD, self).__init__(name, **kwargs)\n"
          ]
        },
        {
          "name": "stdout",
          "output_type": "stream",
          "text": [
            "Epoch 1/20\n",
            "1125/1125 [==============================] - 4s 3ms/step - loss: 0.3313 - accuracy: 0.9003\n",
            "Epoch 2/20\n",
            "1125/1125 [==============================] - 3s 3ms/step - loss: 0.1361 - accuracy: 0.9587\n",
            "Epoch 3/20\n",
            "1125/1125 [==============================] - 3s 3ms/step - loss: 0.0955 - accuracy: 0.9704\n",
            "Epoch 4/20\n",
            "1125/1125 [==============================] - 3s 3ms/step - loss: 0.0713 - accuracy: 0.9784\n",
            "Epoch 5/20\n",
            "1125/1125 [==============================] - 3s 3ms/step - loss: 0.0517 - accuracy: 0.9841\n",
            "Epoch 6/20\n",
            "1125/1125 [==============================] - 3s 3ms/step - loss: 0.0409 - accuracy: 0.9873\n",
            "Epoch 7/20\n",
            "1125/1125 [==============================] - 3s 3ms/step - loss: 0.0287 - accuracy: 0.9920\n",
            "Epoch 8/20\n",
            "1125/1125 [==============================] - 3s 3ms/step - loss: 0.0234 - accuracy: 0.9936\n",
            "Epoch 9/20\n",
            "1125/1125 [==============================] - 3s 3ms/step - loss: 0.0170 - accuracy: 0.9956\n",
            "Epoch 10/20\n",
            "1125/1125 [==============================] - 3s 3ms/step - loss: 0.0117 - accuracy: 0.9973\n",
            "Epoch 11/20\n",
            "1125/1125 [==============================] - 3s 3ms/step - loss: 0.0079 - accuracy: 0.9986\n",
            "Epoch 12/20\n",
            "1125/1125 [==============================] - 3s 3ms/step - loss: 0.0058 - accuracy: 0.9990\n",
            "Epoch 13/20\n",
            "1125/1125 [==============================] - 3s 3ms/step - loss: 0.0034 - accuracy: 0.9998\n",
            "Epoch 14/20\n",
            "1125/1125 [==============================] - 3s 3ms/step - loss: 0.0024 - accuracy: 0.9999\n",
            "Epoch 15/20\n",
            "1125/1125 [==============================] - 3s 3ms/step - loss: 0.0018 - accuracy: 1.0000\n",
            "Epoch 16/20\n",
            "1125/1125 [==============================] - 3s 3ms/step - loss: 0.0015 - accuracy: 1.0000\n",
            "Epoch 17/20\n",
            "1125/1125 [==============================] - 3s 3ms/step - loss: 0.0013 - accuracy: 1.0000\n",
            "Epoch 18/20\n",
            "1125/1125 [==============================] - 3s 3ms/step - loss: 0.0011 - accuracy: 1.0000\n",
            "Epoch 19/20\n",
            "1125/1125 [==============================] - 3s 3ms/step - loss: 0.0010 - accuracy: 1.0000\n",
            "Epoch 20/20\n",
            "1125/1125 [==============================] - 3s 3ms/step - loss: 9.0618e-04 - accuracy: 1.0000\n",
            "563/563 [==============================] - 1s 2ms/step\n",
            "[CV] END activation_function=sigmoid, n_hidden_neurons=200, optimizer__lr=0.1; total time= 1.1min\n"
          ]
        },
        {
          "name": "stderr",
          "output_type": "stream",
          "text": [
            "/usr/local/lib/python3.7/dist-packages/keras/optimizer_v2/gradient_descent.py:102: UserWarning: The `lr` argument is deprecated, use `learning_rate` instead.\n",
            "  super(SGD, self).__init__(name, **kwargs)\n"
          ]
        },
        {
          "name": "stdout",
          "output_type": "stream",
          "text": [
            "Epoch 1/20\n",
            "1125/1125 [==============================] - 4s 3ms/step - loss: 0.3364 - accuracy: 0.8997\n",
            "Epoch 2/20\n",
            "1125/1125 [==============================] - 3s 3ms/step - loss: 0.1427 - accuracy: 0.9578\n",
            "Epoch 3/20\n",
            "1125/1125 [==============================] - 3s 3ms/step - loss: 0.0970 - accuracy: 0.9708\n",
            "Epoch 4/20\n",
            "1125/1125 [==============================] - 3s 3ms/step - loss: 0.0743 - accuracy: 0.9775\n",
            "Epoch 5/20\n",
            "1125/1125 [==============================] - 3s 3ms/step - loss: 0.0538 - accuracy: 0.9840\n",
            "Epoch 6/20\n",
            "1125/1125 [==============================] - 3s 3ms/step - loss: 0.0421 - accuracy: 0.9879\n",
            "Epoch 7/20\n",
            "1125/1125 [==============================] - 3s 3ms/step - loss: 0.0327 - accuracy: 0.9903\n",
            "Epoch 8/20\n",
            "1125/1125 [==============================] - 3s 3ms/step - loss: 0.0244 - accuracy: 0.9934\n",
            "Epoch 9/20\n",
            "1125/1125 [==============================] - 3s 3ms/step - loss: 0.0167 - accuracy: 0.9959\n",
            "Epoch 10/20\n",
            "1125/1125 [==============================] - 3s 3ms/step - loss: 0.0124 - accuracy: 0.9970\n",
            "Epoch 11/20\n",
            "1125/1125 [==============================] - 3s 3ms/step - loss: 0.0092 - accuracy: 0.9983\n",
            "Epoch 12/20\n",
            "1125/1125 [==============================] - 3s 3ms/step - loss: 0.0070 - accuracy: 0.9988\n",
            "Epoch 13/20\n",
            "1125/1125 [==============================] - 3s 3ms/step - loss: 0.0046 - accuracy: 0.9995\n",
            "Epoch 14/20\n",
            "1125/1125 [==============================] - 3s 3ms/step - loss: 0.0030 - accuracy: 0.9997\n",
            "Epoch 15/20\n",
            "1125/1125 [==============================] - 3s 3ms/step - loss: 0.0023 - accuracy: 0.9999\n",
            "Epoch 16/20\n",
            "1125/1125 [==============================] - 3s 3ms/step - loss: 0.0017 - accuracy: 1.0000\n",
            "Epoch 17/20\n",
            "1125/1125 [==============================] - 3s 3ms/step - loss: 0.0014 - accuracy: 1.0000\n",
            "Epoch 18/20\n",
            "1125/1125 [==============================] - 3s 3ms/step - loss: 0.0012 - accuracy: 1.0000\n",
            "Epoch 19/20\n",
            "1125/1125 [==============================] - 3s 3ms/step - loss: 0.0010 - accuracy: 1.0000\n",
            "Epoch 20/20\n",
            "1125/1125 [==============================] - 3s 3ms/step - loss: 9.5404e-04 - accuracy: 1.0000\n",
            "563/563 [==============================] - 1s 2ms/step\n",
            "[CV] END activation_function=sigmoid, n_hidden_neurons=200, optimizer__lr=0.1; total time= 1.1min\n"
          ]
        },
        {
          "name": "stderr",
          "output_type": "stream",
          "text": [
            "/usr/local/lib/python3.7/dist-packages/keras/optimizer_v2/gradient_descent.py:102: UserWarning: The `lr` argument is deprecated, use `learning_rate` instead.\n",
            "  super(SGD, self).__init__(name, **kwargs)\n"
          ]
        },
        {
          "name": "stdout",
          "output_type": "stream",
          "text": [
            "Epoch 1/20\n",
            "1125/1125 [==============================] - 4s 3ms/step - loss: 0.7833 - accuracy: 0.8028\n",
            "Epoch 2/20\n",
            "1125/1125 [==============================] - 3s 3ms/step - loss: 0.3446 - accuracy: 0.9033\n",
            "Epoch 3/20\n",
            "1125/1125 [==============================] - 3s 3ms/step - loss: 0.2879 - accuracy: 0.9186\n",
            "Epoch 4/20\n",
            "1125/1125 [==============================] - 3s 3ms/step - loss: 0.2525 - accuracy: 0.9289\n",
            "Epoch 5/20\n",
            "1125/1125 [==============================] - 3s 3ms/step - loss: 0.2269 - accuracy: 0.9359\n",
            "Epoch 6/20\n",
            "1125/1125 [==============================] - 3s 3ms/step - loss: 0.2057 - accuracy: 0.9418\n",
            "Epoch 7/20\n",
            "1125/1125 [==============================] - 3s 3ms/step - loss: 0.1883 - accuracy: 0.9462\n",
            "Epoch 8/20\n",
            "1125/1125 [==============================] - 3s 3ms/step - loss: 0.1726 - accuracy: 0.9514\n",
            "Epoch 9/20\n",
            "1125/1125 [==============================] - 3s 3ms/step - loss: 0.1597 - accuracy: 0.9554\n",
            "Epoch 10/20\n",
            "1125/1125 [==============================] - 3s 3ms/step - loss: 0.1481 - accuracy: 0.9585\n",
            "Epoch 11/20\n",
            "1125/1125 [==============================] - 3s 3ms/step - loss: 0.1378 - accuracy: 0.9614\n",
            "Epoch 12/20\n",
            "1125/1125 [==============================] - 3s 3ms/step - loss: 0.1288 - accuracy: 0.9643\n",
            "Epoch 13/20\n",
            "1125/1125 [==============================] - 3s 3ms/step - loss: 0.1209 - accuracy: 0.9658\n",
            "Epoch 14/20\n",
            "1125/1125 [==============================] - 3s 3ms/step - loss: 0.1135 - accuracy: 0.9686\n",
            "Epoch 15/20\n",
            "1125/1125 [==============================] - 3s 3ms/step - loss: 0.1068 - accuracy: 0.9710\n",
            "Epoch 16/20\n",
            "1125/1125 [==============================] - 3s 3ms/step - loss: 0.1006 - accuracy: 0.9719\n",
            "Epoch 17/20\n",
            "1125/1125 [==============================] - 3s 3ms/step - loss: 0.0948 - accuracy: 0.9743\n",
            "Epoch 18/20\n",
            "1125/1125 [==============================] - 3s 3ms/step - loss: 0.0893 - accuracy: 0.9763\n",
            "Epoch 19/20\n",
            "1125/1125 [==============================] - 3s 3ms/step - loss: 0.0845 - accuracy: 0.9770\n",
            "Epoch 20/20\n",
            "1125/1125 [==============================] - 3s 3ms/step - loss: 0.0803 - accuracy: 0.9782\n",
            "563/563 [==============================] - 1s 2ms/step\n",
            "[CV] END activation_function=sigmoid, n_hidden_neurons=200, optimizer__lr=0.01; total time= 1.4min\n"
          ]
        },
        {
          "name": "stderr",
          "output_type": "stream",
          "text": [
            "/usr/local/lib/python3.7/dist-packages/keras/optimizer_v2/gradient_descent.py:102: UserWarning: The `lr` argument is deprecated, use `learning_rate` instead.\n",
            "  super(SGD, self).__init__(name, **kwargs)\n"
          ]
        },
        {
          "name": "stdout",
          "output_type": "stream",
          "text": [
            "Epoch 1/20\n",
            "1125/1125 [==============================] - 4s 3ms/step - loss: 0.7862 - accuracy: 0.7973\n",
            "Epoch 2/20\n",
            "1125/1125 [==============================] - 3s 3ms/step - loss: 0.3341 - accuracy: 0.9043\n",
            "Epoch 3/20\n",
            "1125/1125 [==============================] - 3s 3ms/step - loss: 0.2792 - accuracy: 0.9193\n",
            "Epoch 4/20\n",
            "1125/1125 [==============================] - 3s 3ms/step - loss: 0.2455 - accuracy: 0.9291\n",
            "Epoch 5/20\n",
            "1125/1125 [==============================] - 3s 3ms/step - loss: 0.2202 - accuracy: 0.9374\n",
            "Epoch 6/20\n",
            "1125/1125 [==============================] - 3s 3ms/step - loss: 0.2000 - accuracy: 0.9430\n",
            "Epoch 7/20\n",
            "1125/1125 [==============================] - 3s 3ms/step - loss: 0.1824 - accuracy: 0.9476\n",
            "Epoch 8/20\n",
            "1125/1125 [==============================] - 3s 3ms/step - loss: 0.1685 - accuracy: 0.9516\n",
            "Epoch 9/20\n",
            "1125/1125 [==============================] - 3s 3ms/step - loss: 0.1557 - accuracy: 0.9557\n",
            "Epoch 10/20\n",
            "1125/1125 [==============================] - 3s 3ms/step - loss: 0.1449 - accuracy: 0.9574\n",
            "Epoch 11/20\n",
            "1125/1125 [==============================] - 3s 3ms/step - loss: 0.1352 - accuracy: 0.9611\n",
            "Epoch 12/20\n",
            "1125/1125 [==============================] - 3s 3ms/step - loss: 0.1268 - accuracy: 0.9633\n",
            "Epoch 13/20\n",
            "1125/1125 [==============================] - 3s 3ms/step - loss: 0.1181 - accuracy: 0.9659\n",
            "Epoch 14/20\n",
            "1125/1125 [==============================] - 3s 3ms/step - loss: 0.1112 - accuracy: 0.9683\n",
            "Epoch 15/20\n",
            "1125/1125 [==============================] - 3s 3ms/step - loss: 0.1050 - accuracy: 0.9702\n",
            "Epoch 16/20\n",
            "1125/1125 [==============================] - 3s 3ms/step - loss: 0.0984 - accuracy: 0.9721\n",
            "Epoch 17/20\n",
            "1125/1125 [==============================] - 3s 3ms/step - loss: 0.0933 - accuracy: 0.9729\n",
            "Epoch 18/20\n",
            "1125/1125 [==============================] - 3s 3ms/step - loss: 0.0874 - accuracy: 0.9747\n",
            "Epoch 19/20\n",
            "1125/1125 [==============================] - 3s 3ms/step - loss: 0.0828 - accuracy: 0.9762\n",
            "Epoch 20/20\n",
            "1125/1125 [==============================] - 3s 3ms/step - loss: 0.0785 - accuracy: 0.9774\n",
            "563/563 [==============================] - 1s 2ms/step\n",
            "[CV] END activation_function=sigmoid, n_hidden_neurons=200, optimizer__lr=0.01; total time= 1.2min\n"
          ]
        },
        {
          "name": "stderr",
          "output_type": "stream",
          "text": [
            "/usr/local/lib/python3.7/dist-packages/keras/optimizer_v2/gradient_descent.py:102: UserWarning: The `lr` argument is deprecated, use `learning_rate` instead.\n",
            "  super(SGD, self).__init__(name, **kwargs)\n"
          ]
        },
        {
          "name": "stdout",
          "output_type": "stream",
          "text": [
            "Epoch 1/20\n",
            "1125/1125 [==============================] - 4s 3ms/step - loss: 0.7972 - accuracy: 0.7994\n",
            "Epoch 2/20\n",
            "1125/1125 [==============================] - 3s 3ms/step - loss: 0.3381 - accuracy: 0.9043\n",
            "Epoch 3/20\n",
            "1125/1125 [==============================] - 3s 3ms/step - loss: 0.2804 - accuracy: 0.9205\n",
            "Epoch 4/20\n",
            "1125/1125 [==============================] - 3s 3ms/step - loss: 0.2461 - accuracy: 0.9302\n",
            "Epoch 5/20\n",
            "1125/1125 [==============================] - 3s 3ms/step - loss: 0.2198 - accuracy: 0.9377\n",
            "Epoch 6/20\n",
            "1125/1125 [==============================] - 3s 3ms/step - loss: 0.1995 - accuracy: 0.9424\n",
            "Epoch 7/20\n",
            "1125/1125 [==============================] - 3s 3ms/step - loss: 0.1820 - accuracy: 0.9480\n",
            "Epoch 8/20\n",
            "1125/1125 [==============================] - 3s 3ms/step - loss: 0.1678 - accuracy: 0.9523\n",
            "Epoch 9/20\n",
            "1125/1125 [==============================] - 3s 3ms/step - loss: 0.1553 - accuracy: 0.9554\n",
            "Epoch 10/20\n",
            "1125/1125 [==============================] - 3s 3ms/step - loss: 0.1441 - accuracy: 0.9589\n",
            "Epoch 11/20\n",
            "1125/1125 [==============================] - 3s 3ms/step - loss: 0.1343 - accuracy: 0.9617\n",
            "Epoch 12/20\n",
            "1125/1125 [==============================] - 3s 3ms/step - loss: 0.1257 - accuracy: 0.9641\n",
            "Epoch 13/20\n",
            "1125/1125 [==============================] - 3s 3ms/step - loss: 0.1173 - accuracy: 0.9675\n",
            "Epoch 14/20\n",
            "1125/1125 [==============================] - 3s 3ms/step - loss: 0.1106 - accuracy: 0.9692\n",
            "Epoch 15/20\n",
            "1125/1125 [==============================] - 3s 3ms/step - loss: 0.1038 - accuracy: 0.9706\n",
            "Epoch 16/20\n",
            "1125/1125 [==============================] - 3s 3ms/step - loss: 0.0978 - accuracy: 0.9726\n",
            "Epoch 17/20\n",
            "1125/1125 [==============================] - 3s 3ms/step - loss: 0.0920 - accuracy: 0.9746\n",
            "Epoch 18/20\n",
            "1125/1125 [==============================] - 3s 3ms/step - loss: 0.0869 - accuracy: 0.9762\n",
            "Epoch 19/20\n",
            "1125/1125 [==============================] - 3s 3ms/step - loss: 0.0822 - accuracy: 0.9773\n",
            "Epoch 20/20\n",
            "1125/1125 [==============================] - 3s 3ms/step - loss: 0.0774 - accuracy: 0.9789\n",
            "563/563 [==============================] - 1s 2ms/step\n",
            "[CV] END activation_function=sigmoid, n_hidden_neurons=200, optimizer__lr=0.01; total time= 1.4min\n"
          ]
        },
        {
          "name": "stderr",
          "output_type": "stream",
          "text": [
            "/usr/local/lib/python3.7/dist-packages/keras/optimizer_v2/gradient_descent.py:102: UserWarning: The `lr` argument is deprecated, use `learning_rate` instead.\n",
            "  super(SGD, self).__init__(name, **kwargs)\n"
          ]
        },
        {
          "name": "stdout",
          "output_type": "stream",
          "text": [
            "Epoch 1/20\n",
            "1125/1125 [==============================] - 4s 3ms/step - loss: 2.0700 - accuracy: 0.3901\n",
            "Epoch 2/20\n",
            "1125/1125 [==============================] - 3s 3ms/step - loss: 1.4530 - accuracy: 0.7161\n",
            "Epoch 3/20\n",
            "1125/1125 [==============================] - 3s 3ms/step - loss: 0.9509 - accuracy: 0.7981\n",
            "Epoch 4/20\n",
            "1125/1125 [==============================] - 3s 3ms/step - loss: 0.7063 - accuracy: 0.8351\n",
            "Epoch 5/20\n",
            "1125/1125 [==============================] - 3s 3ms/step - loss: 0.5855 - accuracy: 0.8538\n",
            "Epoch 6/20\n",
            "1125/1125 [==============================] - 3s 3ms/step - loss: 0.5152 - accuracy: 0.8662\n",
            "Epoch 7/20\n",
            "1125/1125 [==============================] - 3s 3ms/step - loss: 0.4692 - accuracy: 0.8752\n",
            "Epoch 8/20\n",
            "1125/1125 [==============================] - 3s 3ms/step - loss: 0.4364 - accuracy: 0.8817\n",
            "Epoch 9/20\n",
            "1125/1125 [==============================] - 3s 3ms/step - loss: 0.4118 - accuracy: 0.8878\n",
            "Epoch 10/20\n",
            "1125/1125 [==============================] - 3s 3ms/step - loss: 0.3921 - accuracy: 0.8922\n",
            "Epoch 11/20\n",
            "1125/1125 [==============================] - 3s 3ms/step - loss: 0.3762 - accuracy: 0.8964\n",
            "Epoch 12/20\n",
            "1125/1125 [==============================] - 3s 3ms/step - loss: 0.3628 - accuracy: 0.9001\n",
            "Epoch 13/20\n",
            "1125/1125 [==============================] - 3s 3ms/step - loss: 0.3514 - accuracy: 0.9025\n",
            "Epoch 14/20\n",
            "1125/1125 [==============================] - 3s 3ms/step - loss: 0.3415 - accuracy: 0.9051\n",
            "Epoch 15/20\n",
            "1125/1125 [==============================] - 3s 3ms/step - loss: 0.3326 - accuracy: 0.9076\n",
            "Epoch 16/20\n",
            "1125/1125 [==============================] - 3s 3ms/step - loss: 0.3246 - accuracy: 0.9094\n",
            "Epoch 17/20\n",
            "1125/1125 [==============================] - 3s 3ms/step - loss: 0.3174 - accuracy: 0.9113\n",
            "Epoch 18/20\n",
            "1125/1125 [==============================] - 3s 3ms/step - loss: 0.3107 - accuracy: 0.9133\n",
            "Epoch 19/20\n",
            "1125/1125 [==============================] - 3s 3ms/step - loss: 0.3044 - accuracy: 0.9146\n",
            "Epoch 20/20\n",
            "1125/1125 [==============================] - 3s 3ms/step - loss: 0.2990 - accuracy: 0.9164\n",
            "563/563 [==============================] - 1s 2ms/step\n",
            "[CV] END activation_function=sigmoid, n_hidden_neurons=200, optimizer__lr=0.001; total time= 1.4min\n"
          ]
        },
        {
          "name": "stderr",
          "output_type": "stream",
          "text": [
            "/usr/local/lib/python3.7/dist-packages/keras/optimizer_v2/gradient_descent.py:102: UserWarning: The `lr` argument is deprecated, use `learning_rate` instead.\n",
            "  super(SGD, self).__init__(name, **kwargs)\n"
          ]
        },
        {
          "name": "stdout",
          "output_type": "stream",
          "text": [
            "Epoch 1/20\n",
            "1125/1125 [==============================] - 4s 3ms/step - loss: 2.0139 - accuracy: 0.4107\n",
            "Epoch 2/20\n",
            "1125/1125 [==============================] - 3s 3ms/step - loss: 1.3448 - accuracy: 0.7252\n",
            "Epoch 3/20\n",
            "1125/1125 [==============================] - 3s 3ms/step - loss: 0.8892 - accuracy: 0.8079\n",
            "Epoch 4/20\n",
            "1125/1125 [==============================] - 3s 3ms/step - loss: 0.6754 - accuracy: 0.8407\n",
            "Epoch 5/20\n",
            "1125/1125 [==============================] - 3s 3ms/step - loss: 0.5660 - accuracy: 0.8597\n",
            "Epoch 6/20\n",
            "1125/1125 [==============================] - 3s 3ms/step - loss: 0.5007 - accuracy: 0.8712\n",
            "Epoch 7/20\n",
            "1125/1125 [==============================] - 3s 3ms/step - loss: 0.4575 - accuracy: 0.8794\n",
            "Epoch 8/20\n",
            "1125/1125 [==============================] - 3s 3ms/step - loss: 0.4267 - accuracy: 0.8849\n",
            "Epoch 9/20\n",
            "1125/1125 [==============================] - 3s 3ms/step - loss: 0.4035 - accuracy: 0.8895\n",
            "Epoch 10/20\n",
            "1125/1125 [==============================] - 3s 3ms/step - loss: 0.3853 - accuracy: 0.8939\n",
            "Epoch 11/20\n",
            "1125/1125 [==============================] - 3s 3ms/step - loss: 0.3705 - accuracy: 0.8970\n",
            "Epoch 12/20\n",
            "1125/1125 [==============================] - 3s 3ms/step - loss: 0.3580 - accuracy: 0.8999\n",
            "Epoch 13/20\n",
            "1125/1125 [==============================] - 3s 3ms/step - loss: 0.3471 - accuracy: 0.9022\n",
            "Epoch 14/20\n",
            "1125/1125 [==============================] - 3s 3ms/step - loss: 0.3379 - accuracy: 0.9042\n",
            "Epoch 15/20\n",
            "1125/1125 [==============================] - 3s 3ms/step - loss: 0.3296 - accuracy: 0.9061\n",
            "Epoch 16/20\n",
            "1125/1125 [==============================] - 3s 3ms/step - loss: 0.3219 - accuracy: 0.9083\n",
            "Epoch 17/20\n",
            "1125/1125 [==============================] - 3s 3ms/step - loss: 0.3152 - accuracy: 0.9102\n",
            "Epoch 18/20\n",
            "1125/1125 [==============================] - 3s 3ms/step - loss: 0.3089 - accuracy: 0.9118\n",
            "Epoch 19/20\n",
            "1125/1125 [==============================] - 3s 3ms/step - loss: 0.3029 - accuracy: 0.9135\n",
            "Epoch 20/20\n",
            "1125/1125 [==============================] - 3s 3ms/step - loss: 0.2977 - accuracy: 0.9149\n",
            "563/563 [==============================] - 1s 2ms/step\n",
            "[CV] END activation_function=sigmoid, n_hidden_neurons=200, optimizer__lr=0.001; total time= 1.4min\n"
          ]
        },
        {
          "name": "stderr",
          "output_type": "stream",
          "text": [
            "/usr/local/lib/python3.7/dist-packages/keras/optimizer_v2/gradient_descent.py:102: UserWarning: The `lr` argument is deprecated, use `learning_rate` instead.\n",
            "  super(SGD, self).__init__(name, **kwargs)\n"
          ]
        },
        {
          "name": "stdout",
          "output_type": "stream",
          "text": [
            "Epoch 1/20\n",
            "1125/1125 [==============================] - 4s 3ms/step - loss: 1.9977 - accuracy: 0.4423\n",
            "Epoch 2/20\n",
            "1125/1125 [==============================] - 3s 3ms/step - loss: 1.3232 - accuracy: 0.7560\n",
            "Epoch 3/20\n",
            "1125/1125 [==============================] - 3s 3ms/step - loss: 0.8754 - accuracy: 0.8229\n",
            "Epoch 4/20\n",
            "1125/1125 [==============================] - 3s 3ms/step - loss: 0.6668 - accuracy: 0.8513\n",
            "Epoch 5/20\n",
            "1125/1125 [==============================] - 3s 3ms/step - loss: 0.5598 - accuracy: 0.8666\n",
            "Epoch 6/20\n",
            "1125/1125 [==============================] - 3s 3ms/step - loss: 0.4957 - accuracy: 0.8771\n",
            "Epoch 7/20\n",
            "1125/1125 [==============================] - 3s 3ms/step - loss: 0.4530 - accuracy: 0.8847\n",
            "Epoch 8/20\n",
            "1125/1125 [==============================] - 3s 3ms/step - loss: 0.4220 - accuracy: 0.8904\n",
            "Epoch 9/20\n",
            "1125/1125 [==============================] - 3s 3ms/step - loss: 0.3987 - accuracy: 0.8954\n",
            "Epoch 10/20\n",
            "1125/1125 [==============================] - 3s 3ms/step - loss: 0.3800 - accuracy: 0.8984\n",
            "Epoch 11/20\n",
            "1125/1125 [==============================] - 3s 3ms/step - loss: 0.3650 - accuracy: 0.9023\n",
            "Epoch 12/20\n",
            "1125/1125 [==============================] - 3s 3ms/step - loss: 0.3523 - accuracy: 0.9050\n",
            "Epoch 13/20\n",
            "1125/1125 [==============================] - 3s 3ms/step - loss: 0.3415 - accuracy: 0.9073\n",
            "Epoch 14/20\n",
            "1125/1125 [==============================] - 3s 3ms/step - loss: 0.3320 - accuracy: 0.9095\n",
            "Epoch 15/20\n",
            "1125/1125 [==============================] - 3s 3ms/step - loss: 0.3235 - accuracy: 0.9113\n",
            "Epoch 16/20\n",
            "1125/1125 [==============================] - 3s 3ms/step - loss: 0.3159 - accuracy: 0.9138\n",
            "Epoch 17/20\n",
            "1125/1125 [==============================] - 3s 3ms/step - loss: 0.3091 - accuracy: 0.9152\n",
            "Epoch 18/20\n",
            "1125/1125 [==============================] - 3s 3ms/step - loss: 0.3027 - accuracy: 0.9164\n",
            "Epoch 19/20\n",
            "1125/1125 [==============================] - 3s 3ms/step - loss: 0.2969 - accuracy: 0.9179\n",
            "Epoch 20/20\n",
            "1125/1125 [==============================] - 3s 3ms/step - loss: 0.2914 - accuracy: 0.9193\n",
            "563/563 [==============================] - 1s 2ms/step\n",
            "[CV] END activation_function=sigmoid, n_hidden_neurons=200, optimizer__lr=0.001; total time= 1.1min\n"
          ]
        },
        {
          "name": "stderr",
          "output_type": "stream",
          "text": [
            "/usr/local/lib/python3.7/dist-packages/keras/optimizer_v2/gradient_descent.py:102: UserWarning: The `lr` argument is deprecated, use `learning_rate` instead.\n",
            "  super(SGD, self).__init__(name, **kwargs)\n"
          ]
        },
        {
          "name": "stdout",
          "output_type": "stream",
          "text": [
            "Epoch 1/20\n",
            "1125/1125 [==============================] - 4s 3ms/step - loss: 0.3512 - accuracy: 0.8954\n",
            "Epoch 2/20\n",
            "1125/1125 [==============================] - 3s 3ms/step - loss: 0.1537 - accuracy: 0.9544\n",
            "Epoch 3/20\n",
            "1125/1125 [==============================] - 3s 3ms/step - loss: 0.1085 - accuracy: 0.9683\n",
            "Epoch 4/20\n",
            "1125/1125 [==============================] - 3s 3ms/step - loss: 0.0810 - accuracy: 0.9765\n",
            "Epoch 5/20\n",
            "1125/1125 [==============================] - 3s 3ms/step - loss: 0.0646 - accuracy: 0.9802\n",
            "Epoch 6/20\n",
            "1125/1125 [==============================] - 3s 3ms/step - loss: 0.0516 - accuracy: 0.9840\n",
            "Epoch 7/20\n",
            "1125/1125 [==============================] - 3s 3ms/step - loss: 0.0413 - accuracy: 0.9879\n",
            "Epoch 8/20\n",
            "1125/1125 [==============================] - 3s 3ms/step - loss: 0.0338 - accuracy: 0.9896\n",
            "Epoch 9/20\n",
            "1125/1125 [==============================] - 3s 3ms/step - loss: 0.0270 - accuracy: 0.9914\n",
            "Epoch 10/20\n",
            "1125/1125 [==============================] - 3s 3ms/step - loss: 0.0207 - accuracy: 0.9946\n",
            "Epoch 11/20\n",
            "1125/1125 [==============================] - 3s 3ms/step - loss: 0.0166 - accuracy: 0.9956\n",
            "Epoch 12/20\n",
            "1125/1125 [==============================] - 3s 3ms/step - loss: 0.0126 - accuracy: 0.9967\n",
            "Epoch 13/20\n",
            "1125/1125 [==============================] - 3s 3ms/step - loss: 0.0099 - accuracy: 0.9977\n",
            "Epoch 14/20\n",
            "1125/1125 [==============================] - 3s 3ms/step - loss: 0.0062 - accuracy: 0.9989\n",
            "Epoch 15/20\n",
            "1125/1125 [==============================] - 3s 3ms/step - loss: 0.0045 - accuracy: 0.9994\n",
            "Epoch 16/20\n",
            "1125/1125 [==============================] - 3s 3ms/step - loss: 0.0029 - accuracy: 0.9998\n",
            "Epoch 17/20\n",
            "1125/1125 [==============================] - 3s 3ms/step - loss: 0.0022 - accuracy: 0.9998\n",
            "Epoch 18/20\n",
            "1125/1125 [==============================] - 3s 3ms/step - loss: 0.0018 - accuracy: 0.9999\n",
            "Epoch 19/20\n",
            "1125/1125 [==============================] - 3s 3ms/step - loss: 0.0015 - accuracy: 0.9999\n",
            "Epoch 20/20\n",
            "1125/1125 [==============================] - 3s 3ms/step - loss: 0.0013 - accuracy: 1.0000\n",
            "563/563 [==============================] - 1s 2ms/step\n",
            "[CV] END activation_function=tanh, n_hidden_neurons=100, optimizer__lr=0.1; total time= 1.4min\n"
          ]
        },
        {
          "name": "stderr",
          "output_type": "stream",
          "text": [
            "/usr/local/lib/python3.7/dist-packages/keras/optimizer_v2/gradient_descent.py:102: UserWarning: The `lr` argument is deprecated, use `learning_rate` instead.\n",
            "  super(SGD, self).__init__(name, **kwargs)\n"
          ]
        },
        {
          "name": "stdout",
          "output_type": "stream",
          "text": [
            "Epoch 1/20\n",
            "1125/1125 [==============================] - 4s 3ms/step - loss: 0.3536 - accuracy: 0.8934\n",
            "Epoch 2/20\n",
            "1125/1125 [==============================] - 3s 3ms/step - loss: 0.1556 - accuracy: 0.9528\n",
            "Epoch 3/20\n",
            "1125/1125 [==============================] - 3s 3ms/step - loss: 0.1108 - accuracy: 0.9649\n",
            "Epoch 4/20\n",
            "1125/1125 [==============================] - 3s 3ms/step - loss: 0.0864 - accuracy: 0.9734\n",
            "Epoch 5/20\n",
            "1125/1125 [==============================] - 3s 3ms/step - loss: 0.0676 - accuracy: 0.9790\n",
            "Epoch 6/20\n",
            "1125/1125 [==============================] - 3s 3ms/step - loss: 0.0561 - accuracy: 0.9818\n",
            "Epoch 7/20\n",
            "1125/1125 [==============================] - 3s 3ms/step - loss: 0.0449 - accuracy: 0.9859\n",
            "Epoch 8/20\n",
            "1125/1125 [==============================] - 3s 3ms/step - loss: 0.0355 - accuracy: 0.9890\n",
            "Epoch 9/20\n",
            "1125/1125 [==============================] - 3s 3ms/step - loss: 0.0282 - accuracy: 0.9908\n",
            "Epoch 10/20\n",
            "1125/1125 [==============================] - 3s 3ms/step - loss: 0.0236 - accuracy: 0.9924\n",
            "Epoch 11/20\n",
            "1125/1125 [==============================] - 3s 3ms/step - loss: 0.0190 - accuracy: 0.9944\n",
            "Epoch 12/20\n",
            "1125/1125 [==============================] - 3s 3ms/step - loss: 0.0149 - accuracy: 0.9960\n",
            "Epoch 13/20\n",
            "1125/1125 [==============================] - 4s 3ms/step - loss: 0.0093 - accuracy: 0.9979\n",
            "Epoch 14/20\n",
            "1125/1125 [==============================] - 3s 3ms/step - loss: 0.0067 - accuracy: 0.9988\n",
            "Epoch 15/20\n",
            "1125/1125 [==============================] - 3s 3ms/step - loss: 0.0063 - accuracy: 0.9991\n",
            "Epoch 16/20\n",
            "1125/1125 [==============================] - 3s 3ms/step - loss: 0.0038 - accuracy: 0.9996\n",
            "Epoch 17/20\n",
            "1125/1125 [==============================] - 3s 3ms/step - loss: 0.0024 - accuracy: 0.9999\n",
            "Epoch 18/20\n",
            "1125/1125 [==============================] - 3s 3ms/step - loss: 0.0017 - accuracy: 0.9999\n",
            "Epoch 19/20\n",
            "1125/1125 [==============================] - 4s 3ms/step - loss: 0.0016 - accuracy: 0.9999\n",
            "Epoch 20/20\n",
            "1125/1125 [==============================] - 4s 3ms/step - loss: 0.0013 - accuracy: 1.0000\n",
            "563/563 [==============================] - 1s 2ms/step\n",
            "[CV] END activation_function=tanh, n_hidden_neurons=100, optimizer__lr=0.1; total time= 1.4min\n"
          ]
        },
        {
          "name": "stderr",
          "output_type": "stream",
          "text": [
            "/usr/local/lib/python3.7/dist-packages/keras/optimizer_v2/gradient_descent.py:102: UserWarning: The `lr` argument is deprecated, use `learning_rate` instead.\n",
            "  super(SGD, self).__init__(name, **kwargs)\n"
          ]
        },
        {
          "name": "stdout",
          "output_type": "stream",
          "text": [
            "Epoch 1/20\n",
            "1125/1125 [==============================] - 4s 3ms/step - loss: 0.3617 - accuracy: 0.8921\n",
            "Epoch 2/20\n",
            "1125/1125 [==============================] - 3s 3ms/step - loss: 0.1566 - accuracy: 0.9523\n",
            "Epoch 3/20\n",
            "1125/1125 [==============================] - 3s 3ms/step - loss: 0.1114 - accuracy: 0.9664\n",
            "Epoch 4/20\n",
            "1125/1125 [==============================] - 3s 3ms/step - loss: 0.0882 - accuracy: 0.9737\n",
            "Epoch 5/20\n",
            "1125/1125 [==============================] - 3s 3ms/step - loss: 0.0673 - accuracy: 0.9795\n",
            "Epoch 6/20\n",
            "1125/1125 [==============================] - 3s 3ms/step - loss: 0.0557 - accuracy: 0.9828\n",
            "Epoch 7/20\n",
            "1125/1125 [==============================] - 3s 3ms/step - loss: 0.0458 - accuracy: 0.9858\n",
            "Epoch 8/20\n",
            "1125/1125 [==============================] - 3s 3ms/step - loss: 0.0351 - accuracy: 0.9895\n",
            "Epoch 9/20\n",
            "1125/1125 [==============================] - 3s 3ms/step - loss: 0.0299 - accuracy: 0.9908\n",
            "Epoch 10/20\n",
            "1125/1125 [==============================] - 3s 3ms/step - loss: 0.0231 - accuracy: 0.9933\n",
            "Epoch 11/20\n",
            "1125/1125 [==============================] - 3s 3ms/step - loss: 0.0174 - accuracy: 0.9954\n",
            "Epoch 12/20\n",
            "1125/1125 [==============================] - 3s 3ms/step - loss: 0.0161 - accuracy: 0.9955\n",
            "Epoch 13/20\n",
            "1125/1125 [==============================] - 3s 3ms/step - loss: 0.0114 - accuracy: 0.9973\n",
            "Epoch 14/20\n",
            "1125/1125 [==============================] - 3s 3ms/step - loss: 0.0092 - accuracy: 0.9979\n",
            "Epoch 15/20\n",
            "1125/1125 [==============================] - 3s 3ms/step - loss: 0.0059 - accuracy: 0.9991\n",
            "Epoch 16/20\n",
            "1125/1125 [==============================] - 3s 3ms/step - loss: 0.0037 - accuracy: 0.9996\n",
            "Epoch 17/20\n",
            "1125/1125 [==============================] - 3s 3ms/step - loss: 0.0029 - accuracy: 0.9997\n",
            "Epoch 18/20\n",
            "1125/1125 [==============================] - 3s 3ms/step - loss: 0.0019 - accuracy: 0.9999\n",
            "Epoch 19/20\n",
            "1125/1125 [==============================] - 3s 3ms/step - loss: 0.0014 - accuracy: 1.0000\n",
            "Epoch 20/20\n",
            "1125/1125 [==============================] - 3s 3ms/step - loss: 0.0012 - accuracy: 1.0000\n",
            "563/563 [==============================] - 1s 2ms/step\n",
            "[CV] END activation_function=tanh, n_hidden_neurons=100, optimizer__lr=0.1; total time= 1.4min\n"
          ]
        },
        {
          "name": "stderr",
          "output_type": "stream",
          "text": [
            "/usr/local/lib/python3.7/dist-packages/keras/optimizer_v2/gradient_descent.py:102: UserWarning: The `lr` argument is deprecated, use `learning_rate` instead.\n",
            "  super(SGD, self).__init__(name, **kwargs)\n"
          ]
        },
        {
          "name": "stdout",
          "output_type": "stream",
          "text": [
            "Epoch 1/20\n",
            "1125/1125 [==============================] - 4s 3ms/step - loss: 0.8407 - accuracy: 0.7860\n",
            "Epoch 2/20\n",
            "1125/1125 [==============================] - 3s 3ms/step - loss: 0.3567 - accuracy: 0.8998\n",
            "Epoch 3/20\n",
            "1125/1125 [==============================] - 3s 3ms/step - loss: 0.3010 - accuracy: 0.9145\n",
            "Epoch 4/20\n",
            "1125/1125 [==============================] - 3s 3ms/step - loss: 0.2674 - accuracy: 0.9242\n",
            "Epoch 5/20\n",
            "1125/1125 [==============================] - 3s 3ms/step - loss: 0.2429 - accuracy: 0.9323\n",
            "Epoch 6/20\n",
            "1125/1125 [==============================] - 3s 3ms/step - loss: 0.2219 - accuracy: 0.9373\n",
            "Epoch 7/20\n",
            "1125/1125 [==============================] - 3s 3ms/step - loss: 0.2044 - accuracy: 0.9425\n",
            "Epoch 8/20\n",
            "1125/1125 [==============================] - 3s 3ms/step - loss: 0.1887 - accuracy: 0.9473\n",
            "Epoch 9/20\n",
            "1125/1125 [==============================] - 3s 3ms/step - loss: 0.1761 - accuracy: 0.9509\n",
            "Epoch 10/20\n",
            "1125/1125 [==============================] - 3s 3ms/step - loss: 0.1641 - accuracy: 0.9541\n",
            "Epoch 11/20\n",
            "1125/1125 [==============================] - 3s 3ms/step - loss: 0.1536 - accuracy: 0.9569\n",
            "Epoch 12/20\n",
            "1125/1125 [==============================] - 3s 3ms/step - loss: 0.1441 - accuracy: 0.9599\n",
            "Epoch 13/20\n",
            "1125/1125 [==============================] - 3s 3ms/step - loss: 0.1356 - accuracy: 0.9617\n",
            "Epoch 14/20\n",
            "1125/1125 [==============================] - 3s 3ms/step - loss: 0.1279 - accuracy: 0.9640\n",
            "Epoch 15/20\n",
            "1125/1125 [==============================] - 3s 3ms/step - loss: 0.1211 - accuracy: 0.9663\n",
            "Epoch 16/20\n",
            "1125/1125 [==============================] - 3s 3ms/step - loss: 0.1144 - accuracy: 0.9682\n",
            "Epoch 17/20\n",
            "1125/1125 [==============================] - 3s 3ms/step - loss: 0.1083 - accuracy: 0.9703\n",
            "Epoch 18/20\n",
            "1125/1125 [==============================] - 3s 3ms/step - loss: 0.1023 - accuracy: 0.9716\n",
            "Epoch 19/20\n",
            "1125/1125 [==============================] - 3s 3ms/step - loss: 0.0974 - accuracy: 0.9728\n",
            "Epoch 20/20\n",
            "1125/1125 [==============================] - 3s 3ms/step - loss: 0.0933 - accuracy: 0.9737\n",
            "563/563 [==============================] - 1s 2ms/step\n",
            "[CV] END activation_function=tanh, n_hidden_neurons=100, optimizer__lr=0.01; total time= 1.1min\n"
          ]
        },
        {
          "name": "stderr",
          "output_type": "stream",
          "text": [
            "/usr/local/lib/python3.7/dist-packages/keras/optimizer_v2/gradient_descent.py:102: UserWarning: The `lr` argument is deprecated, use `learning_rate` instead.\n",
            "  super(SGD, self).__init__(name, **kwargs)\n"
          ]
        },
        {
          "name": "stdout",
          "output_type": "stream",
          "text": [
            "Epoch 1/20\n",
            "1125/1125 [==============================] - 4s 3ms/step - loss: 0.7941 - accuracy: 0.7992\n",
            "Epoch 2/20\n",
            "1125/1125 [==============================] - 3s 3ms/step - loss: 0.3435 - accuracy: 0.9020\n",
            "Epoch 3/20\n",
            "1125/1125 [==============================] - 3s 3ms/step - loss: 0.2883 - accuracy: 0.9164\n",
            "Epoch 4/20\n",
            "1125/1125 [==============================] - 3s 3ms/step - loss: 0.2550 - accuracy: 0.9264\n",
            "Epoch 5/20\n",
            "1125/1125 [==============================] - 3s 3ms/step - loss: 0.2296 - accuracy: 0.9347\n",
            "Epoch 6/20\n",
            "1125/1125 [==============================] - 3s 3ms/step - loss: 0.2093 - accuracy: 0.9392\n",
            "Epoch 7/20\n",
            "1125/1125 [==============================] - 3s 3ms/step - loss: 0.1912 - accuracy: 0.9449\n",
            "Epoch 8/20\n",
            "1125/1125 [==============================] - 3s 3ms/step - loss: 0.1772 - accuracy: 0.9490\n",
            "Epoch 9/20\n",
            "1125/1125 [==============================] - 3s 3ms/step - loss: 0.1644 - accuracy: 0.9530\n",
            "Epoch 10/20\n",
            "1125/1125 [==============================] - 3s 3ms/step - loss: 0.1535 - accuracy: 0.9556\n",
            "Epoch 11/20\n",
            "1125/1125 [==============================] - 3s 3ms/step - loss: 0.1441 - accuracy: 0.9588\n",
            "Epoch 12/20\n",
            "1125/1125 [==============================] - 3s 3ms/step - loss: 0.1357 - accuracy: 0.9614\n",
            "Epoch 13/20\n",
            "1125/1125 [==============================] - 4s 3ms/step - loss: 0.1271 - accuracy: 0.9628\n",
            "Epoch 14/20\n",
            "1125/1125 [==============================] - 3s 3ms/step - loss: 0.1206 - accuracy: 0.9657\n",
            "Epoch 15/20\n",
            "1125/1125 [==============================] - 3s 3ms/step - loss: 0.1145 - accuracy: 0.9671\n",
            "Epoch 16/20\n",
            "1125/1125 [==============================] - 3s 3ms/step - loss: 0.1086 - accuracy: 0.9684\n",
            "Epoch 17/20\n",
            "1125/1125 [==============================] - 3s 3ms/step - loss: 0.1035 - accuracy: 0.9706\n",
            "Epoch 18/20\n",
            "1125/1125 [==============================] - 3s 3ms/step - loss: 0.0977 - accuracy: 0.9716\n",
            "Epoch 19/20\n",
            "1125/1125 [==============================] - 3s 3ms/step - loss: 0.0931 - accuracy: 0.9734\n",
            "Epoch 20/20\n",
            "1125/1125 [==============================] - 3s 3ms/step - loss: 0.0887 - accuracy: 0.9746\n",
            "563/563 [==============================] - 1s 2ms/step\n",
            "[CV] END activation_function=tanh, n_hidden_neurons=100, optimizer__lr=0.01; total time= 1.2min\n"
          ]
        },
        {
          "name": "stderr",
          "output_type": "stream",
          "text": [
            "/usr/local/lib/python3.7/dist-packages/keras/optimizer_v2/gradient_descent.py:102: UserWarning: The `lr` argument is deprecated, use `learning_rate` instead.\n",
            "  super(SGD, self).__init__(name, **kwargs)\n"
          ]
        },
        {
          "name": "stdout",
          "output_type": "stream",
          "text": [
            "Epoch 1/20\n",
            "1125/1125 [==============================] - 4s 3ms/step - loss: 0.8660 - accuracy: 0.7663\n",
            "Epoch 2/20\n",
            "1125/1125 [==============================] - 3s 3ms/step - loss: 0.3658 - accuracy: 0.8969\n",
            "Epoch 3/20\n",
            "1125/1125 [==============================] - 4s 3ms/step - loss: 0.3044 - accuracy: 0.9139\n",
            "Epoch 4/20\n",
            "1125/1125 [==============================] - 4s 3ms/step - loss: 0.2702 - accuracy: 0.9234\n",
            "Epoch 5/20\n",
            "1125/1125 [==============================] - 3s 3ms/step - loss: 0.2445 - accuracy: 0.9302\n",
            "Epoch 6/20\n",
            "1125/1125 [==============================] - 3s 3ms/step - loss: 0.2241 - accuracy: 0.9356\n",
            "Epoch 7/20\n",
            "1125/1125 [==============================] - 3s 3ms/step - loss: 0.2061 - accuracy: 0.9404\n",
            "Epoch 8/20\n",
            "1125/1125 [==============================] - 3s 3ms/step - loss: 0.1915 - accuracy: 0.9453\n",
            "Epoch 9/20\n",
            "1125/1125 [==============================] - 3s 3ms/step - loss: 0.1784 - accuracy: 0.9489\n",
            "Epoch 10/20\n",
            "1125/1125 [==============================] - 3s 3ms/step - loss: 0.1664 - accuracy: 0.9531\n",
            "Epoch 11/20\n",
            "1125/1125 [==============================] - 4s 3ms/step - loss: 0.1563 - accuracy: 0.9556\n",
            "Epoch 12/20\n",
            "1125/1125 [==============================] - 3s 3ms/step - loss: 0.1471 - accuracy: 0.9580\n",
            "Epoch 13/20\n",
            "1125/1125 [==============================] - 3s 3ms/step - loss: 0.1380 - accuracy: 0.9611\n",
            "Epoch 14/20\n",
            "1125/1125 [==============================] - 3s 3ms/step - loss: 0.1309 - accuracy: 0.9635\n",
            "Epoch 15/20\n",
            "1125/1125 [==============================] - 3s 3ms/step - loss: 0.1239 - accuracy: 0.9654\n",
            "Epoch 16/20\n",
            "1125/1125 [==============================] - 3s 3ms/step - loss: 0.1174 - accuracy: 0.9670\n",
            "Epoch 17/20\n",
            "1125/1125 [==============================] - 3s 3ms/step - loss: 0.1112 - accuracy: 0.9691\n",
            "Epoch 18/20\n",
            "1125/1125 [==============================] - 3s 3ms/step - loss: 0.1055 - accuracy: 0.9708\n",
            "Epoch 19/20\n",
            "1125/1125 [==============================] - 3s 3ms/step - loss: 0.1006 - accuracy: 0.9723\n",
            "Epoch 20/20\n",
            "1125/1125 [==============================] - 4s 4ms/step - loss: 0.0958 - accuracy: 0.9734\n",
            "563/563 [==============================] - 1s 2ms/step\n",
            "[CV] END activation_function=tanh, n_hidden_neurons=100, optimizer__lr=0.01; total time= 1.2min\n"
          ]
        },
        {
          "name": "stderr",
          "output_type": "stream",
          "text": [
            "/usr/local/lib/python3.7/dist-packages/keras/optimizer_v2/gradient_descent.py:102: UserWarning: The `lr` argument is deprecated, use `learning_rate` instead.\n",
            "  super(SGD, self).__init__(name, **kwargs)\n"
          ]
        },
        {
          "name": "stdout",
          "output_type": "stream",
          "text": [
            "Epoch 1/20\n",
            "1125/1125 [==============================] - 4s 3ms/step - loss: 2.1536 - accuracy: 0.3133\n",
            "Epoch 2/20\n",
            "1125/1125 [==============================] - 4s 3ms/step - loss: 1.6612 - accuracy: 0.6090\n",
            "Epoch 3/20\n",
            "1125/1125 [==============================] - 4s 3ms/step - loss: 1.1511 - accuracy: 0.7270\n",
            "Epoch 4/20\n",
            "1125/1125 [==============================] - 4s 3ms/step - loss: 0.8537 - accuracy: 0.7877\n",
            "Epoch 5/20\n",
            "1125/1125 [==============================] - 3s 3ms/step - loss: 0.6926 - accuracy: 0.8269\n",
            "Epoch 6/20\n",
            "1125/1125 [==============================] - 3s 3ms/step - loss: 0.5947 - accuracy: 0.8487\n",
            "Epoch 7/20\n",
            "1125/1125 [==============================] - 3s 3ms/step - loss: 0.5305 - accuracy: 0.8631\n",
            "Epoch 8/20\n",
            "1125/1125 [==============================] - 3s 3ms/step - loss: 0.4856 - accuracy: 0.8732\n",
            "Epoch 9/20\n",
            "1125/1125 [==============================] - 3s 3ms/step - loss: 0.4531 - accuracy: 0.8792\n",
            "Epoch 10/20\n",
            "1125/1125 [==============================] - 3s 3ms/step - loss: 0.4281 - accuracy: 0.8845\n",
            "Epoch 11/20\n",
            "1125/1125 [==============================] - 3s 3ms/step - loss: 0.4086 - accuracy: 0.8890\n",
            "Epoch 12/20\n",
            "1125/1125 [==============================] - 3s 3ms/step - loss: 0.3927 - accuracy: 0.8920\n",
            "Epoch 13/20\n",
            "1125/1125 [==============================] - 3s 3ms/step - loss: 0.3795 - accuracy: 0.8955\n",
            "Epoch 14/20\n",
            "1125/1125 [==============================] - 3s 3ms/step - loss: 0.3682 - accuracy: 0.8973\n",
            "Epoch 15/20\n",
            "1125/1125 [==============================] - 3s 3ms/step - loss: 0.3584 - accuracy: 0.8992\n",
            "Epoch 16/20\n",
            "1125/1125 [==============================] - 3s 3ms/step - loss: 0.3495 - accuracy: 0.9019\n",
            "Epoch 17/20\n",
            "1125/1125 [==============================] - 3s 3ms/step - loss: 0.3416 - accuracy: 0.9037\n",
            "Epoch 18/20\n",
            "1125/1125 [==============================] - 3s 3ms/step - loss: 0.3343 - accuracy: 0.9053\n",
            "Epoch 19/20\n",
            "1125/1125 [==============================] - 3s 3ms/step - loss: 0.3277 - accuracy: 0.9071\n",
            "Epoch 20/20\n",
            "1125/1125 [==============================] - 3s 3ms/step - loss: 0.3217 - accuracy: 0.9084\n",
            "563/563 [==============================] - 1s 2ms/step\n",
            "[CV] END activation_function=tanh, n_hidden_neurons=100, optimizer__lr=0.001; total time= 1.2min\n"
          ]
        },
        {
          "name": "stderr",
          "output_type": "stream",
          "text": [
            "/usr/local/lib/python3.7/dist-packages/keras/optimizer_v2/gradient_descent.py:102: UserWarning: The `lr` argument is deprecated, use `learning_rate` instead.\n",
            "  super(SGD, self).__init__(name, **kwargs)\n"
          ]
        },
        {
          "name": "stdout",
          "output_type": "stream",
          "text": [
            "Epoch 1/20\n",
            "1125/1125 [==============================] - 4s 3ms/step - loss: 2.0351 - accuracy: 0.3598\n",
            "Epoch 2/20\n",
            "1125/1125 [==============================] - 3s 3ms/step - loss: 1.4311 - accuracy: 0.7038\n",
            "Epoch 3/20\n",
            "1125/1125 [==============================] - 3s 3ms/step - loss: 0.9461 - accuracy: 0.7988\n",
            "Epoch 4/20\n",
            "1125/1125 [==============================] - 3s 3ms/step - loss: 0.7090 - accuracy: 0.8331\n",
            "Epoch 5/20\n",
            "1125/1125 [==============================] - 3s 3ms/step - loss: 0.5908 - accuracy: 0.8511\n",
            "Epoch 6/20\n",
            "1125/1125 [==============================] - 3s 3ms/step - loss: 0.5211 - accuracy: 0.8645\n",
            "Epoch 7/20\n",
            "1125/1125 [==============================] - 3s 3ms/step - loss: 0.4749 - accuracy: 0.8731\n",
            "Epoch 8/20\n",
            "1125/1125 [==============================] - 3s 3ms/step - loss: 0.4418 - accuracy: 0.8807\n",
            "Epoch 9/20\n",
            "1125/1125 [==============================] - 3s 3ms/step - loss: 0.4169 - accuracy: 0.8859\n",
            "Epoch 10/20\n",
            "1125/1125 [==============================] - 3s 3ms/step - loss: 0.3973 - accuracy: 0.8894\n",
            "Epoch 11/20\n",
            "1125/1125 [==============================] - 3s 3ms/step - loss: 0.3813 - accuracy: 0.8928\n",
            "Epoch 12/20\n",
            "1125/1125 [==============================] - 3s 3ms/step - loss: 0.3680 - accuracy: 0.8963\n",
            "Epoch 13/20\n",
            "1125/1125 [==============================] - 3s 3ms/step - loss: 0.3565 - accuracy: 0.8990\n",
            "Epoch 14/20\n",
            "1125/1125 [==============================] - 3s 3ms/step - loss: 0.3467 - accuracy: 0.9012\n",
            "Epoch 15/20\n",
            "1125/1125 [==============================] - 3s 3ms/step - loss: 0.3381 - accuracy: 0.9036\n",
            "Epoch 16/20\n",
            "1125/1125 [==============================] - 3s 3ms/step - loss: 0.3300 - accuracy: 0.9055\n",
            "Epoch 17/20\n",
            "1125/1125 [==============================] - 3s 3ms/step - loss: 0.3230 - accuracy: 0.9064\n",
            "Epoch 18/20\n",
            "1125/1125 [==============================] - 3s 3ms/step - loss: 0.3165 - accuracy: 0.9085\n",
            "Epoch 19/20\n",
            "1125/1125 [==============================] - 3s 3ms/step - loss: 0.3103 - accuracy: 0.9101\n",
            "Epoch 20/20\n",
            "1125/1125 [==============================] - 3s 3ms/step - loss: 0.3049 - accuracy: 0.9109\n",
            "563/563 [==============================] - 1s 2ms/step\n",
            "[CV] END activation_function=tanh, n_hidden_neurons=100, optimizer__lr=0.001; total time= 1.2min\n"
          ]
        },
        {
          "name": "stderr",
          "output_type": "stream",
          "text": [
            "/usr/local/lib/python3.7/dist-packages/keras/optimizer_v2/gradient_descent.py:102: UserWarning: The `lr` argument is deprecated, use `learning_rate` instead.\n",
            "  super(SGD, self).__init__(name, **kwargs)\n"
          ]
        },
        {
          "name": "stdout",
          "output_type": "stream",
          "text": [
            "Epoch 1/20\n",
            "1125/1125 [==============================] - 4s 3ms/step - loss: 2.0657 - accuracy: 0.3432\n",
            "Epoch 2/20\n",
            "1125/1125 [==============================] - 3s 3ms/step - loss: 1.4962 - accuracy: 0.6765\n",
            "Epoch 3/20\n",
            "1125/1125 [==============================] - 3s 3ms/step - loss: 1.0052 - accuracy: 0.7897\n",
            "Epoch 4/20\n",
            "1125/1125 [==============================] - 3s 3ms/step - loss: 0.7398 - accuracy: 0.8313\n",
            "Epoch 5/20\n",
            "1125/1125 [==============================] - 3s 3ms/step - loss: 0.6072 - accuracy: 0.8520\n",
            "Epoch 6/20\n",
            "1125/1125 [==============================] - 3s 3ms/step - loss: 0.5321 - accuracy: 0.8631\n",
            "Epoch 7/20\n",
            "1125/1125 [==============================] - 3s 3ms/step - loss: 0.4841 - accuracy: 0.8728\n",
            "Epoch 8/20\n",
            "1125/1125 [==============================] - 3s 3ms/step - loss: 0.4504 - accuracy: 0.8794\n",
            "Epoch 9/20\n",
            "1125/1125 [==============================] - 3s 3ms/step - loss: 0.4254 - accuracy: 0.8857\n",
            "Epoch 10/20\n",
            "1125/1125 [==============================] - 3s 3ms/step - loss: 0.4057 - accuracy: 0.8898\n",
            "Epoch 11/20\n",
            "1125/1125 [==============================] - 3s 3ms/step - loss: 0.3898 - accuracy: 0.8936\n",
            "Epoch 12/20\n",
            "1125/1125 [==============================] - 3s 3ms/step - loss: 0.3766 - accuracy: 0.8954\n",
            "Epoch 13/20\n",
            "1125/1125 [==============================] - 3s 3ms/step - loss: 0.3654 - accuracy: 0.8987\n",
            "Epoch 14/20\n",
            "1125/1125 [==============================] - 4s 3ms/step - loss: 0.3558 - accuracy: 0.9006\n",
            "Epoch 15/20\n",
            "1125/1125 [==============================] - 3s 3ms/step - loss: 0.3474 - accuracy: 0.9030\n",
            "Epoch 16/20\n",
            "1125/1125 [==============================] - 4s 3ms/step - loss: 0.3398 - accuracy: 0.9049\n",
            "Epoch 17/20\n",
            "1125/1125 [==============================] - 3s 3ms/step - loss: 0.3332 - accuracy: 0.9059\n",
            "Epoch 18/20\n",
            "1125/1125 [==============================] - 3s 3ms/step - loss: 0.3268 - accuracy: 0.9083\n",
            "Epoch 19/20\n",
            "1125/1125 [==============================] - 3s 3ms/step - loss: 0.3212 - accuracy: 0.9090\n",
            "Epoch 20/20\n",
            "1125/1125 [==============================] - 3s 3ms/step - loss: 0.3161 - accuracy: 0.9103\n",
            "563/563 [==============================] - 1s 2ms/step\n",
            "[CV] END activation_function=tanh, n_hidden_neurons=100, optimizer__lr=0.001; total time= 1.4min\n"
          ]
        },
        {
          "name": "stderr",
          "output_type": "stream",
          "text": [
            "/usr/local/lib/python3.7/dist-packages/keras/optimizer_v2/gradient_descent.py:102: UserWarning: The `lr` argument is deprecated, use `learning_rate` instead.\n",
            "  super(SGD, self).__init__(name, **kwargs)\n"
          ]
        },
        {
          "name": "stdout",
          "output_type": "stream",
          "text": [
            "Epoch 1/20\n",
            "1125/1125 [==============================] - 4s 3ms/step - loss: 0.3359 - accuracy: 0.9003\n",
            "Epoch 2/20\n",
            "1125/1125 [==============================] - 3s 3ms/step - loss: 0.1410 - accuracy: 0.9579\n",
            "Epoch 3/20\n",
            "1125/1125 [==============================] - 3s 3ms/step - loss: 0.0975 - accuracy: 0.9706\n",
            "Epoch 4/20\n",
            "1125/1125 [==============================] - 3s 3ms/step - loss: 0.0717 - accuracy: 0.9783\n",
            "Epoch 5/20\n",
            "1125/1125 [==============================] - 3s 3ms/step - loss: 0.0545 - accuracy: 0.9836\n",
            "Epoch 6/20\n",
            "1125/1125 [==============================] - 4s 3ms/step - loss: 0.0408 - accuracy: 0.9876\n",
            "Epoch 7/20\n",
            "1125/1125 [==============================] - 3s 3ms/step - loss: 0.0303 - accuracy: 0.9910\n",
            "Epoch 8/20\n",
            "1125/1125 [==============================] - 3s 3ms/step - loss: 0.0238 - accuracy: 0.9926\n",
            "Epoch 9/20\n",
            "1125/1125 [==============================] - 3s 3ms/step - loss: 0.0167 - accuracy: 0.9956\n",
            "Epoch 10/20\n",
            "1125/1125 [==============================] - 3s 3ms/step - loss: 0.0118 - accuracy: 0.9974\n",
            "Epoch 11/20\n",
            "1125/1125 [==============================] - 3s 3ms/step - loss: 0.0086 - accuracy: 0.9983\n",
            "Epoch 12/20\n",
            "1125/1125 [==============================] - 3s 3ms/step - loss: 0.0069 - accuracy: 0.9985\n",
            "Epoch 13/20\n",
            "1125/1125 [==============================] - 3s 3ms/step - loss: 0.0041 - accuracy: 0.9997\n",
            "Epoch 14/20\n",
            "1125/1125 [==============================] - 4s 3ms/step - loss: 0.0031 - accuracy: 0.9997\n",
            "Epoch 15/20\n",
            "1125/1125 [==============================] - 3s 3ms/step - loss: 0.0020 - accuracy: 0.9999\n",
            "Epoch 16/20\n",
            "1125/1125 [==============================] - 3s 3ms/step - loss: 0.0016 - accuracy: 0.9999\n",
            "Epoch 17/20\n",
            "1125/1125 [==============================] - 3s 3ms/step - loss: 0.0014 - accuracy: 1.0000\n",
            "Epoch 18/20\n",
            "1125/1125 [==============================] - 3s 3ms/step - loss: 0.0012 - accuracy: 1.0000\n",
            "Epoch 19/20\n",
            "1125/1125 [==============================] - 3s 3ms/step - loss: 0.0010 - accuracy: 1.0000\n",
            "Epoch 20/20\n",
            "1125/1125 [==============================] - 4s 3ms/step - loss: 9.1202e-04 - accuracy: 1.0000\n",
            "563/563 [==============================] - 1s 2ms/step\n",
            "[CV] END activation_function=tanh, n_hidden_neurons=200, optimizer__lr=0.1; total time= 1.4min\n"
          ]
        },
        {
          "name": "stderr",
          "output_type": "stream",
          "text": [
            "/usr/local/lib/python3.7/dist-packages/keras/optimizer_v2/gradient_descent.py:102: UserWarning: The `lr` argument is deprecated, use `learning_rate` instead.\n",
            "  super(SGD, self).__init__(name, **kwargs)\n"
          ]
        },
        {
          "name": "stdout",
          "output_type": "stream",
          "text": [
            "Epoch 1/20\n",
            "1125/1125 [==============================] - 4s 3ms/step - loss: 0.3335 - accuracy: 0.9004\n",
            "Epoch 2/20\n",
            "1125/1125 [==============================] - 4s 3ms/step - loss: 0.1392 - accuracy: 0.9570\n",
            "Epoch 3/20\n",
            "1125/1125 [==============================] - 4s 3ms/step - loss: 0.0951 - accuracy: 0.9704\n",
            "Epoch 4/20\n",
            "1125/1125 [==============================] - 3s 3ms/step - loss: 0.0702 - accuracy: 0.9782\n",
            "Epoch 5/20\n",
            "1125/1125 [==============================] - 3s 3ms/step - loss: 0.0528 - accuracy: 0.9830\n",
            "Epoch 6/20\n",
            "1125/1125 [==============================] - 3s 3ms/step - loss: 0.0397 - accuracy: 0.9872\n",
            "Epoch 7/20\n",
            "1125/1125 [==============================] - 3s 3ms/step - loss: 0.0296 - accuracy: 0.9908\n",
            "Epoch 8/20\n",
            "1125/1125 [==============================] - 3s 3ms/step - loss: 0.0223 - accuracy: 0.9939\n",
            "Epoch 9/20\n",
            "1125/1125 [==============================] - 3s 3ms/step - loss: 0.0167 - accuracy: 0.9953\n",
            "Epoch 10/20\n",
            "1125/1125 [==============================] - 3s 3ms/step - loss: 0.0113 - accuracy: 0.9976\n",
            "Epoch 11/20\n",
            "1125/1125 [==============================] - 4s 3ms/step - loss: 0.0083 - accuracy: 0.9983\n",
            "Epoch 12/20\n",
            "1125/1125 [==============================] - 3s 3ms/step - loss: 0.0057 - accuracy: 0.9991\n",
            "Epoch 13/20\n",
            "1125/1125 [==============================] - 4s 3ms/step - loss: 0.0033 - accuracy: 0.9998\n",
            "Epoch 14/20\n",
            "1125/1125 [==============================] - 4s 3ms/step - loss: 0.0024 - accuracy: 0.9999\n",
            "Epoch 15/20\n",
            "1125/1125 [==============================] - 3s 3ms/step - loss: 0.0019 - accuracy: 1.0000\n",
            "Epoch 16/20\n",
            "1125/1125 [==============================] - 3s 3ms/step - loss: 0.0015 - accuracy: 1.0000\n",
            "Epoch 17/20\n",
            "1125/1125 [==============================] - 3s 3ms/step - loss: 0.0012 - accuracy: 1.0000\n",
            "Epoch 18/20\n",
            "1125/1125 [==============================] - 3s 3ms/step - loss: 0.0011 - accuracy: 1.0000\n",
            "Epoch 19/20\n",
            "1125/1125 [==============================] - 3s 3ms/step - loss: 9.5723e-04 - accuracy: 1.0000\n",
            "Epoch 20/20\n",
            "1125/1125 [==============================] - 3s 3ms/step - loss: 8.7416e-04 - accuracy: 1.0000\n",
            "563/563 [==============================] - 1s 2ms/step\n",
            "[CV] END activation_function=tanh, n_hidden_neurons=200, optimizer__lr=0.1; total time= 1.2min\n"
          ]
        },
        {
          "name": "stderr",
          "output_type": "stream",
          "text": [
            "/usr/local/lib/python3.7/dist-packages/keras/optimizer_v2/gradient_descent.py:102: UserWarning: The `lr` argument is deprecated, use `learning_rate` instead.\n",
            "  super(SGD, self).__init__(name, **kwargs)\n"
          ]
        },
        {
          "name": "stdout",
          "output_type": "stream",
          "text": [
            "Epoch 1/20\n",
            "1125/1125 [==============================] - 4s 3ms/step - loss: 0.3278 - accuracy: 0.9024\n",
            "Epoch 2/20\n",
            "1125/1125 [==============================] - 3s 3ms/step - loss: 0.1420 - accuracy: 0.9574\n",
            "Epoch 3/20\n",
            "1125/1125 [==============================] - 4s 3ms/step - loss: 0.0965 - accuracy: 0.9706\n",
            "Epoch 4/20\n",
            "1125/1125 [==============================] - 4s 3ms/step - loss: 0.0729 - accuracy: 0.9785\n",
            "Epoch 5/20\n",
            "1125/1125 [==============================] - 3s 3ms/step - loss: 0.0527 - accuracy: 0.9841\n",
            "Epoch 6/20\n",
            "1125/1125 [==============================] - 3s 3ms/step - loss: 0.0412 - accuracy: 0.9880\n",
            "Epoch 7/20\n",
            "1125/1125 [==============================] - 3s 3ms/step - loss: 0.0314 - accuracy: 0.9911\n",
            "Epoch 8/20\n",
            "1125/1125 [==============================] - 3s 3ms/step - loss: 0.0228 - accuracy: 0.9942\n",
            "Epoch 9/20\n",
            "1125/1125 [==============================] - 4s 3ms/step - loss: 0.0168 - accuracy: 0.9956\n",
            "Epoch 10/20\n",
            "1125/1125 [==============================] - 4s 3ms/step - loss: 0.0123 - accuracy: 0.9973\n",
            "Epoch 11/20\n",
            "1125/1125 [==============================] - 3s 3ms/step - loss: 0.0087 - accuracy: 0.9984\n",
            "Epoch 12/20\n",
            "1125/1125 [==============================] - 4s 3ms/step - loss: 0.0061 - accuracy: 0.9990\n",
            "Epoch 13/20\n",
            "1125/1125 [==============================] - 3s 3ms/step - loss: 0.0044 - accuracy: 0.9996\n",
            "Epoch 14/20\n",
            "1125/1125 [==============================] - 3s 3ms/step - loss: 0.0027 - accuracy: 0.9999\n",
            "Epoch 15/20\n",
            "1125/1125 [==============================] - 3s 3ms/step - loss: 0.0020 - accuracy: 1.0000\n",
            "Epoch 16/20\n",
            "1125/1125 [==============================] - 3s 3ms/step - loss: 0.0016 - accuracy: 1.0000\n",
            "Epoch 17/20\n",
            "1125/1125 [==============================] - 3s 3ms/step - loss: 0.0013 - accuracy: 1.0000\n",
            "Epoch 18/20\n",
            "1125/1125 [==============================] - 3s 3ms/step - loss: 0.0011 - accuracy: 1.0000\n",
            "Epoch 19/20\n",
            "1125/1125 [==============================] - 3s 3ms/step - loss: 9.9272e-04 - accuracy: 1.0000\n",
            "Epoch 20/20\n",
            "1125/1125 [==============================] - 4s 3ms/step - loss: 9.1685e-04 - accuracy: 1.0000\n",
            "563/563 [==============================] - 1s 2ms/step\n",
            "[CV] END activation_function=tanh, n_hidden_neurons=200, optimizer__lr=0.1; total time= 1.2min\n"
          ]
        },
        {
          "name": "stderr",
          "output_type": "stream",
          "text": [
            "/usr/local/lib/python3.7/dist-packages/keras/optimizer_v2/gradient_descent.py:102: UserWarning: The `lr` argument is deprecated, use `learning_rate` instead.\n",
            "  super(SGD, self).__init__(name, **kwargs)\n"
          ]
        },
        {
          "name": "stdout",
          "output_type": "stream",
          "text": [
            "Epoch 1/20\n",
            "1125/1125 [==============================] - 4s 3ms/step - loss: 0.7877 - accuracy: 0.7991\n",
            "Epoch 2/20\n",
            "1125/1125 [==============================] - 3s 3ms/step - loss: 0.3439 - accuracy: 0.9030\n",
            "Epoch 3/20\n",
            "1125/1125 [==============================] - 3s 3ms/step - loss: 0.2876 - accuracy: 0.9172\n",
            "Epoch 4/20\n",
            "1125/1125 [==============================] - 3s 3ms/step - loss: 0.2523 - accuracy: 0.9282\n",
            "Epoch 5/20\n",
            "1125/1125 [==============================] - 3s 3ms/step - loss: 0.2262 - accuracy: 0.9365\n",
            "Epoch 6/20\n",
            "1125/1125 [==============================] - 3s 3ms/step - loss: 0.2048 - accuracy: 0.9419\n",
            "Epoch 7/20\n",
            "1125/1125 [==============================] - 3s 3ms/step - loss: 0.1872 - accuracy: 0.9464\n",
            "Epoch 8/20\n",
            "1125/1125 [==============================] - 3s 3ms/step - loss: 0.1716 - accuracy: 0.9514\n",
            "Epoch 9/20\n",
            "1125/1125 [==============================] - 4s 3ms/step - loss: 0.1588 - accuracy: 0.9554\n",
            "Epoch 10/20\n",
            "1125/1125 [==============================] - 3s 3ms/step - loss: 0.1474 - accuracy: 0.9586\n",
            "Epoch 11/20\n",
            "1125/1125 [==============================] - 3s 3ms/step - loss: 0.1371 - accuracy: 0.9611\n",
            "Epoch 12/20\n",
            "1125/1125 [==============================] - 3s 3ms/step - loss: 0.1281 - accuracy: 0.9639\n",
            "Epoch 13/20\n",
            "1125/1125 [==============================] - 3s 3ms/step - loss: 0.1201 - accuracy: 0.9660\n",
            "Epoch 14/20\n",
            "1125/1125 [==============================] - 4s 3ms/step - loss: 0.1129 - accuracy: 0.9688\n",
            "Epoch 15/20\n",
            "1125/1125 [==============================] - 4s 3ms/step - loss: 0.1062 - accuracy: 0.9712\n",
            "Epoch 16/20\n",
            "1125/1125 [==============================] - 4s 3ms/step - loss: 0.1000 - accuracy: 0.9725\n",
            "Epoch 17/20\n",
            "1125/1125 [==============================] - 3s 3ms/step - loss: 0.0942 - accuracy: 0.9743\n",
            "Epoch 18/20\n",
            "1125/1125 [==============================] - 3s 3ms/step - loss: 0.0884 - accuracy: 0.9763\n",
            "Epoch 19/20\n",
            "1125/1125 [==============================] - 4s 3ms/step - loss: 0.0840 - accuracy: 0.9769\n",
            "Epoch 20/20\n",
            "1125/1125 [==============================] - 4s 3ms/step - loss: 0.0796 - accuracy: 0.9787\n",
            "563/563 [==============================] - 1s 2ms/step\n",
            "[CV] END activation_function=tanh, n_hidden_neurons=200, optimizer__lr=0.01; total time= 1.2min\n"
          ]
        },
        {
          "name": "stderr",
          "output_type": "stream",
          "text": [
            "/usr/local/lib/python3.7/dist-packages/keras/optimizer_v2/gradient_descent.py:102: UserWarning: The `lr` argument is deprecated, use `learning_rate` instead.\n",
            "  super(SGD, self).__init__(name, **kwargs)\n"
          ]
        },
        {
          "name": "stdout",
          "output_type": "stream",
          "text": [
            "Epoch 1/20\n",
            "1125/1125 [==============================] - 4s 3ms/step - loss: 0.7820 - accuracy: 0.7987\n",
            "Epoch 2/20\n",
            "1125/1125 [==============================] - 4s 3ms/step - loss: 0.3429 - accuracy: 0.9023\n",
            "Epoch 3/20\n",
            "1125/1125 [==============================] - 3s 3ms/step - loss: 0.2879 - accuracy: 0.9169\n",
            "Epoch 4/20\n",
            "1125/1125 [==============================] - 3s 3ms/step - loss: 0.2541 - accuracy: 0.9267\n",
            "Epoch 5/20\n",
            "1125/1125 [==============================] - 3s 3ms/step - loss: 0.2282 - accuracy: 0.9349\n",
            "Epoch 6/20\n",
            "1125/1125 [==============================] - 3s 3ms/step - loss: 0.2072 - accuracy: 0.9405\n",
            "Epoch 7/20\n",
            "1125/1125 [==============================] - 4s 3ms/step - loss: 0.1887 - accuracy: 0.9445\n",
            "Epoch 8/20\n",
            "1125/1125 [==============================] - 3s 3ms/step - loss: 0.1744 - accuracy: 0.9491\n",
            "Epoch 9/20\n",
            "1125/1125 [==============================] - 3s 3ms/step - loss: 0.1612 - accuracy: 0.9538\n",
            "Epoch 10/20\n",
            "1125/1125 [==============================] - 3s 3ms/step - loss: 0.1497 - accuracy: 0.9564\n",
            "Epoch 11/20\n",
            "1125/1125 [==============================] - 3s 3ms/step - loss: 0.1397 - accuracy: 0.9593\n",
            "Epoch 12/20\n",
            "1125/1125 [==============================] - 4s 3ms/step - loss: 0.1308 - accuracy: 0.9622\n",
            "Epoch 13/20\n",
            "1125/1125 [==============================] - 3s 3ms/step - loss: 0.1219 - accuracy: 0.9647\n",
            "Epoch 14/20\n",
            "1125/1125 [==============================] - 3s 3ms/step - loss: 0.1148 - accuracy: 0.9668\n",
            "Epoch 15/20\n",
            "1125/1125 [==============================] - 4s 3ms/step - loss: 0.1079 - accuracy: 0.9693\n",
            "Epoch 16/20\n",
            "1125/1125 [==============================] - 3s 3ms/step - loss: 0.1015 - accuracy: 0.9711\n",
            "Epoch 17/20\n",
            "1125/1125 [==============================] - 3s 3ms/step - loss: 0.0962 - accuracy: 0.9726\n",
            "Epoch 18/20\n",
            "1125/1125 [==============================] - 3s 3ms/step - loss: 0.0902 - accuracy: 0.9743\n",
            "Epoch 19/20\n",
            "1125/1125 [==============================] - 4s 3ms/step - loss: 0.0854 - accuracy: 0.9756\n",
            "Epoch 20/20\n",
            "1125/1125 [==============================] - 3s 3ms/step - loss: 0.0809 - accuracy: 0.9769\n",
            "563/563 [==============================] - 1s 2ms/step\n",
            "[CV] END activation_function=tanh, n_hidden_neurons=200, optimizer__lr=0.01; total time= 1.2min\n"
          ]
        },
        {
          "name": "stderr",
          "output_type": "stream",
          "text": [
            "/usr/local/lib/python3.7/dist-packages/keras/optimizer_v2/gradient_descent.py:102: UserWarning: The `lr` argument is deprecated, use `learning_rate` instead.\n",
            "  super(SGD, self).__init__(name, **kwargs)\n"
          ]
        },
        {
          "name": "stdout",
          "output_type": "stream",
          "text": [
            "Epoch 1/20\n",
            "1125/1125 [==============================] - 4s 3ms/step - loss: 0.8276 - accuracy: 0.7922\n",
            "Epoch 2/20\n",
            "1125/1125 [==============================] - 3s 3ms/step - loss: 0.3417 - accuracy: 0.9033\n",
            "Epoch 3/20\n",
            "1125/1125 [==============================] - 3s 3ms/step - loss: 0.2832 - accuracy: 0.9194\n",
            "Epoch 4/20\n",
            "1125/1125 [==============================] - 3s 3ms/step - loss: 0.2487 - accuracy: 0.9298\n",
            "Epoch 5/20\n",
            "1125/1125 [==============================] - 3s 3ms/step - loss: 0.2228 - accuracy: 0.9384\n",
            "Epoch 6/20\n",
            "1125/1125 [==============================] - 4s 3ms/step - loss: 0.2025 - accuracy: 0.9425\n",
            "Epoch 7/20\n",
            "1125/1125 [==============================] - 4s 3ms/step - loss: 0.1849 - accuracy: 0.9484\n",
            "Epoch 8/20\n",
            "1125/1125 [==============================] - 3s 3ms/step - loss: 0.1709 - accuracy: 0.9525\n",
            "Epoch 9/20\n",
            "1125/1125 [==============================] - 3s 3ms/step - loss: 0.1582 - accuracy: 0.9559\n",
            "Epoch 10/20\n",
            "1125/1125 [==============================] - 3s 3ms/step - loss: 0.1467 - accuracy: 0.9598\n",
            "Epoch 11/20\n",
            "1125/1125 [==============================] - 3s 3ms/step - loss: 0.1370 - accuracy: 0.9621\n",
            "Epoch 12/20\n",
            "1125/1125 [==============================] - 3s 3ms/step - loss: 0.1285 - accuracy: 0.9643\n",
            "Epoch 13/20\n",
            "1125/1125 [==============================] - 3s 3ms/step - loss: 0.1197 - accuracy: 0.9673\n",
            "Epoch 14/20\n",
            "1125/1125 [==============================] - 3s 3ms/step - loss: 0.1126 - accuracy: 0.9696\n",
            "Epoch 15/20\n",
            "1125/1125 [==============================] - 4s 3ms/step - loss: 0.1060 - accuracy: 0.9707\n",
            "Epoch 16/20\n",
            "1125/1125 [==============================] - 4s 3ms/step - loss: 0.0997 - accuracy: 0.9725\n",
            "Epoch 17/20\n",
            "1125/1125 [==============================] - 4s 3ms/step - loss: 0.0937 - accuracy: 0.9749\n",
            "Epoch 18/20\n",
            "1125/1125 [==============================] - 3s 3ms/step - loss: 0.0886 - accuracy: 0.9767\n",
            "Epoch 19/20\n",
            "1125/1125 [==============================] - 3s 3ms/step - loss: 0.0835 - accuracy: 0.9781\n",
            "Epoch 20/20\n",
            "1125/1125 [==============================] - 3s 3ms/step - loss: 0.0789 - accuracy: 0.9787\n",
            "563/563 [==============================] - 1s 2ms/step\n",
            "[CV] END activation_function=tanh, n_hidden_neurons=200, optimizer__lr=0.01; total time= 1.4min\n"
          ]
        },
        {
          "name": "stderr",
          "output_type": "stream",
          "text": [
            "/usr/local/lib/python3.7/dist-packages/keras/optimizer_v2/gradient_descent.py:102: UserWarning: The `lr` argument is deprecated, use `learning_rate` instead.\n",
            "  super(SGD, self).__init__(name, **kwargs)\n"
          ]
        },
        {
          "name": "stdout",
          "output_type": "stream",
          "text": [
            "Epoch 1/20\n",
            "1125/1125 [==============================] - 4s 3ms/step - loss: 2.0701 - accuracy: 0.4096\n",
            "Epoch 2/20\n",
            "1125/1125 [==============================] - 3s 3ms/step - loss: 1.4446 - accuracy: 0.7071\n",
            "Epoch 3/20\n",
            "1125/1125 [==============================] - 3s 3ms/step - loss: 0.9473 - accuracy: 0.7908\n",
            "Epoch 4/20\n",
            "1125/1125 [==============================] - 3s 3ms/step - loss: 0.7097 - accuracy: 0.8306\n",
            "Epoch 5/20\n",
            "1125/1125 [==============================] - 3s 3ms/step - loss: 0.5906 - accuracy: 0.8522\n",
            "Epoch 6/20\n",
            "1125/1125 [==============================] - 3s 3ms/step - loss: 0.5202 - accuracy: 0.8650\n",
            "Epoch 7/20\n",
            "1125/1125 [==============================] - 3s 3ms/step - loss: 0.4738 - accuracy: 0.8752\n",
            "Epoch 8/20\n",
            "1125/1125 [==============================] - 3s 3ms/step - loss: 0.4405 - accuracy: 0.8828\n",
            "Epoch 9/20\n",
            "1125/1125 [==============================] - 3s 3ms/step - loss: 0.4156 - accuracy: 0.8874\n",
            "Epoch 10/20\n",
            "1125/1125 [==============================] - 4s 3ms/step - loss: 0.3957 - accuracy: 0.8911\n",
            "Epoch 11/20\n",
            "1125/1125 [==============================] - 3s 3ms/step - loss: 0.3798 - accuracy: 0.8946\n",
            "Epoch 12/20\n",
            "1125/1125 [==============================] - 3s 3ms/step - loss: 0.3664 - accuracy: 0.8980\n",
            "Epoch 13/20\n",
            "1125/1125 [==============================] - 3s 3ms/step - loss: 0.3550 - accuracy: 0.9006\n",
            "Epoch 14/20\n",
            "1125/1125 [==============================] - 3s 3ms/step - loss: 0.3450 - accuracy: 0.9031\n",
            "Epoch 15/20\n",
            "1125/1125 [==============================] - 3s 3ms/step - loss: 0.3363 - accuracy: 0.9047\n",
            "Epoch 16/20\n",
            "1125/1125 [==============================] - 3s 3ms/step - loss: 0.3283 - accuracy: 0.9069\n",
            "Epoch 17/20\n",
            "1125/1125 [==============================] - 3s 3ms/step - loss: 0.3212 - accuracy: 0.9089\n",
            "Epoch 18/20\n",
            "1125/1125 [==============================] - 3s 3ms/step - loss: 0.3145 - accuracy: 0.9104\n",
            "Epoch 19/20\n",
            "1125/1125 [==============================] - 3s 3ms/step - loss: 0.3084 - accuracy: 0.9120\n",
            "Epoch 20/20\n",
            "1125/1125 [==============================] - 3s 3ms/step - loss: 0.3029 - accuracy: 0.9136\n",
            "563/563 [==============================] - 1s 2ms/step\n",
            "[CV] END activation_function=tanh, n_hidden_neurons=200, optimizer__lr=0.001; total time= 1.2min\n"
          ]
        },
        {
          "name": "stderr",
          "output_type": "stream",
          "text": [
            "/usr/local/lib/python3.7/dist-packages/keras/optimizer_v2/gradient_descent.py:102: UserWarning: The `lr` argument is deprecated, use `learning_rate` instead.\n",
            "  super(SGD, self).__init__(name, **kwargs)\n"
          ]
        },
        {
          "name": "stdout",
          "output_type": "stream",
          "text": [
            "Epoch 1/20\n",
            "1125/1125 [==============================] - 4s 3ms/step - loss: 2.0390 - accuracy: 0.4159\n",
            "Epoch 2/20\n",
            "1125/1125 [==============================] - 3s 3ms/step - loss: 1.3681 - accuracy: 0.7495\n",
            "Epoch 3/20\n",
            "1125/1125 [==============================] - 3s 3ms/step - loss: 0.8938 - accuracy: 0.8122\n",
            "Epoch 4/20\n",
            "1125/1125 [==============================] - 3s 3ms/step - loss: 0.6783 - accuracy: 0.8394\n",
            "Epoch 5/20\n",
            "1125/1125 [==============================] - 3s 3ms/step - loss: 0.5705 - accuracy: 0.8556\n",
            "Epoch 6/20\n",
            "1125/1125 [==============================] - 3s 3ms/step - loss: 0.5061 - accuracy: 0.8686\n",
            "Epoch 7/20\n",
            "1125/1125 [==============================] - 3s 3ms/step - loss: 0.4630 - accuracy: 0.8772\n",
            "Epoch 8/20\n",
            "1125/1125 [==============================] - 3s 3ms/step - loss: 0.4321 - accuracy: 0.8831\n",
            "Epoch 9/20\n",
            "1125/1125 [==============================] - 3s 3ms/step - loss: 0.4086 - accuracy: 0.8874\n",
            "Epoch 10/20\n",
            "1125/1125 [==============================] - 3s 3ms/step - loss: 0.3900 - accuracy: 0.8914\n",
            "Epoch 11/20\n",
            "1125/1125 [==============================] - 3s 3ms/step - loss: 0.3750 - accuracy: 0.8950\n",
            "Epoch 12/20\n",
            "1125/1125 [==============================] - 3s 3ms/step - loss: 0.3623 - accuracy: 0.8981\n",
            "Epoch 13/20\n",
            "1125/1125 [==============================] - 3s 3ms/step - loss: 0.3512 - accuracy: 0.9007\n",
            "Epoch 14/20\n",
            "1125/1125 [==============================] - 3s 3ms/step - loss: 0.3419 - accuracy: 0.9031\n",
            "Epoch 15/20\n",
            "1125/1125 [==============================] - 3s 3ms/step - loss: 0.3335 - accuracy: 0.9057\n",
            "Epoch 16/20\n",
            "1125/1125 [==============================] - 3s 3ms/step - loss: 0.3257 - accuracy: 0.9073\n",
            "Epoch 17/20\n",
            "1125/1125 [==============================] - 3s 3ms/step - loss: 0.3190 - accuracy: 0.9089\n",
            "Epoch 18/20\n",
            "1125/1125 [==============================] - 3s 3ms/step - loss: 0.3127 - accuracy: 0.9102\n",
            "Epoch 19/20\n",
            "1125/1125 [==============================] - 3s 3ms/step - loss: 0.3067 - accuracy: 0.9127\n",
            "Epoch 20/20\n",
            "1125/1125 [==============================] - 3s 3ms/step - loss: 0.3014 - accuracy: 0.9137\n",
            "563/563 [==============================] - 1s 2ms/step\n",
            "[CV] END activation_function=tanh, n_hidden_neurons=200, optimizer__lr=0.001; total time= 1.4min\n"
          ]
        },
        {
          "name": "stderr",
          "output_type": "stream",
          "text": [
            "/usr/local/lib/python3.7/dist-packages/keras/optimizer_v2/gradient_descent.py:102: UserWarning: The `lr` argument is deprecated, use `learning_rate` instead.\n",
            "  super(SGD, self).__init__(name, **kwargs)\n"
          ]
        },
        {
          "name": "stdout",
          "output_type": "stream",
          "text": [
            "Epoch 1/20\n",
            "1125/1125 [==============================] - 4s 3ms/step - loss: 2.0666 - accuracy: 0.3705\n",
            "Epoch 2/20\n",
            "1125/1125 [==============================] - 3s 3ms/step - loss: 1.4346 - accuracy: 0.7269\n",
            "Epoch 3/20\n",
            "1125/1125 [==============================] - 4s 3ms/step - loss: 0.9402 - accuracy: 0.8096\n",
            "Epoch 4/20\n",
            "1125/1125 [==============================] - 4s 3ms/step - loss: 0.6996 - accuracy: 0.8416\n",
            "Epoch 5/20\n",
            "1125/1125 [==============================] - 3s 3ms/step - loss: 0.5802 - accuracy: 0.8596\n",
            "Epoch 6/20\n",
            "1125/1125 [==============================] - 3s 3ms/step - loss: 0.5107 - accuracy: 0.8702\n",
            "Epoch 7/20\n",
            "1125/1125 [==============================] - 3s 3ms/step - loss: 0.4653 - accuracy: 0.8795\n",
            "Epoch 8/20\n",
            "1125/1125 [==============================] - 3s 3ms/step - loss: 0.4331 - accuracy: 0.8848\n",
            "Epoch 9/20\n",
            "1125/1125 [==============================] - 3s 3ms/step - loss: 0.4091 - accuracy: 0.8896\n",
            "Epoch 10/20\n",
            "1125/1125 [==============================] - 4s 3ms/step - loss: 0.3902 - accuracy: 0.8928\n",
            "Epoch 11/20\n",
            "1125/1125 [==============================] - 4s 3ms/step - loss: 0.3750 - accuracy: 0.8964\n",
            "Epoch 12/20\n",
            "1125/1125 [==============================] - 3s 3ms/step - loss: 0.3623 - accuracy: 0.8991\n",
            "Epoch 13/20\n",
            "1125/1125 [==============================] - 4s 3ms/step - loss: 0.3516 - accuracy: 0.9014\n",
            "Epoch 14/20\n",
            "1125/1125 [==============================] - 3s 3ms/step - loss: 0.3422 - accuracy: 0.9047\n",
            "Epoch 15/20\n",
            "1125/1125 [==============================] - 3s 3ms/step - loss: 0.3339 - accuracy: 0.9068\n",
            "Epoch 16/20\n",
            "1125/1125 [==============================] - 3s 3ms/step - loss: 0.3264 - accuracy: 0.9085\n",
            "Epoch 17/20\n",
            "1125/1125 [==============================] - 3s 3ms/step - loss: 0.3197 - accuracy: 0.9101\n",
            "Epoch 18/20\n",
            "1125/1125 [==============================] - 3s 3ms/step - loss: 0.3134 - accuracy: 0.9121\n",
            "Epoch 19/20\n",
            "1125/1125 [==============================] - 3s 3ms/step - loss: 0.3078 - accuracy: 0.9134\n",
            "Epoch 20/20\n",
            "1125/1125 [==============================] - 3s 3ms/step - loss: 0.3025 - accuracy: 0.9147\n",
            "563/563 [==============================] - 1s 2ms/step\n",
            "[CV] END activation_function=tanh, n_hidden_neurons=200, optimizer__lr=0.001; total time= 1.2min\n"
          ]
        },
        {
          "name": "stderr",
          "output_type": "stream",
          "text": [
            "/usr/local/lib/python3.7/dist-packages/keras/optimizer_v2/gradient_descent.py:102: UserWarning: The `lr` argument is deprecated, use `learning_rate` instead.\n",
            "  super(SGD, self).__init__(name, **kwargs)\n"
          ]
        },
        {
          "name": "stdout",
          "output_type": "stream",
          "text": [
            "Epoch 1/20\n",
            "1688/1688 [==============================] - 6s 4ms/step - loss: 0.2802 - accuracy: 0.9169\n",
            "Epoch 2/20\n",
            "1688/1688 [==============================] - 6s 4ms/step - loss: 0.1169 - accuracy: 0.9646\n",
            "Epoch 3/20\n",
            "1688/1688 [==============================] - 6s 4ms/step - loss: 0.0793 - accuracy: 0.9754\n",
            "Epoch 4/20\n",
            "1688/1688 [==============================] - 6s 4ms/step - loss: 0.0590 - accuracy: 0.9814\n",
            "Epoch 5/20\n",
            "1688/1688 [==============================] - 6s 4ms/step - loss: 0.0444 - accuracy: 0.9862\n",
            "Epoch 6/20\n",
            "1688/1688 [==============================] - 6s 4ms/step - loss: 0.0346 - accuracy: 0.9892\n",
            "Epoch 7/20\n",
            "1688/1688 [==============================] - 6s 4ms/step - loss: 0.0255 - accuracy: 0.9922\n",
            "Epoch 8/20\n",
            "1688/1688 [==============================] - 6s 4ms/step - loss: 0.0196 - accuracy: 0.9943\n",
            "Epoch 9/20\n",
            "1688/1688 [==============================] - 6s 4ms/step - loss: 0.0138 - accuracy: 0.9963\n",
            "Epoch 10/20\n",
            "1688/1688 [==============================] - 6s 4ms/step - loss: 0.0103 - accuracy: 0.9976\n",
            "Epoch 11/20\n",
            "1688/1688 [==============================] - 6s 4ms/step - loss: 0.0076 - accuracy: 0.9982\n",
            "Epoch 12/20\n",
            "1688/1688 [==============================] - 6s 4ms/step - loss: 0.0053 - accuracy: 0.9991\n",
            "Epoch 13/20\n",
            "1688/1688 [==============================] - 6s 4ms/step - loss: 0.0040 - accuracy: 0.9992\n",
            "Epoch 14/20\n",
            "1688/1688 [==============================] - 6s 4ms/step - loss: 0.0025 - accuracy: 0.9997\n",
            "Epoch 15/20\n",
            "1688/1688 [==============================] - 6s 4ms/step - loss: 0.0016 - accuracy: 0.9999\n",
            "Epoch 16/20\n",
            "1688/1688 [==============================] - 6s 4ms/step - loss: 0.0012 - accuracy: 1.0000\n",
            "Epoch 17/20\n",
            "1688/1688 [==============================] - 6s 4ms/step - loss: 0.0010 - accuracy: 1.0000\n",
            "Epoch 18/20\n",
            "1688/1688 [==============================] - 6s 4ms/step - loss: 8.3643e-04 - accuracy: 1.0000\n",
            "Epoch 19/20\n",
            "1688/1688 [==============================] - 6s 4ms/step - loss: 7.5387e-04 - accuracy: 1.0000\n",
            "Epoch 20/20\n",
            "1688/1688 [==============================] - 6s 4ms/step - loss: 6.5531e-04 - accuracy: 1.0000\n"
          ]
        },
        {
          "data": {
            "text/plain": [
              "GridSearchCV(cv=3,\n",
              "             estimator=KerasClassifier(activation_function='relu', loss='sparse_categorical_crossentropy', metrics=['accuracy'], model=<function build_mlp at 0x7f7de24aaef0>, n_hidden_layers=2, n_hidden_neurons=50, optimizer='sgd', optimizer__lr=0.01),\n",
              "             param_grid={'activation_function': ['relu', 'sigmoid', 'tanh'],\n",
              "                         'n_hidden_neurons': [100, 200],\n",
              "                         'optimizer__lr': [0.1, 0.01, 0.001]},\n",
              "             verbose=2)"
            ]
          },
          "execution_count": 63,
          "metadata": {},
          "output_type": "execute_result"
        }
      ],
      "source": [
        "\"\"\"This cell has a long runtime. Not recommended during lab.\"\"\"\n",
        "from sklearn.model_selection import GridSearchCV\n",
        "\n",
        "param_grid = {\n",
        "    \"n_hidden_neurons\": [100, 200],\n",
        "    \"optimizer__lr\": [0.1, 0.01, 0.001],\n",
        "    \"activation_function\": [\"relu\", \"sigmoid\", \"tanh\"]\n",
        "}\n",
        "\n",
        "grid_search_cv = GridSearchCV(keras_classifier, param_grid, cv=3, verbose=2)\n",
        "grid_search_cv.fit(X_train, y_train, epochs=20)"
      ],
      "id": "A5cAu-zZRB9p"
    },
    {
      "cell_type": "code",
      "execution_count": null,
      "metadata": {
        "colab": {
          "base_uri": "https://localhost:8080/"
        },
        "id": "016f0a3d",
        "outputId": "8fa5f636-072f-4d29-e6f7-c8f0946f12b3"
      },
      "outputs": [
        {
          "name": "stdout",
          "output_type": "stream",
          "text": [
            "{'activation_function': 'sigmoid', 'n_hidden_neurons': 200, 'optimizer__lr': 0.1}\n"
          ]
        }
      ],
      "source": [
        "print(grid_search_cv.best_params_)\n",
        "best_model = grid_search_cv.best_estimator_.model"
      ],
      "id": "016f0a3d"
    },
    {
      "cell_type": "markdown",
      "id": "346c7dbe",
      "metadata": {
        "id": "346c7dbe"
      },
      "source": [
        "For even larger models than the MLPs we have considered here, exhaustive grid search and cross validation quickly become infeasible. Other than using more powerful hardware, one approach is to run a broad initial search using the validation set, and then narrow the search space once appropriate starting parameters are identified. There also exist many algorithsm to more efficiently search the hyperparameter space such as Bayesian Search. Ultimately, however, there is no escpaing neural network's need for computation power and their long runtimes. This is one reason why neural networks are not always the most appropriate solution to your problem."
      ]
    },
    {
      "cell_type": "markdown",
      "id": "c61c87df",
      "metadata": {
        "id": "c61c87df"
      },
      "source": [
        "## 5. Task - Using an MLP for Regression\n",
        "\n",
        "Today we have demonstrated how to create an image classifier MLP. Beyond multi-class classification problems, MLPs can also be used to solve other types of problems, such as regression and binary classification.\n",
        "\n",
        "To create an MLP for one of these different problems, you will need to change the output encoding.\n",
        "\n",
        "For example, a binary classifier should have 1 output neuron and use a logistic output layer activation (values close to 0 represent class 0, values close to 1 represent class 1).\n",
        "\n",
        "For a regression problem, there should be one output neuron per prediction required. No output activation is necessarily required, but ReLU may be used if the output must be positive, and sigmoid/tanh can be used for bounded outputs. The other change for regression problems is the loss function (cross entropy is not appropriate for regression). Mean squared error (MSE) ([Keras documentation](https://keras.io/api/losses/)) is often used."
      ]
    },
    {
      "cell_type": "markdown",
      "id": "af4404a9",
      "metadata": {
        "id": "af4404a9"
      },
      "source": [
        "Below we have loaded and preprocessed the Boston Housing dataset, which contains 13 numerical attibutes of houses of Boston suburbs in the late 1970s. The target variable is the house price in thousands of dollars. For more details on the actual attributes, you can view this [link](http://lib.stat.cmu.edu/datasets/boston)."
      ]
    },
    {
      "cell_type": "code",
      "execution_count": null,
      "id": "e481c28a",
      "metadata": {
        "colab": {
          "base_uri": "https://localhost:8080/"
        },
        "id": "e481c28a",
        "outputId": "b7f1e7fc-2fde-49c9-9c81-010482e88acb"
      },
      "outputs": [
        {
          "output_type": "stream",
          "name": "stdout",
          "text": [
            "Downloading data from https://storage.googleapis.com/tensorflow/tf-keras-datasets/boston_housing.npz\n",
            "57026/57026 [==============================] - 0s 1us/step\n"
          ]
        }
      ],
      "source": [
        "# Load the Boston Housing data\n",
        "(X_train_full, y_train_full), (X_test, y_test) = keras.datasets.boston_housing.load_data()"
      ]
    },
    {
      "cell_type": "code",
      "execution_count": null,
      "id": "74261d07",
      "metadata": {
        "colab": {
          "base_uri": "https://localhost:8080/"
        },
        "id": "74261d07",
        "outputId": "d281b7e2-231a-417b-e0d7-9292da1468ed"
      },
      "outputs": [
        {
          "output_type": "stream",
          "name": "stdout",
          "text": [
            "Shape of X_train_full: (404, 13)\n",
            "Shape of y_train_full: (404,)\n",
            "Shape of X_test: (102, 13)\n",
            "Shape of y_test: (102,)\n"
          ]
        }
      ],
      "source": [
        "print(f\"Shape of X_train_full: {X_train_full.shape}\")\n",
        "print(f\"Shape of y_train_full: {y_train_full.shape}\")\n",
        "print(f\"Shape of X_test: {X_test.shape}\")\n",
        "print(f\"Shape of y_test: {y_test.shape}\")"
      ]
    },
    {
      "cell_type": "code",
      "execution_count": null,
      "id": "a957098e",
      "metadata": {
        "id": "a957098e"
      },
      "outputs": [],
      "source": [
        "np.random.seed(42)\n",
        "tf.random.set_seed(42)\n",
        "keras.backend.clear_session()"
      ]
    },
    {
      "cell_type": "code",
      "execution_count": null,
      "id": "f64c8b29",
      "metadata": {
        "id": "f64c8b29"
      },
      "outputs": [],
      "source": [
        "from sklearn.preprocessing import StandardScaler\n",
        "\n",
        "# Create a validation set\n",
        "X_train, X_valid, y_train, y_valid = train_test_split(X_train_full, y_train_full, random_state=42)\n",
        "\n",
        "# Standardise the data\n",
        "scaler = StandardScaler()\n",
        "X_train = scaler.fit_transform(X_train)\n",
        "X_valid = scaler.transform(X_valid)\n",
        "X_test = scaler.transform(X_test)"
      ]
    },
    {
      "cell_type": "markdown",
      "id": "2f8e628d",
      "metadata": {
        "id": "2f8e628d"
      },
      "source": [
        "### Task\n",
        "Define, **train and evaluate a regression MLP on this dataset**. To achieve this, you will need to:\n",
        "- Remember to adjust the input shape and output layer appropriately for this dataset\n",
        "- Compile the model with an appropriate loss function\n",
        "- Interpret the evaluation, since for this regression problem accuracy is not a valid metric"
      ]
    },
    {
      "cell_type": "markdown",
      "id": "b6ff31b1",
      "metadata": {
        "id": "b6ff31b1"
      },
      "source": [
        "### Solution:\n",
        "\n",
        "This is one possible simple solution using the same hidden layer structure as above."
      ]
    },
    {
      "cell_type": "code",
      "execution_count": null,
      "id": "dd0991c9",
      "metadata": {
        "id": "dd0991c9"
      },
      "outputs": [],
      "source": [
        "# Define our Keras model with appropriate input size and output\n",
        "model = keras.Sequential([\n",
        "    keras.layers.Dense(300, activation=\"relu\", input_shape=X_train.shape[1:]),\n",
        "    keras.layers.Dense(100, activation=\"relu\"),\n",
        "    keras.layers.Dense(1)\n",
        "])\n",
        "\n",
        "# Compile model with MSE loss\n",
        "model.compile(loss=\"mean_squared_error\", optimizer=keras.optimizers.SGD(learning_rate=1e-3))"
      ]
    },
    {
      "cell_type": "code",
      "execution_count": null,
      "id": "876bc46e",
      "metadata": {
        "colab": {
          "base_uri": "https://localhost:8080/"
        },
        "id": "876bc46e",
        "outputId": "e6810ea7-7c3c-4c30-c34d-87943fcc1060"
      },
      "outputs": [
        {
          "output_type": "stream",
          "name": "stdout",
          "text": [
            "Epoch 1/20\n",
            "10/10 [==============================] - 2s 19ms/step - loss: 529.1935 - val_loss: 298.1467\n",
            "Epoch 2/20\n",
            "10/10 [==============================] - 0s 8ms/step - loss: 172.6203 - val_loss: 69.2144\n",
            "Epoch 3/20\n",
            "10/10 [==============================] - 0s 12ms/step - loss: 50.3261 - val_loss: 33.6755\n",
            "Epoch 4/20\n",
            "10/10 [==============================] - 0s 13ms/step - loss: 30.5413 - val_loss: 25.1286\n",
            "Epoch 5/20\n",
            "10/10 [==============================] - 0s 11ms/step - loss: 24.4621 - val_loss: 18.8986\n",
            "Epoch 6/20\n",
            "10/10 [==============================] - 0s 12ms/step - loss: 21.7018 - val_loss: 16.5547\n",
            "Epoch 7/20\n",
            "10/10 [==============================] - 0s 12ms/step - loss: 19.7493 - val_loss: 14.8200\n",
            "Epoch 8/20\n",
            "10/10 [==============================] - 0s 19ms/step - loss: 18.1297 - val_loss: 13.8111\n",
            "Epoch 9/20\n",
            "10/10 [==============================] - 0s 11ms/step - loss: 17.2429 - val_loss: 12.6125\n",
            "Epoch 10/20\n",
            "10/10 [==============================] - 0s 13ms/step - loss: 16.2605 - val_loss: 12.0030\n",
            "Epoch 11/20\n",
            "10/10 [==============================] - 0s 11ms/step - loss: 15.6216 - val_loss: 11.3188\n",
            "Epoch 12/20\n",
            "10/10 [==============================] - 0s 11ms/step - loss: 15.1324 - val_loss: 11.0507\n",
            "Epoch 13/20\n",
            "10/10 [==============================] - 0s 11ms/step - loss: 14.2934 - val_loss: 10.2188\n",
            "Epoch 14/20\n",
            "10/10 [==============================] - 0s 21ms/step - loss: 13.6779 - val_loss: 9.9372\n",
            "Epoch 15/20\n",
            "10/10 [==============================] - 0s 18ms/step - loss: 13.4419 - val_loss: 9.5866\n",
            "Epoch 16/20\n",
            "10/10 [==============================] - 0s 21ms/step - loss: 12.4714 - val_loss: 10.2696\n",
            "Epoch 17/20\n",
            "10/10 [==============================] - 0s 24ms/step - loss: 12.3470 - val_loss: 9.2331\n",
            "Epoch 18/20\n",
            "10/10 [==============================] - 0s 24ms/step - loss: 11.6568 - val_loss: 10.1569\n",
            "Epoch 19/20\n",
            "10/10 [==============================] - 0s 20ms/step - loss: 11.7054 - val_loss: 8.9772\n",
            "Epoch 20/20\n",
            "10/10 [==============================] - 0s 15ms/step - loss: 11.0964 - val_loss: 10.9195\n"
          ]
        }
      ],
      "source": [
        "# Train the model\n",
        "history = model.fit(X_train, y_train, epochs=20, validation_data=(X_valid, y_valid))"
      ]
    },
    {
      "cell_type": "code",
      "execution_count": null,
      "id": "caf6c20b",
      "metadata": {
        "colab": {
          "base_uri": "https://localhost:8080/"
        },
        "id": "caf6c20b",
        "outputId": "fae086bd-8d86-462b-fa91-3fcedeb97f89"
      },
      "outputs": [
        {
          "output_type": "stream",
          "name": "stdout",
          "text": [
            "4/4 [==============================] - 0s 8ms/step - loss: 24.9306\n"
          ]
        }
      ],
      "source": [
        "# Evaluate the model using MSE as a metric\n",
        "mse_test = model.evaluate(X_test, y_test)"
      ]
    },
    {
      "cell_type": "code",
      "execution_count": null,
      "id": "a5aaabff",
      "metadata": {
        "colab": {
          "base_uri": "https://localhost:8080/"
        },
        "id": "a5aaabff",
        "outputId": "5bfd31fc-6f88-48b7-b2b9-3b9bb594abca"
      },
      "outputs": [
        {
          "output_type": "stream",
          "name": "stdout",
          "text": [
            "1/1 [==============================] - 0s 46ms/step\n",
            "Model prediction: 10.50; True value: 7.2\n",
            "Model prediction: 16.70; True value: 18.8\n",
            "Model prediction: 21.47; True value: 19.0\n"
          ]
        }
      ],
      "source": [
        "# Examine several model predictions\n",
        "y_pred = model.predict(X_test[:3])\n",
        "\n",
        "for i in range(3):\n",
        "    print(f\"Model prediction: {y_pred[i][0]:.2f}; True value: {y_test[i]}\")"
      ]
    },
    {
      "cell_type": "markdown",
      "id": "0d08bbda",
      "metadata": {
        "id": "0d08bbda"
      },
      "source": [
        "## 6. Summary"
      ]
    },
    {
      "cell_type": "markdown",
      "id": "b58584ac",
      "metadata": {
        "id": "b58584ac"
      },
      "source": [
        "Today, we have only scratched the surface of Keras' functionality. It is a rich library with lots of possible customisation, and a 'Functional API' ([documentation](https://keras.io/guides/functional_api/)) to create more complex models. Nevertheless, hopefully this provides a springboard for your further study and utilisation of deep learning libraries."
      ]
    },
    {
      "cell_type": "code",
      "execution_count": null,
      "id": "f2f70b98",
      "metadata": {
        "id": "f2f70b98"
      },
      "outputs": [],
      "source": [
        "model = keras.models.Sequential([\n",
        "    keras.layers.Flatten(input_shape=[28, 28]),\n",
        "    keras.layers.Dense(300, activation=\"tanh\"),\n",
        "    keras.layers.Dense(100, activation=\"tanh\"),\n",
        "    keras.layers.Dense(10, activation=\"softmax\")\n",
        "])\n",
        "\n",
        "opt = keras.optimizers.SGD(learning_rate=5e-2)\n",
        "model.compile(loss='sparse_categorical_crossentropy',\n",
        "              optimizer=opt,\n",
        "              metrics=['accuracy'])\n",
        "\n",
        "history = model.fit(X_train, y_train, epochs=20,\n",
        "                    validation_data=(X_valid, y_valid))\n",
        "\n",
        "loss, accuracy = model.evaluate(X_test, y_test)\n",
        "print(f\"Accuracy on test data: {accuracy:.4f}\")"
      ]
    },
    {
      "cell_type": "markdown",
      "id": "a582db77",
      "metadata": {
        "id": "a582db77"
      },
      "source": [
        "## Acknowledgements\n",
        "\n",
        "This tutorial is based on:\n",
        "\n",
        "Aurelien Geron (2019). Hands-on Machine Learning with Scikit-Learn, Keras and TensorFlow, O'Reilly."
      ]
    }
  ],
  "metadata": {
    "kernelspec": {
      "display_name": "Python 3 (ipykernel)",
      "language": "python",
      "name": "python3"
    },
    "language_info": {
      "codemirror_mode": {
        "name": "ipython",
        "version": 3
      },
      "file_extension": ".py",
      "mimetype": "text/x-python",
      "name": "python",
      "nbconvert_exporter": "python",
      "pygments_lexer": "ipython3",
      "version": "3.8.5"
    },
    "colab": {
      "provenance": [],
      "collapsed_sections": [
        "1bc99a5c",
        "LyT0TQQ4em_T",
        "2f8e628d",
        "b6ff31b1"
      ]
    },
    "accelerator": "GPU"
  },
  "nbformat": 4,
  "nbformat_minor": 5
}